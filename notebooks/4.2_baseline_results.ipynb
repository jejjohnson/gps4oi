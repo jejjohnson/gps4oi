{
 "cells": [
  {
   "cell_type": "code",
   "execution_count": null,
   "id": "9c31b97f-1b62-45f7-b283-0095d0ab2771",
   "metadata": {},
   "outputs": [],
   "source": [
    "import sys, os\n",
    "from pyprojroot import here\n",
    "\n",
    "\n",
    "# spyder up to find the root\n",
    "# root = here(project_files=[\".here\"])\n",
    "local = here(project_files=[\".root\"])\n",
    "\n",
    "# append to path\n",
    "# sys.path.append(str(root))\n",
    "sys.path.append(str(local))"
   ]
  },
  {
   "cell_type": "code",
   "execution_count": null,
   "id": "c29fb9ee-1f7d-479b-a14d-afb5c28f1c86",
   "metadata": {},
   "outputs": [],
   "source": [
    "import xarray as xr\n",
    "import numpy as np\n",
    "import requests as rq\n",
    "import matplotlib.pyplot as plt\n",
    "from matplotlib.patches import Rectangle\n",
    "\n",
    "from tqdm.notebook import tqdm, trange\n",
    "from kernellib.types import GeoData, Dimensions\n",
    "from kernellib.kernels import SpatioTemporalKernel\n",
    "from kernellib.preprocessing import create_oi_grid\n",
    "from kernellib.dat.oi import reformat_oi_output\n",
    "from kernellib.dat.l3 import read_l3_data\n",
    "from kernellib.dat.l4 import read_l4_data\n",
    "from kernellib.features.interp import interp_on_alongtrack\n",
    "from kernellib.features.config import load_test_aoi\n",
    "import hvplot.xarray\n",
    "from pathlib import Path\n",
    "\n",
    "%load_ext autoreload\n",
    "%autoreload 2\n",
    "# %load_ext memory_profiler"
   ]
  },
  {
   "cell_type": "markdown",
   "id": "df29e3a9-db2d-46da-bb27-f519b023d39c",
   "metadata": {},
   "source": [
    "## Config"
   ]
  },
  {
   "cell_type": "code",
   "execution_count": null,
   "id": "d60e5c40-a92b-4c81-8fe1-ff6a553306d7",
   "metadata": {},
   "outputs": [],
   "source": [
    "from dataclasses import dataclass\n",
    "\n",
    "@dataclass\n",
    "class Params:\n",
    "    # test data\n",
    "    test_data_dir = \"/bettik/johnsonj/data/data_challenges/ssh_mapping_2021/raw/netcdf\"\n",
    "    test_data_filename = \"dt_gulfstream_c2_phy_l3_20161201-20180131_285-315_23-53.nc\"\n",
    "    aoi = load_test_aoi()\n",
    "    \n",
    "    # ref data\n",
    "    ref_data_dir = \"/bettik/johnsonj/data/data_challenges/ssh_mapping_2021/raw/netcdf\"\n",
    "    ref_data_filename = \"mdt.nc\"\n",
    "    \n",
    "    # results data\n",
    "    results_dir = \"/bettik/johnsonj/data/data_challenges/ssh_mapping_2021/interim\"\n",
    "    results_filename = \"OSE_ssh_mapping_BASELINE.nc\"\n",
    "    \n",
    "    # stats data\n",
    "    stats_dir = \"/bettik/johnsonj/data/data_challenges/ssh_mapping_2021/interim\"\n",
    "    \n",
    "    "
   ]
  },
  {
   "cell_type": "code",
   "execution_count": null,
   "id": "0f2be3c7-32ac-4263-a631-12f86f32a4ce",
   "metadata": {},
   "outputs": [],
   "source": [
    "from kernellib.pipeline.results import run_results_pipeline\n"
   ]
  },
  {
   "cell_type": "code",
   "execution_count": null,
   "id": "80c7e610-9e02-45db-8584-f9de65eac902",
   "metadata": {},
   "outputs": [],
   "source": [
    "from omegaconf import OmegaConf\n",
    "\n",
    "# init config file\n",
    "config = Params()\n",
    "# config = OmegaConf.structured(Params)\n",
    "\n",
    "# run_results_pipeline(params)"
   ]
  },
  {
   "cell_type": "code",
   "execution_count": null,
   "id": "6e3104f0-1091-4f9a-901d-86b0c734df6b",
   "metadata": {},
   "outputs": [],
   "source": [
    "config"
   ]
  },
  {
   "cell_type": "code",
   "execution_count": null,
   "id": "3e504d4a-06f9-4afd-a413-130d378c3fae",
   "metadata": {},
   "outputs": [],
   "source": [
    "from kernellib.dat.l3 import read_l3_data\n",
    "\n",
    "# load test data\n",
    "print(\"opening test dataset...\")\n",
    "ds_along_track = read_l3_data(\n",
    "    Path(config.test_data_dir).joinpath(config.test_data_filename), \n",
    "    config.aoi\n",
    ")"
   ]
  },
  {
   "cell_type": "code",
   "execution_count": null,
   "id": "424e02f7-02d7-494e-bf5a-023dfefc1482",
   "metadata": {},
   "outputs": [],
   "source": [
    "# load oi results\n",
    "print(\"opening oi results...\")\n",
    "ds_oi = xr.open_dataset(\n",
    "    Path(config.results_dir).joinpath(config.results_filename)\n",
    ")"
   ]
  },
  {
   "cell_type": "code",
   "execution_count": null,
   "id": "2b495880-25a7-4c36-b514-ff6d9786adc7",
   "metadata": {},
   "outputs": [],
   "source": [
    "from kernellib.dat.oi import reformat_oi_output\n",
    "\n",
    "# reformat oi results\n",
    "print(\"reformatting oi results...\")\n",
    "ref_ds = xr.open_dataset(\n",
    "    Path(config.ref_data_dir).joinpath(config.ref_data_filename)\n",
    ")\n",
    "ds_oi = reformat_oi_output(ds_oi, ref_ds)"
   ]
  },
  {
   "cell_type": "code",
   "execution_count": null,
   "id": "c91a21e6-2dc9-44cc-8b29-f5965b9fbc09",
   "metadata": {},
   "outputs": [],
   "source": [
    "from kernellib.features.interp import interp_on_alongtrack\n",
    "\n",
    "# interpolation\n",
    "print(\"interpolating along track...\")\n",
    "time_alongtrack, lat_alongtrack, lon_alongtrack, ssh_alongtrack, ssh_map_interp = interp_on_alongtrack(\n",
    "    ds_oi, \n",
    "    ds_along_track,\n",
    "    aoi=config.aoi,\n",
    "    is_circle=True\n",
    ")"
   ]
  },
  {
   "cell_type": "code",
   "execution_count": null,
   "id": "ab78b172-7155-4668-90f1-9c3328a991cc",
   "metadata": {},
   "outputs": [],
   "source": [
    "from kernellib.utils import ResultsFileName\n",
    "\n",
    "filenames = ResultsFileName(filename=config.results_filename)"
   ]
  },
  {
   "cell_type": "code",
   "execution_count": null,
   "id": "73f79a4a-2047-42b7-a436-088a78a22303",
   "metadata": {},
   "outputs": [],
   "source": [
    "filenames.stats_filename"
   ]
  },
  {
   "cell_type": "code",
   "execution_count": null,
   "id": "54e6a7b1-87db-499a-9dbe-03d7e08aaf99",
   "metadata": {},
   "outputs": [],
   "source": [
    "%%time\n",
    "\n",
    "from kernellib.types import RMSEBinning\n",
    "from kernellib.features.stats.base import compute_stats\n",
    "\n",
    "rmse_binning = RMSEBinning()\n",
    "\n",
    "# stats config\n",
    "leaderboard_nrmse, leaderboard_nrmse_std = compute_stats(\n",
    "    time_alongtrack, \n",
    "    lat_alongtrack, \n",
    "    lon_alongtrack, \n",
    "    ssh_alongtrack, \n",
    "    ssh_map_interp, \n",
    "    rmse_binning.bin_lon_step,\n",
    "    rmse_binning.bin_lat_step, \n",
    "    rmse_binning.bin_time_step,\n",
    "    Path(config.results_dir).joinpath(f\"stats_{config.results_filename}\"),\n",
    "    Path(config.results_dir).joinpath(f\"stats_ts_{config.results_filename}\"),\n",
    ")"
   ]
  },
  {
   "cell_type": "code",
   "execution_count": null,
   "id": "f12d9374-064c-4c3c-b054-aa77bb83d809",
   "metadata": {},
   "outputs": [],
   "source": [
    "from kernellib.viz.spatial import plot_spatial_statistics\n",
    "\n",
    "plot_spatial_statistics(Path(config.results_dir).joinpath(f\"stats_{config.results_filename}\"))"
   ]
  },
  {
   "cell_type": "code",
   "execution_count": null,
   "id": "971a7162-d9e3-4264-beba-b1c4a761efe6",
   "metadata": {},
   "outputs": [],
   "source": [
    "from kernellib.viz.temporal import plot_temporal_statistics\n",
    "\n",
    "plot_temporal_statistics(\n",
    "    Path(config.results_dir).joinpath(f\"stats_ts_{config.results_filename}\")\n",
    ")"
   ]
  },
  {
   "cell_type": "code",
   "execution_count": null,
   "id": "e8b317a0-e5e4-41bd-bb02-f23b75501145",
   "metadata": {},
   "outputs": [],
   "source": [
    "t = str(Path(config.results_dir).joinpath(f\"psd_{config.results_filename}\"))\n",
    "!rm $t"
   ]
  },
  {
   "cell_type": "code",
   "execution_count": null,
   "id": "c1e2a86f-ba27-4054-8837-548b4fb3c0bb",
   "metadata": {},
   "outputs": [],
   "source": [
    "from kernellib.types import SpectralStats\n",
    "from kernellib.features.stats.spectral import compute_spectral_scores\n",
    "\n",
    "psd_stats = SpectralStats()\n",
    "\n",
    "\n",
    "\n",
    "compute_spectral_scores(\n",
    "    time_alongtrack, \n",
    "    lat_alongtrack, \n",
    "    lon_alongtrack, \n",
    "    ssh_alongtrack, \n",
    "    ssh_map_interp, \n",
    "    psd_stats.length_scale,\n",
    "    psd_stats.delta_x,\n",
    "    psd_stats.delta_t,\n",
    "    Path(config.results_dir).joinpath(f\"psd_{config.results_filename}\")\n",
    ")"
   ]
  },
  {
   "cell_type": "code",
   "execution_count": null,
   "id": "3519e1c3-9eb9-4505-ae08-aa6dc8401b0b",
   "metadata": {},
   "outputs": [],
   "source": [
    "from kernellib.viz.psd import plot_psd_score\n",
    "\n",
    "plot_psd_score(Path(config.results_dir).joinpath(f\"psd_{config.results_filename}\"))"
   ]
  },
  {
   "cell_type": "code",
   "execution_count": null,
   "id": "e34c5e59-228e-40c3-8b6e-d01a32d978cd",
   "metadata": {},
   "outputs": [],
   "source": [
    "# ds_oi_baseline.gssh_mu.hvplot.image(width=500, height=400, cmap=\"RdBu_r\")"
   ]
  },
  {
   "cell_type": "code",
   "execution_count": null,
   "id": "4cf8705a-ed31-4a0b-9af3-e856d035c17d",
   "metadata": {},
   "outputs": [],
   "source": [
    "# ds_oi_baseline.gssh_var.hvplot.image(width=500, height=400, cmap=\"viridis_r\")"
   ]
  },
  {
   "cell_type": "code",
   "execution_count": null,
   "id": "08c69db3-0a09-48e2-8a7f-eb1442b24f41",
   "metadata": {},
   "outputs": [],
   "source": [
    "# ds_oi_baseline.gssh_samples.hvplot.image(\"lat\", \"lon\", width=500, height=400, cmap=\"RdBu_r\")"
   ]
  },
  {
   "cell_type": "markdown",
   "id": "f6e819bf-29de-4c25-8a72-6965d28e4fc8",
   "metadata": {},
   "source": [
    "## Leaderboard"
   ]
  },
  {
   "cell_type": "code",
   "execution_count": null,
   "id": "b45a1656-538f-419f-bf1e-0446422766ed",
   "metadata": {},
   "outputs": [],
   "source": [
    "import pandas as pd\n",
    "# Print leaderboard\n",
    "data = [['BASELINE', \n",
    "         leaderboard_nrmse, \n",
    "         leaderboard_nrmse_std, \n",
    "         int(leaderboard_psds_score),\n",
    "        'Covariances BASELINE OI',\n",
    "        'example_eval_baseline.ipynb']]\n",
    "Leaderboard = pd.DataFrame(data, \n",
    "                           columns=['Method', \n",
    "                                    \"µ(RMSE) \", \n",
    "                                    \"σ(RMSE)\", \n",
    "                                    'λx (km)',  \n",
    "                                    'Notes',\n",
    "                                    'Reference'])\n",
    "print(\"Summary of the leaderboard metrics:\")\n",
    "Leaderboard\n",
    "print(Leaderboard.to_markdown())"
   ]
  }
 ],
 "metadata": {
  "kernelspec": {
   "display_name": "Python [conda env:.conda-oi_torch_py39]",
   "language": "python",
   "name": "conda-env-.conda-oi_torch_py39-py"
  },
  "language_info": {
   "codemirror_mode": {
    "name": "ipython",
    "version": 3
   },
   "file_extension": ".py",
   "mimetype": "text/x-python",
   "name": "python",
   "nbconvert_exporter": "python",
   "pygments_lexer": "ipython3",
   "version": "3.9.7"
  }
 },
 "nbformat": 4,
 "nbformat_minor": 5
}

{
 "cells": [
  {
   "cell_type": "code",
   "execution_count": 106,
   "id": "1249b7eb-ddd1-4e50-a6d5-50841c9dbdab",
   "metadata": {},
   "outputs": [],
   "source": [
    "import sys, os\n",
    "from pyprojroot import here\n",
    "\n",
    "\n",
    "# spyder up to find the root\n",
    "\n",
    "local = here(project_files=[\".local\"])\n",
    "\n",
    "# append to path\n",
    "sys.path.append(str(local))"
   ]
  },
  {
   "cell_type": "code",
   "execution_count": 107,
   "id": "b94eb9e2-369d-417b-89aa-53b141249764",
   "metadata": {},
   "outputs": [
    {
     "name": "stdout",
     "output_type": "stream",
     "text": [
      "The autoreload extension is already loaded. To reload it, use:\n",
      "  %reload_ext autoreload\n"
     ]
    },
    {
     "name": "stderr",
     "output_type": "stream",
     "text": [
      "Exception in thread NetStatThr:\n",
      "Traceback (most recent call last):\n",
      "  File \"/home/johnsonj/miniconda3/envs/jax_cpu_py39/lib/python3.9/threading.py\", line 973, in _bootstrap_inner\n",
      "    self.run()\n",
      "  File \"/home/johnsonj/miniconda3/envs/jax_cpu_py39/lib/python3.9/threading.py\", line 910, in run\n",
      "    self._target(*self._args, **self._kwargs)\n",
      "  File \"/home/johnsonj/miniconda3/envs/jax_cpu_py39/lib/python3.9/site-packages/wandb/sdk/wandb_run.py\", line 152, in check_network_status\n",
      "    status_response = self._interface.communicate_network_status()\n",
      "  File \"/home/johnsonj/miniconda3/envs/jax_cpu_py39/lib/python3.9/site-packages/wandb/sdk/interface/interface.py\", line 125, in communicate_network_status\n",
      "    resp = self._communicate_network_status(status)\n",
      "  File \"/home/johnsonj/miniconda3/envs/jax_cpu_py39/lib/python3.9/site-packages/wandb/sdk/interface/interface_shared.py\", line 405, in _communicate_network_status\n",
      "    resp = self._communicate(req, local=True)\n",
      "  File \"/home/johnsonj/miniconda3/envs/jax_cpu_py39/lib/python3.9/site-packages/wandb/sdk/interface/interface_shared.py\", line 226, in _communicate\n",
      "    return self._communicate_async(rec, local=local).get(timeout=timeout)\n",
      "  File \"/home/johnsonj/miniconda3/envs/jax_cpu_py39/lib/python3.9/site-packages/wandb/sdk/interface/interface_shared.py\", line 231, in _communicate_async\n",
      "    raise Exception(\"The wandb backend process has shutdown\")\n",
      "Exception: The wandb backend process has shutdown\n"
     ]
    }
   ],
   "source": [
    "import jax\n",
    "import jax.numpy as jnp\n",
    "import jax.random as jrandom\n",
    "import optax\n",
    "import pyinterp\n",
    "import equinox as eqx\n",
    "from einops import rearrange\n",
    "import numpy as np\n",
    "import xarray as xr\n",
    "import pandas as pd\n",
    "\n",
    "import tqdm.notebook as tqdm\n",
    "\n",
    "from sklearn.preprocessing import MinMaxScaler\n",
    "from sklearn.model_selection import train_test_split\n",
    "from sklearn.metrics import mean_absolute_error, mean_squared_error\n",
    "\n",
    "import matplotlib.pyplot as plt\n",
    "import hvplot.xarray\n",
    "from xmovie import Movie\n",
    "import seaborn as sns\n",
    "sns.reset_defaults()\n",
    "sns.set_context(context=\"talk\", font_scale=0.7)\n",
    "\n",
    "from src.data import make_mini_batcher\n",
    "from src.mlp import MLPNet\n",
    "from src.siren import SirenNet\n",
    "from src.stats import calculate_nrmse, compute_ts_stats\n",
    "from src.utils import get_meshgrid, calculate_gradient, calculate_laplacian\n",
    "from src.psd import select_track_segments, find_wavelength_crossing, compute_psd_scores\n",
    "from src.viz import plot_psd_spectrum, plot_psd_score\n",
    "\n",
    "import wandb\n",
    "\n",
    "%matplotlib inline\n",
    "%load_ext autoreload\n",
    "%autoreload 2"
   ]
  },
  {
   "cell_type": "code",
   "execution_count": 3,
   "id": "1b2e47ab-54db-46ef-8742-3dd54b167ee9",
   "metadata": {},
   "outputs": [
    {
     "name": "stderr",
     "output_type": "stream",
     "text": [
      "Failed to detect the name of this notebook, you can set it manually with the WANDB_NOTEBOOK_NAME environment variable to enable code saving.\n",
      "\u001b[34m\u001b[1mwandb\u001b[0m: Currently logged in as: \u001b[33memanjohnson91\u001b[0m (use `wandb login --relogin` to force relogin)\n",
      "\u001b[34m\u001b[1mwandb\u001b[0m: \u001b[33mWARNING\u001b[0m Invalid value for property root_dir: /home/johnsonj/projects/gps4oi/notebooks/nerf. This will raise an error in the future.\n",
      "2022-05-04 08:44:01.572210: W tensorflow/stream_executor/platform/default/dso_loader.cc:64] Could not load dynamic library 'libcudart.so.11.0'; dlerror: libcudart.so.11.0: cannot open shared object file: No such file or directory\n"
     ]
    },
    {
     "data": {
      "text/html": [
       "wandb version 0.12.16 is available!  To upgrade, please run:\n",
       " $ pip install wandb --upgrade"
      ],
      "text/plain": [
       "<IPython.core.display.HTML object>"
      ]
     },
     "metadata": {},
     "output_type": "display_data"
    },
    {
     "data": {
      "text/html": [
       "Tracking run with wandb version 0.12.15"
      ],
      "text/plain": [
       "<IPython.core.display.HTML object>"
      ]
     },
     "metadata": {},
     "output_type": "display_data"
    },
    {
     "data": {
      "text/html": [
       "Run data is saved locally in <code>/home/johnsonj/projects/gps4oi/notebooks/nerf/wandb/run-20220504_084400-3m1nrpth</code>"
      ],
      "text/plain": [
       "<IPython.core.display.HTML object>"
      ]
     },
     "metadata": {},
     "output_type": "display_data"
    },
    {
     "data": {
      "text/html": [
       "Syncing run <strong><a href=\"https://wandb.ai/ige/nerf4ssh/runs/3m1nrpth\" target=\"_blank\">civilized-jawa-22</a></strong> to <a href=\"https://wandb.ai/ige/nerf4ssh\" target=\"_blank\">Weights & Biases</a> (<a href=\"https://wandb.me/run\" target=\"_blank\">docs</a>)<br/>"
      ],
      "text/plain": [
       "<IPython.core.display.HTML object>"
      ]
     },
     "metadata": {},
     "output_type": "display_data"
    },
    {
     "data": {
      "text/html": [
       "<button onClick=\"this.nextSibling.style.display='block';this.style.display='none';\">Display W&B run</button><iframe src=\"https://wandb.ai/ige/nerf4ssh/runs/3m1nrpth?jupyter=true\" style=\"border:none;width:100%;height:420px;display:none;\"></iframe>"
      ],
      "text/plain": [
       "<wandb.sdk.wandb_run.Run at 0x7f01c04f4520>"
      ]
     },
     "execution_count": 3,
     "metadata": {},
     "output_type": "execute_result"
    }
   ],
   "source": [
    "wandb.init(\n",
    "    tags=[\"investigation\"],\n",
    "    project=\"nerf4ssh\",\n",
    "    entity=\"ige\",\n",
    "    dir=local,\n",
    ")\n"
   ]
  },
  {
   "cell_type": "code",
   "execution_count": 4,
   "id": "42427a56-e593-41ea-9b05-dc48cf9f0962",
   "metadata": {},
   "outputs": [],
   "source": [
    "smoke_test = False\n",
    "wandb.config.update({\"smoke_test\": smoke_test})"
   ]
  },
  {
   "cell_type": "code",
   "execution_count": 5,
   "id": "ad2ee3bf-2b2f-42c5-b467-067d4b6882ed",
   "metadata": {},
   "outputs": [
    {
     "name": "stdout",
     "output_type": "stream",
     "text": [
      "model.nc  test.nc  train.nc\n"
     ]
    }
   ],
   "source": [
    "!ls /mnt/meom/workdir/johnsonj/data/ssh_data/interim_gulf"
   ]
  },
  {
   "cell_type": "code",
   "execution_count": 6,
   "id": "6e7cb799-5559-4974-b63e-0f5206c875f4",
   "metadata": {},
   "outputs": [],
   "source": [
    "dataset = \"ssh_gulf_winter\"\n",
    "\n",
    "if dataset == \"ssh_gulf_winter\":\n",
    "    img = xr.open_dataset(\"/mnt/meom/workdir/johnsonj/data/ssh_data/interim_gulf_winter/train.nc\")\n",
    "elif dataset == \"ssh_gulf_summer\":\n",
    "    img = xr.open_dataset(\"/mnt/meom/workdir/johnsonj/data/ssh_data/interim_gulf_summer/train.nc\")\n",
    "elif dataset == \"ssh_gulf\":\n",
    "    img = xr.open_dataset(\"/mnt/meom/workdir/johnsonj/data/ssh_data/interim_gulf/train.nc\")\n",
    "else:\n",
    "    raise ValueError(f\"Unrecognized dataset: {dataset}\")\n",
    "\n",
    "wandb.config.update({\"dataset\": dataset})"
   ]
  },
  {
   "cell_type": "code",
   "execution_count": 7,
   "id": "b10cc25d-b5ff-4edc-b1e8-0cddccd8d4a5",
   "metadata": {},
   "outputs": [],
   "source": [
    "# slice_start = 300\n",
    "# slice_end = 400\n",
    "# img = img.p.isel(steps=slice(slice_start, slice_end))\n",
    "\n",
    "# wandb.config.update(\n",
    "#     {\n",
    "#         \"dataset\": \"ssh\",\n",
    "#         \"region\": \"gulf\",\n",
    "        \n",
    "#         # \"slice_start\":  slice_start,\n",
    "#         # \"slice_end\": slice_end,\n",
    "#     }\n",
    "# )\n",
    "\n",
    "# # coarsen time domain\n",
    "# train_coarsen_steps = 10\n",
    "# train_coarsen_Nx = 4\n",
    "# train_coarsen_Ny = 4\n",
    "# img = img.coarsen(steps=train_coarsen_steps, boundary=\"trim\").mean()\n",
    "\n",
    "\n",
    "# # coarsen space domain\n",
    "# img = img.coarsen(Nx=train_coarsen_Nx, Ny=train_coarsen_Ny, boundary=\"trim\").mean()\n",
    "# wandb.config.update(\n",
    "#     {\n",
    "#         \"train_coarsen_steps\": train_coarsen_steps, \n",
    "#         \"train_coarsen_Nx\": train_coarsen_Nx, \n",
    "#         \"train_coarsen_Ny\": train_coarsen_Ny,\n",
    "#         \"train_Nx\": img.coords[\"Nx\"].shape[0],\n",
    "#         \"train_Ny\": img.coords[\"Ny\"].shape[0],\n",
    "#         \"train_Nt\": img.coords[\"steps\"].shape[0],\n",
    "#     }\n",
    "# )\n",
    "\n",
    "# img"
   ]
  },
  {
   "cell_type": "code",
   "execution_count": 8,
   "id": "0e2a8735-5024-4d37-b11e-ef6cddac3ebf",
   "metadata": {},
   "outputs": [],
   "source": [
    "# img.hvplot.image(x=\"Nx\", y=\"Ny\", width=500, height=400, cmap=\"RdBu_r\", title=\"Ground Truth\")"
   ]
  },
  {
   "cell_type": "code",
   "execution_count": 9,
   "id": "8ecd75c9-b4a2-4db7-b6b3-66af10060bdd",
   "metadata": {},
   "outputs": [],
   "source": [
    "# img.hvplot.quadmesh(x=\"longitude\", y=\"latitude\", width=500, height=400, cmap=\"RdBu_r\", title=\"Ground Truth\")"
   ]
  },
  {
   "cell_type": "code",
   "execution_count": 10,
   "id": "7733c8d6-8dd3-4554-99fe-725bd5c2aaf3",
   "metadata": {},
   "outputs": [
    {
     "data": {
      "text/html": [
       "<div>\n",
       "<style scoped>\n",
       "    .dataframe tbody tr th:only-of-type {\n",
       "        vertical-align: middle;\n",
       "    }\n",
       "\n",
       "    .dataframe tbody tr th {\n",
       "        vertical-align: top;\n",
       "    }\n",
       "\n",
       "    .dataframe thead th {\n",
       "        text-align: right;\n",
       "    }\n",
       "</style>\n",
       "<table border=\"1\" class=\"dataframe\">\n",
       "  <thead>\n",
       "    <tr style=\"text-align: right;\">\n",
       "      <th></th>\n",
       "      <th>time</th>\n",
       "      <th>longitude</th>\n",
       "      <th>latitude</th>\n",
       "      <th>sla_unfiltered</th>\n",
       "    </tr>\n",
       "  </thead>\n",
       "  <tbody>\n",
       "    <tr>\n",
       "      <th>0</th>\n",
       "      <td>2015-12-01 00:25:31.702877184</td>\n",
       "      <td>294.025210</td>\n",
       "      <td>42.190078</td>\n",
       "      <td>0.024</td>\n",
       "    </tr>\n",
       "    <tr>\n",
       "      <th>1</th>\n",
       "      <td>2015-12-01 00:25:32.781457152</td>\n",
       "      <td>294.063017</td>\n",
       "      <td>42.141874</td>\n",
       "      <td>0.032</td>\n",
       "    </tr>\n",
       "    <tr>\n",
       "      <th>2</th>\n",
       "      <td>2015-12-01 00:25:33.860037120</td>\n",
       "      <td>294.100760</td>\n",
       "      <td>42.093655</td>\n",
       "      <td>0.089</td>\n",
       "    </tr>\n",
       "    <tr>\n",
       "      <th>3</th>\n",
       "      <td>2015-12-01 00:25:34.938617088</td>\n",
       "      <td>294.138440</td>\n",
       "      <td>42.045419</td>\n",
       "      <td>0.092</td>\n",
       "    </tr>\n",
       "    <tr>\n",
       "      <th>4</th>\n",
       "      <td>2015-12-01 00:25:36.017197056</td>\n",
       "      <td>294.176056</td>\n",
       "      <td>41.997167</td>\n",
       "      <td>0.014</td>\n",
       "    </tr>\n",
       "  </tbody>\n",
       "</table>\n",
       "</div>"
      ],
      "text/plain": [
       "                           time   longitude   latitude  sla_unfiltered\n",
       "0 2015-12-01 00:25:31.702877184  294.025210  42.190078           0.024\n",
       "1 2015-12-01 00:25:32.781457152  294.063017  42.141874           0.032\n",
       "2 2015-12-01 00:25:33.860037120  294.100760  42.093655           0.089\n",
       "3 2015-12-01 00:25:34.938617088  294.138440  42.045419           0.092\n",
       "4 2015-12-01 00:25:36.017197056  294.176056  41.997167           0.014"
      ]
     },
     "execution_count": 10,
     "metadata": {},
     "output_type": "execute_result"
    }
   ],
   "source": [
    "# convert to dataframe\n",
    "data = img.to_dataframe().reset_index().dropna()\n",
    "data.head()"
   ]
  },
  {
   "cell_type": "code",
   "execution_count": 11,
   "id": "6f765203-aaf4-4003-a57c-63a4c5b9dfea",
   "metadata": {},
   "outputs": [],
   "source": [
    "mask_internal = False\n",
    "data[\"mask\"] = 0\n",
    "wandb.config.update({\"mask_internal\": mask_internal})\n",
    "\n",
    "if mask_internal:\n",
    "    # values within the boundaries\n",
    "    \n",
    "    filter1 = data[\"steps\"] < 1.0\n",
    "    filter2 = data[\"steps\"] > 0.0\n",
    "    conditions = [\n",
    "        (data[\"steps\"] < 1.0),\n",
    "        (data[\"steps\"] > 0.0)\n",
    "    ]\n",
    "    choices = [1, 0]\n",
    "    data[\"mask\"] = np.select(conditions, choices)\n",
    "\n"
   ]
  },
  {
   "cell_type": "code",
   "execution_count": 12,
   "id": "f11c8aa0-5602-4269-83d6-4fcc8b3960ad",
   "metadata": {},
   "outputs": [],
   "source": [
    "# data[\"time\"]"
   ]
  },
  {
   "cell_type": "markdown",
   "id": "ddd74ce0-c2dc-4141-84d3-bae9d986c634",
   "metadata": {},
   "source": [
    "**TODO**: Figure out the min-max bounds.\n",
    "\n",
    "\n",
    "```python\n",
    "t0 = pd.DatetimeIndex([pd.Timestamp(\"1993-01-01\")]).to_julian_date()\n",
    "tmax = pd.DatetimeIndex([pd.Timestamp(\"2023-01-01\")]).to_julian_date()\n",
    "```"
   ]
  },
  {
   "cell_type": "code",
   "execution_count": 13,
   "id": "dbc38ae8-cf83-4a1a-87fa-a5dee0f09393",
   "metadata": {},
   "outputs": [],
   "source": [
    "# hard-code min/max dates\n",
    "t0 = pd.DatetimeIndex([\n",
    "    pd.Timestamp(\n",
    "        year=2015, \n",
    "        month=1, \n",
    "        day=1,\n",
    "        hour=1,\n",
    "        minute=None,\n",
    "        second=None\n",
    "    )]).to_julian_date()\n",
    "tmax = pd.DatetimeIndex([\n",
    "    pd.Timestamp(\n",
    "        year=2020, \n",
    "        month=1, \n",
    "        day=1,\n",
    "        hour=1,\n",
    "        minute=None,\n",
    "        second=None\n",
    "    )]).to_julian_date()\n",
    "\n"
   ]
  },
  {
   "cell_type": "code",
   "execution_count": 14,
   "id": "2845fdbc-68af-449a-b711-43ac5203c17a",
   "metadata": {},
   "outputs": [],
   "source": [
    "# scale between min-max\n",
    "def f(x):\n",
    "    return (x - t0) / (tmax - t0)\n",
    "\n",
    "# def f_deduct(x):\n",
    "#     return x - t0\n",
    "# def f(x):\n",
    "#     return (x - t0) / (tmax - t0)"
   ]
  },
  {
   "cell_type": "code",
   "execution_count": 15,
   "id": "58221735-f783-4b77-8bed-acce4b1fb0e5",
   "metadata": {},
   "outputs": [
    {
     "data": {
      "text/plain": [
       "(Float64Index([2457023.5416666665], dtype='float64'),\n",
       " Float64Index([2458849.5416666665], dtype='float64'))"
      ]
     },
     "execution_count": 15,
     "metadata": {},
     "output_type": "execute_result"
    }
   ],
   "source": [
    "t0, tmax"
   ]
  },
  {
   "cell_type": "code",
   "execution_count": 16,
   "id": "d5198c9c-d31b-481c-8b62-56935ac11725",
   "metadata": {},
   "outputs": [
    {
     "data": {
      "text/plain": [
       "(2457357.517728043, 2457449.445542938)"
      ]
     },
     "execution_count": 16,
     "metadata": {},
     "output_type": "execute_result"
    }
   ],
   "source": [
    "pd.DatetimeIndex(data['time']).to_julian_date()[0], pd.DatetimeIndex(data['time']).to_julian_date()[-1]"
   ]
  },
  {
   "cell_type": "code",
   "execution_count": 17,
   "id": "409f807b-2b1b-439f-a1f6-0b14bd1204d9",
   "metadata": {},
   "outputs": [
    {
     "data": {
      "text/plain": [
       "(Float64Index([0.1829003621994947], dtype='float64'),\n",
       " Float64Index([0.2332441819669028], dtype='float64'))"
      ]
     },
     "execution_count": 17,
     "metadata": {},
     "output_type": "execute_result"
    }
   ],
   "source": [
    "f(pd.DatetimeIndex(data['time']).to_julian_date()[0]), f(pd.DatetimeIndex(data['time']).to_julian_date()[-1])"
   ]
  },
  {
   "cell_type": "code",
   "execution_count": 18,
   "id": "db9fdf80-3600-473b-ab54-89dd8390c400",
   "metadata": {},
   "outputs": [
    {
     "data": {
      "text/html": [
       "<div>\n",
       "<style scoped>\n",
       "    .dataframe tbody tr th:only-of-type {\n",
       "        vertical-align: middle;\n",
       "    }\n",
       "\n",
       "    .dataframe tbody tr th {\n",
       "        vertical-align: top;\n",
       "    }\n",
       "\n",
       "    .dataframe thead th {\n",
       "        text-align: right;\n",
       "    }\n",
       "</style>\n",
       "<table border=\"1\" class=\"dataframe\">\n",
       "  <thead>\n",
       "    <tr style=\"text-align: right;\">\n",
       "      <th></th>\n",
       "      <th>time</th>\n",
       "      <th>longitude</th>\n",
       "      <th>latitude</th>\n",
       "      <th>sla_unfiltered</th>\n",
       "      <th>mask</th>\n",
       "      <th>time_julian</th>\n",
       "    </tr>\n",
       "  </thead>\n",
       "  <tbody>\n",
       "    <tr>\n",
       "      <th>0</th>\n",
       "      <td>2015-12-01 00:25:31.702877184</td>\n",
       "      <td>294.025210</td>\n",
       "      <td>42.190078</td>\n",
       "      <td>0.024</td>\n",
       "      <td>0</td>\n",
       "      <td>0.1829</td>\n",
       "    </tr>\n",
       "    <tr>\n",
       "      <th>1</th>\n",
       "      <td>2015-12-01 00:25:32.781457152</td>\n",
       "      <td>294.063017</td>\n",
       "      <td>42.141874</td>\n",
       "      <td>0.032</td>\n",
       "      <td>0</td>\n",
       "      <td>0.1829</td>\n",
       "    </tr>\n",
       "    <tr>\n",
       "      <th>2</th>\n",
       "      <td>2015-12-01 00:25:33.860037120</td>\n",
       "      <td>294.100760</td>\n",
       "      <td>42.093655</td>\n",
       "      <td>0.089</td>\n",
       "      <td>0</td>\n",
       "      <td>0.1829</td>\n",
       "    </tr>\n",
       "    <tr>\n",
       "      <th>3</th>\n",
       "      <td>2015-12-01 00:25:34.938617088</td>\n",
       "      <td>294.138440</td>\n",
       "      <td>42.045419</td>\n",
       "      <td>0.092</td>\n",
       "      <td>0</td>\n",
       "      <td>0.1829</td>\n",
       "    </tr>\n",
       "    <tr>\n",
       "      <th>4</th>\n",
       "      <td>2015-12-01 00:25:36.017197056</td>\n",
       "      <td>294.176056</td>\n",
       "      <td>41.997167</td>\n",
       "      <td>0.014</td>\n",
       "      <td>0</td>\n",
       "      <td>0.1829</td>\n",
       "    </tr>\n",
       "  </tbody>\n",
       "</table>\n",
       "</div>"
      ],
      "text/plain": [
       "                           time   longitude   latitude  sla_unfiltered  mask  \\\n",
       "0 2015-12-01 00:25:31.702877184  294.025210  42.190078           0.024     0   \n",
       "1 2015-12-01 00:25:32.781457152  294.063017  42.141874           0.032     0   \n",
       "2 2015-12-01 00:25:33.860037120  294.100760  42.093655           0.089     0   \n",
       "3 2015-12-01 00:25:34.938617088  294.138440  42.045419           0.092     0   \n",
       "4 2015-12-01 00:25:36.017197056  294.176056  41.997167           0.014     0   \n",
       "\n",
       "   time_julian  \n",
       "0       0.1829  \n",
       "1       0.1829  \n",
       "2       0.1829  \n",
       "3       0.1829  \n",
       "4       0.1829  "
      ]
     },
     "execution_count": 18,
     "metadata": {},
     "output_type": "execute_result"
    }
   ],
   "source": [
    "\n",
    "\n",
    "data[\"time_julian\"] = f(pd.DatetimeIndex(data['time']).to_julian_date())\n",
    "\n",
    "\n",
    "data.head()"
   ]
  },
  {
   "cell_type": "code",
   "execution_count": 19,
   "id": "ae47e3d5-801d-403c-9c71-5ae939859ad2",
   "metadata": {},
   "outputs": [
    {
     "name": "stderr",
     "output_type": "stream",
     "text": [
      "/tmp/ipykernel_11433/1766826939.py:1: FutureWarning: Treating datetime data as categorical rather than numeric in `.describe` is deprecated and will be removed in a future version of pandas. Specify `datetime_is_numeric=True` to silence this warning and adopt the future behavior now.\n",
      "  data.time.describe()\n"
     ]
    },
    {
     "data": {
      "text/plain": [
       "count                             51478\n",
       "unique                            51478\n",
       "top       2016-02-24 11:42:28.210011904\n",
       "freq                                  1\n",
       "first     2015-12-01 00:25:31.702877184\n",
       "last      2016-03-01 22:41:34.909846016\n",
       "Name: time, dtype: object"
      ]
     },
     "execution_count": 19,
     "metadata": {},
     "output_type": "execute_result"
    }
   ],
   "source": [
    "data.time.describe()"
   ]
  },
  {
   "cell_type": "code",
   "execution_count": 20,
   "id": "73eb5aee-ce3c-4176-b483-0933b8e43502",
   "metadata": {},
   "outputs": [],
   "source": [
    "# # transform time coordinate\n",
    "# days_in_year = 365\n",
    "# year = pd.to_datetime(data['time']).dt.dayofyear\n",
    "# data[\"doy_sin\"] = np.sin(2.0 * np.pi * year / days_in_year)\n",
    "# data[\"doy_cos\"] = np.cos(2.0 * np.pi * year / days_in_year)\n",
    "\n",
    "# # transform time coordinate\n",
    "# num_of_years = 5\n",
    "# year = pd.to_datetime(data['time']).dt.year\n",
    "# data[\"year_sin\"] = np.sin(2.0 * np.pi * (year - 2010) / num_of_years)\n",
    "# data[\"year_cos\"] = np.cos(2.0 * np.pi * (year - 2010) / num_of_years)"
   ]
  },
  {
   "cell_type": "code",
   "execution_count": 21,
   "id": "a9e91c57-123e-4028-8b75-2dfd1843fffd",
   "metadata": {},
   "outputs": [
    {
     "data": {
      "text/html": [
       "<div>\n",
       "<style scoped>\n",
       "    .dataframe tbody tr th:only-of-type {\n",
       "        vertical-align: middle;\n",
       "    }\n",
       "\n",
       "    .dataframe tbody tr th {\n",
       "        vertical-align: top;\n",
       "    }\n",
       "\n",
       "    .dataframe thead th {\n",
       "        text-align: right;\n",
       "    }\n",
       "</style>\n",
       "<table border=\"1\" class=\"dataframe\">\n",
       "  <thead>\n",
       "    <tr style=\"text-align: right;\">\n",
       "      <th></th>\n",
       "      <th>longitude</th>\n",
       "      <th>latitude</th>\n",
       "      <th>sla_unfiltered</th>\n",
       "      <th>mask</th>\n",
       "      <th>time_julian</th>\n",
       "    </tr>\n",
       "  </thead>\n",
       "  <tbody>\n",
       "    <tr>\n",
       "      <th>count</th>\n",
       "      <td>51478.000000</td>\n",
       "      <td>51478.000000</td>\n",
       "      <td>51478.000000</td>\n",
       "      <td>51478.0</td>\n",
       "      <td>51478.000000</td>\n",
       "    </tr>\n",
       "    <tr>\n",
       "      <th>mean</th>\n",
       "      <td>299.902045</td>\n",
       "      <td>37.995121</td>\n",
       "      <td>0.112117</td>\n",
       "      <td>0.0</td>\n",
       "      <td>0.207954</td>\n",
       "    </tr>\n",
       "    <tr>\n",
       "      <th>std</th>\n",
       "      <td>3.435650</td>\n",
       "      <td>3.453719</td>\n",
       "      <td>0.225815</td>\n",
       "      <td>0.0</td>\n",
       "      <td>0.014608</td>\n",
       "    </tr>\n",
       "    <tr>\n",
       "      <th>min</th>\n",
       "      <td>294.001179</td>\n",
       "      <td>32.000381</td>\n",
       "      <td>-1.029000</td>\n",
       "      <td>0.0</td>\n",
       "      <td>0.182900</td>\n",
       "    </tr>\n",
       "    <tr>\n",
       "      <th>25%</th>\n",
       "      <td>296.933520</td>\n",
       "      <td>35.028749</td>\n",
       "      <td>0.017000</td>\n",
       "      <td>0.0</td>\n",
       "      <td>0.195431</td>\n",
       "    </tr>\n",
       "    <tr>\n",
       "      <th>50%</th>\n",
       "      <td>299.781110</td>\n",
       "      <td>37.956215</td>\n",
       "      <td>0.119000</td>\n",
       "      <td>0.0</td>\n",
       "      <td>0.207872</td>\n",
       "    </tr>\n",
       "    <tr>\n",
       "      <th>75%</th>\n",
       "      <td>302.832549</td>\n",
       "      <td>41.016772</td>\n",
       "      <td>0.237000</td>\n",
       "      <td>0.0</td>\n",
       "      <td>0.220952</td>\n",
       "    </tr>\n",
       "    <tr>\n",
       "      <th>max</th>\n",
       "      <td>305.999920</td>\n",
       "      <td>43.999704</td>\n",
       "      <td>0.987000</td>\n",
       "      <td>0.0</td>\n",
       "      <td>0.233244</td>\n",
       "    </tr>\n",
       "  </tbody>\n",
       "</table>\n",
       "</div>"
      ],
      "text/plain": [
       "          longitude      latitude  sla_unfiltered     mask   time_julian\n",
       "count  51478.000000  51478.000000    51478.000000  51478.0  51478.000000\n",
       "mean     299.902045     37.995121        0.112117      0.0      0.207954\n",
       "std        3.435650      3.453719        0.225815      0.0      0.014608\n",
       "min      294.001179     32.000381       -1.029000      0.0      0.182900\n",
       "25%      296.933520     35.028749        0.017000      0.0      0.195431\n",
       "50%      299.781110     37.956215        0.119000      0.0      0.207872\n",
       "75%      302.832549     41.016772        0.237000      0.0      0.220952\n",
       "max      305.999920     43.999704        0.987000      0.0      0.233244"
      ]
     },
     "execution_count": 21,
     "metadata": {},
     "output_type": "execute_result"
    }
   ],
   "source": [
    "data.describe()"
   ]
  },
  {
   "cell_type": "code",
   "execution_count": null,
   "id": "4cc21df9-b814-449c-8e86-e417df7bec2c",
   "metadata": {},
   "outputs": [],
   "source": []
  },
  {
   "cell_type": "code",
   "execution_count": 22,
   "id": "a14e72f2-c80d-47de-898d-71d70f6ebb76",
   "metadata": {},
   "outputs": [
    {
     "data": {
      "text/html": [
       "<div>\n",
       "<style scoped>\n",
       "    .dataframe tbody tr th:only-of-type {\n",
       "        vertical-align: middle;\n",
       "    }\n",
       "\n",
       "    .dataframe tbody tr th {\n",
       "        vertical-align: top;\n",
       "    }\n",
       "\n",
       "    .dataframe thead th {\n",
       "        text-align: right;\n",
       "    }\n",
       "</style>\n",
       "<table border=\"1\" class=\"dataframe\">\n",
       "  <thead>\n",
       "    <tr style=\"text-align: right;\">\n",
       "      <th></th>\n",
       "      <th>longitude</th>\n",
       "      <th>latitude</th>\n",
       "      <th>sla_unfiltered</th>\n",
       "      <th>mask</th>\n",
       "      <th>time_julian</th>\n",
       "    </tr>\n",
       "  </thead>\n",
       "  <tbody>\n",
       "    <tr>\n",
       "      <th>count</th>\n",
       "      <td>51478.000000</td>\n",
       "      <td>51478.000000</td>\n",
       "      <td>51478.000000</td>\n",
       "      <td>51478.0</td>\n",
       "      <td>51478.000000</td>\n",
       "    </tr>\n",
       "    <tr>\n",
       "      <th>mean</th>\n",
       "      <td>-0.016419</td>\n",
       "      <td>-0.000820</td>\n",
       "      <td>0.112117</td>\n",
       "      <td>0.0</td>\n",
       "      <td>-0.004679</td>\n",
       "    </tr>\n",
       "    <tr>\n",
       "      <th>std</th>\n",
       "      <td>0.572668</td>\n",
       "      <td>0.575652</td>\n",
       "      <td>0.225815</td>\n",
       "      <td>0.0</td>\n",
       "      <td>0.580347</td>\n",
       "    </tr>\n",
       "    <tr>\n",
       "      <th>min</th>\n",
       "      <td>-1.000000</td>\n",
       "      <td>-1.000000</td>\n",
       "      <td>-1.029000</td>\n",
       "      <td>0.0</td>\n",
       "      <td>-1.000000</td>\n",
       "    </tr>\n",
       "    <tr>\n",
       "      <th>25%</th>\n",
       "      <td>-0.511225</td>\n",
       "      <td>-0.495244</td>\n",
       "      <td>0.017000</td>\n",
       "      <td>0.0</td>\n",
       "      <td>-0.502195</td>\n",
       "    </tr>\n",
       "    <tr>\n",
       "      <th>50%</th>\n",
       "      <td>-0.036577</td>\n",
       "      <td>-0.007305</td>\n",
       "      <td>0.119000</td>\n",
       "      <td>0.0</td>\n",
       "      <td>-0.007970</td>\n",
       "    </tr>\n",
       "    <tr>\n",
       "      <th>75%</th>\n",
       "      <td>0.472049</td>\n",
       "      <td>0.502817</td>\n",
       "      <td>0.237000</td>\n",
       "      <td>0.0</td>\n",
       "      <td>0.511689</td>\n",
       "    </tr>\n",
       "    <tr>\n",
       "      <th>max</th>\n",
       "      <td>1.000000</td>\n",
       "      <td>1.000000</td>\n",
       "      <td>0.987000</td>\n",
       "      <td>0.0</td>\n",
       "      <td>1.000000</td>\n",
       "    </tr>\n",
       "  </tbody>\n",
       "</table>\n",
       "</div>"
      ],
      "text/plain": [
       "          longitude      latitude  sla_unfiltered     mask   time_julian\n",
       "count  51478.000000  51478.000000    51478.000000  51478.0  51478.000000\n",
       "mean      -0.016419     -0.000820        0.112117      0.0     -0.004679\n",
       "std        0.572668      0.575652        0.225815      0.0      0.580347\n",
       "min       -1.000000     -1.000000       -1.029000      0.0     -1.000000\n",
       "25%       -0.511225     -0.495244        0.017000      0.0     -0.502195\n",
       "50%       -0.036577     -0.007305        0.119000      0.0     -0.007970\n",
       "75%        0.472049      0.502817        0.237000      0.0      0.511689\n",
       "max        1.000000      1.000000        0.987000      0.0      1.000000"
      ]
     },
     "execution_count": 22,
     "metadata": {},
     "output_type": "execute_result"
    }
   ],
   "source": [
    "# transform time coordinates\n",
    "cols = [\"time_julian\", \"longitude\", \"latitude\"]\n",
    "var_cols = [\"sla_unfiltered\"] \n",
    "time_scaler = MinMaxScaler(feature_range=(-1, 1)).fit(data[cols].values)\n",
    "data[cols] = time_scaler.transform(data[cols].values).squeeze()\n",
    "\n",
    "data.describe()"
   ]
  },
  {
   "cell_type": "code",
   "execution_count": 23,
   "id": "86aa1c5c-ac0b-489e-ad4b-33a85ae4b596",
   "metadata": {},
   "outputs": [
    {
     "data": {
      "text/html": [
       "<div>\n",
       "<style scoped>\n",
       "    .dataframe tbody tr th:only-of-type {\n",
       "        vertical-align: middle;\n",
       "    }\n",
       "\n",
       "    .dataframe tbody tr th {\n",
       "        vertical-align: top;\n",
       "    }\n",
       "\n",
       "    .dataframe thead th {\n",
       "        text-align: right;\n",
       "    }\n",
       "</style>\n",
       "<table border=\"1\" class=\"dataframe\">\n",
       "  <thead>\n",
       "    <tr style=\"text-align: right;\">\n",
       "      <th></th>\n",
       "      <th>time</th>\n",
       "      <th>longitude</th>\n",
       "      <th>latitude</th>\n",
       "      <th>sla_unfiltered</th>\n",
       "      <th>mask</th>\n",
       "      <th>time_julian</th>\n",
       "    </tr>\n",
       "  </thead>\n",
       "  <tbody>\n",
       "    <tr>\n",
       "      <th>0</th>\n",
       "      <td>2015-12-01 00:25:31.702877184</td>\n",
       "      <td>-0.995994</td>\n",
       "      <td>0.698379</td>\n",
       "      <td>0.024</td>\n",
       "      <td>0</td>\n",
       "      <td>-1.000000</td>\n",
       "    </tr>\n",
       "    <tr>\n",
       "      <th>1</th>\n",
       "      <td>2015-12-01 00:25:32.781457152</td>\n",
       "      <td>-0.989693</td>\n",
       "      <td>0.690344</td>\n",
       "      <td>0.032</td>\n",
       "      <td>0</td>\n",
       "      <td>-1.000000</td>\n",
       "    </tr>\n",
       "    <tr>\n",
       "      <th>2</th>\n",
       "      <td>2015-12-01 00:25:33.860037120</td>\n",
       "      <td>-0.983401</td>\n",
       "      <td>0.682307</td>\n",
       "      <td>0.089</td>\n",
       "      <td>0</td>\n",
       "      <td>-0.999999</td>\n",
       "    </tr>\n",
       "    <tr>\n",
       "      <th>3</th>\n",
       "      <td>2015-12-01 00:25:34.938617088</td>\n",
       "      <td>-0.977121</td>\n",
       "      <td>0.674267</td>\n",
       "      <td>0.092</td>\n",
       "      <td>0</td>\n",
       "      <td>-0.999999</td>\n",
       "    </tr>\n",
       "    <tr>\n",
       "      <th>4</th>\n",
       "      <td>2015-12-01 00:25:36.017197056</td>\n",
       "      <td>-0.970851</td>\n",
       "      <td>0.666225</td>\n",
       "      <td>0.014</td>\n",
       "      <td>0</td>\n",
       "      <td>-0.999999</td>\n",
       "    </tr>\n",
       "  </tbody>\n",
       "</table>\n",
       "</div>"
      ],
      "text/plain": [
       "                           time  longitude  latitude  sla_unfiltered  mask  \\\n",
       "0 2015-12-01 00:25:31.702877184  -0.995994  0.698379           0.024     0   \n",
       "1 2015-12-01 00:25:32.781457152  -0.989693  0.690344           0.032     0   \n",
       "2 2015-12-01 00:25:33.860037120  -0.983401  0.682307           0.089     0   \n",
       "3 2015-12-01 00:25:34.938617088  -0.977121  0.674267           0.092     0   \n",
       "4 2015-12-01 00:25:36.017197056  -0.970851  0.666225           0.014     0   \n",
       "\n",
       "   time_julian  \n",
       "0    -1.000000  \n",
       "1    -1.000000  \n",
       "2    -0.999999  \n",
       "3    -0.999999  \n",
       "4    -0.999999  "
      ]
     },
     "execution_count": 23,
     "metadata": {},
     "output_type": "execute_result"
    }
   ],
   "source": [
    "data.head()"
   ]
  },
  {
   "cell_type": "code",
   "execution_count": 24,
   "id": "c0a60a2c-193d-4c70-a93e-60f74c1929c6",
   "metadata": {},
   "outputs": [
    {
     "data": {
      "text/plain": [
       "((51478, 3), (51478, 1))"
      ]
     },
     "execution_count": 24,
     "metadata": {},
     "output_type": "execute_result"
    }
   ],
   "source": [
    "x = data[data[\"mask\"].isin([0])][cols].values\n",
    "y = data[data[\"mask\"].isin([0])][var_cols].values\n",
    "\n",
    "\n",
    "\n",
    "x.shape, y.shape"
   ]
  },
  {
   "cell_type": "code",
   "execution_count": null,
   "id": "66d80f76-36b6-434b-9222-0e8694f21cc0",
   "metadata": {},
   "outputs": [],
   "source": []
  },
  {
   "cell_type": "code",
   "execution_count": 25,
   "id": "e3b14709-0e74-4ee5-b45f-8c3f82117591",
   "metadata": {},
   "outputs": [],
   "source": [
    "# split training and testing\n",
    "train_size = 0.9\n",
    "idx_train, idx_valid = train_test_split(data[data[\"mask\"].isin([0])].index.values, train_size=train_size, random_state=123)\n",
    "\n",
    "# # split training and validation\n",
    "# idx_train, idx_valid = train_test_split(idx_train, test_size=0.1, random_state=123)"
   ]
  },
  {
   "cell_type": "code",
   "execution_count": 26,
   "id": "9aca1d7e-811c-44ea-854f-c4fdec0d0060",
   "metadata": {},
   "outputs": [
    {
     "data": {
      "text/html": [
       "<div>\n",
       "<style scoped>\n",
       "    .dataframe tbody tr th:only-of-type {\n",
       "        vertical-align: middle;\n",
       "    }\n",
       "\n",
       "    .dataframe tbody tr th {\n",
       "        vertical-align: top;\n",
       "    }\n",
       "\n",
       "    .dataframe thead th {\n",
       "        text-align: right;\n",
       "    }\n",
       "</style>\n",
       "<table border=\"1\" class=\"dataframe\">\n",
       "  <thead>\n",
       "    <tr style=\"text-align: right;\">\n",
       "      <th></th>\n",
       "      <th>time</th>\n",
       "      <th>longitude</th>\n",
       "      <th>latitude</th>\n",
       "      <th>sla_unfiltered</th>\n",
       "      <th>mask</th>\n",
       "      <th>time_julian</th>\n",
       "      <th>split</th>\n",
       "    </tr>\n",
       "  </thead>\n",
       "  <tbody>\n",
       "    <tr>\n",
       "      <th>0</th>\n",
       "      <td>2015-12-01 00:25:31.702877184</td>\n",
       "      <td>-0.995994</td>\n",
       "      <td>0.698379</td>\n",
       "      <td>0.024</td>\n",
       "      <td>0</td>\n",
       "      <td>-1.000000</td>\n",
       "      <td>1</td>\n",
       "    </tr>\n",
       "    <tr>\n",
       "      <th>1</th>\n",
       "      <td>2015-12-01 00:25:32.781457152</td>\n",
       "      <td>-0.989693</td>\n",
       "      <td>0.690344</td>\n",
       "      <td>0.032</td>\n",
       "      <td>0</td>\n",
       "      <td>-1.000000</td>\n",
       "      <td>2</td>\n",
       "    </tr>\n",
       "    <tr>\n",
       "      <th>2</th>\n",
       "      <td>2015-12-01 00:25:33.860037120</td>\n",
       "      <td>-0.983401</td>\n",
       "      <td>0.682307</td>\n",
       "      <td>0.089</td>\n",
       "      <td>0</td>\n",
       "      <td>-0.999999</td>\n",
       "      <td>1</td>\n",
       "    </tr>\n",
       "    <tr>\n",
       "      <th>3</th>\n",
       "      <td>2015-12-01 00:25:34.938617088</td>\n",
       "      <td>-0.977121</td>\n",
       "      <td>0.674267</td>\n",
       "      <td>0.092</td>\n",
       "      <td>0</td>\n",
       "      <td>-0.999999</td>\n",
       "      <td>1</td>\n",
       "    </tr>\n",
       "    <tr>\n",
       "      <th>4</th>\n",
       "      <td>2015-12-01 00:25:36.017197056</td>\n",
       "      <td>-0.970851</td>\n",
       "      <td>0.666225</td>\n",
       "      <td>0.014</td>\n",
       "      <td>0</td>\n",
       "      <td>-0.999999</td>\n",
       "      <td>1</td>\n",
       "    </tr>\n",
       "  </tbody>\n",
       "</table>\n",
       "</div>"
      ],
      "text/plain": [
       "                           time  longitude  latitude  sla_unfiltered  mask  \\\n",
       "0 2015-12-01 00:25:31.702877184  -0.995994  0.698379           0.024     0   \n",
       "1 2015-12-01 00:25:32.781457152  -0.989693  0.690344           0.032     0   \n",
       "2 2015-12-01 00:25:33.860037120  -0.983401  0.682307           0.089     0   \n",
       "3 2015-12-01 00:25:34.938617088  -0.977121  0.674267           0.092     0   \n",
       "4 2015-12-01 00:25:36.017197056  -0.970851  0.666225           0.014     0   \n",
       "\n",
       "   time_julian  split  \n",
       "0    -1.000000      1  \n",
       "1    -1.000000      2  \n",
       "2    -0.999999      1  \n",
       "3    -0.999999      1  \n",
       "4    -0.999999      1  "
      ]
     },
     "execution_count": 26,
     "metadata": {},
     "output_type": "execute_result"
    }
   ],
   "source": [
    "data[\"split\"] = 0\n",
    "data.loc[idx_train, \"split\"] = 1\n",
    "data.loc[idx_valid, \"split\"] = 2\n",
    "# data.loc[idx_test, \"split\"] = 3\n",
    "data.head()"
   ]
  },
  {
   "cell_type": "code",
   "execution_count": 27,
   "id": "f81de0f5-1ed3-4f01-8bde-d99b0c0a31fd",
   "metadata": {},
   "outputs": [
    {
     "name": "stderr",
     "output_type": "stream",
     "text": [
      "WARNING:absl:No GPU/TPU found, falling back to CPU. (Set TF_CPP_MIN_LOG_LEVEL=0 and rerun for more info.)\n"
     ]
    },
    {
     "name": "stdout",
     "output_type": "stream",
     "text": [
      "# Data: 51_478 \n",
      "# Train: 46_330\n",
      "# Valid: 5_148\n"
     ]
    }
   ],
   "source": [
    "xtrain = jnp.array(data[data[\"split\"].isin([1])][cols].values)\n",
    "ytrain = jnp.array(data[data[\"split\"].isin([1])][var_cols].values)\n",
    "xvalid = jnp.array(data[data[\"split\"].isin([2])][cols].values)\n",
    "yvalid = jnp.array(data[data[\"split\"].isin([2])][var_cols].values)\n",
    "# xtest = jnp.array(data[data[\"split\"].isin([3])][cols].values)\n",
    "# ytest = jnp.array(data[data[\"split\"].isin([3])][var_cols].values)\n",
    "\n",
    "print(f\"# Data: {x.shape[0]:_} \\n# Train: {xtrain.shape[0]:_}\\n# Valid: {xvalid.shape[0]:_}\")"
   ]
  },
  {
   "cell_type": "code",
   "execution_count": 28,
   "id": "b35fdb4a-101d-40df-bce7-3f12849bbea2",
   "metadata": {},
   "outputs": [
    {
     "data": {
      "text/plain": [
       "DeviceArray([[-1.        , -0.9959944 ,  0.6983786 ],\n",
       "             [-0.99999946, -0.9834014 ,  0.68230724],\n",
       "             [-0.99999917, -0.97712076,  0.6742675 ],\n",
       "             [-0.9999989 , -0.97085077,  0.666225  ],\n",
       "             [-0.9999986 , -0.96459126,  0.65818006],\n",
       "             [-0.9999984 , -0.9583423 ,  0.6501324 ],\n",
       "             [-0.9999981 , -0.952104  ,  0.64208233],\n",
       "             [-0.99999785, -0.9458762 ,  0.6340293 ],\n",
       "             [-0.99999756, -0.9396588 ,  0.62597376],\n",
       "             [-0.99999726, -0.93345183,  0.61791563]], dtype=float32)"
      ]
     },
     "execution_count": 28,
     "metadata": {},
     "output_type": "execute_result"
    }
   ],
   "source": [
    "xtrain[:10]"
   ]
  },
  {
   "cell_type": "code",
   "execution_count": 29,
   "id": "ff584e76-a1ab-42ed-a152-a05189305b3f",
   "metadata": {},
   "outputs": [],
   "source": [
    "wandb.config.update(\n",
    "    {\n",
    "        \"train_size\": train_size,\n",
    "        # \"n_data\": x.shape[0],\n",
    "        \"n_train\": xtrain.shape[0], \n",
    "        \"n_valid\": xvalid.shape[0],\n",
    "        # \"n_test\": xtest.shape[0]\n",
    "    }\n",
    ")"
   ]
  },
  {
   "cell_type": "code",
   "execution_count": 30,
   "id": "87b45c4e-19d7-4730-a580-63ccabfb4d2f",
   "metadata": {},
   "outputs": [],
   "source": [
    "\n",
    "\n",
    "init_key = jrandom.PRNGKey(123)\n",
    "model = \"siren\"\n",
    "in_dim = len(cols)\n",
    "out_dim = 1\n",
    "hidden_dim = 256\n",
    "n_hidden = 5\n",
    "\n",
    "wandb.config.update(\n",
    "    {\n",
    "        \"model\": model,\n",
    "        \"in_dim\": in_dim,\n",
    "        \"out_dim\": out_dim,\n",
    "        \"hidden_dim\": hidden_dim,\n",
    "        \"n_hidden\": n_hidden\n",
    "    }\n",
    ")\n",
    "\n",
    "\n",
    "# SIMPLE MLP\n",
    "if model == \"mlp\":\n",
    "    model = MLPNet(\n",
    "        in_dim=in_dim,\n",
    "        out_dim=out_dim,\n",
    "        hidden_dim=hidden_dim, \n",
    "        n_hidden=n_hidden, \n",
    "        key=init_key\n",
    "    )\n",
    "\n",
    "    wandb.config.update(\n",
    "        {\n",
    "            \"activation\": \"relu\", \n",
    "        }\n",
    "    )\n",
    "    \n",
    "elif model == \"siren\":\n",
    "\n",
    "    # SIREN MODEL\n",
    "    w0_initial = 30.0\n",
    "    w0 = 1.0\n",
    "    final_scale = 1.0\n",
    "\n",
    "    model = SirenNet(\n",
    "        in_dim=in_dim,\n",
    "        out_dim=out_dim,\n",
    "        hidden_dim=hidden_dim, \n",
    "        n_hidden=n_hidden,\n",
    "        w0=w0,\n",
    "        w0_initial=w0_initial,\n",
    "        final_scale=final_scale,\n",
    "        key=init_key\n",
    "    )\n",
    "\n",
    "    wandb.config.update(\n",
    "        {\n",
    "            \"w0_initial\": w0_initial,\n",
    "            \"w0\": w0, \n",
    "            \"final_scale\": final_scale,\n",
    "        }\n",
    "    )\n",
    "else:\n",
    "    raise ValueError(f\"Unrecognized model: {model}\")"
   ]
  },
  {
   "cell_type": "code",
   "execution_count": 31,
   "id": "69fe1613-1b4b-47bd-b121-392837c99bd9",
   "metadata": {},
   "outputs": [],
   "source": [
    "# model"
   ]
  },
  {
   "cell_type": "code",
   "execution_count": 32,
   "id": "5d5d96c4-5ede-4dd2-aec5-bb3efb21bab9",
   "metadata": {},
   "outputs": [],
   "source": [
    "init_batch = xtrain[:100]\n",
    "init_out = ytrain[:100]\n",
    "\n",
    "out = jax.vmap(model)(init_batch)\n",
    "\n",
    "# check sizes\n",
    "assert out.shape == init_out.shape"
   ]
  },
  {
   "cell_type": "code",
   "execution_count": 33,
   "id": "9ba26f32-f1fd-4fff-9f2d-319dd8a71b0b",
   "metadata": {},
   "outputs": [
    {
     "data": {
      "text/plain": [
       "((100, 1), (100, 1))"
      ]
     },
     "execution_count": 33,
     "metadata": {},
     "output_type": "execute_result"
    }
   ],
   "source": [
    "out.shape, init_out.shape"
   ]
  },
  {
   "cell_type": "code",
   "execution_count": 34,
   "id": "a6bfff9a-ecf6-4649-b45e-e815446ccb3d",
   "metadata": {},
   "outputs": [],
   "source": [
    "\n",
    "\n",
    "learning_rate = 1e-4\n",
    "\n",
    "wandb.config.update(\n",
    "    {\n",
    "        \"learning_rate\": learning_rate,\n",
    "    }\n",
    ")\n",
    "\n",
    "\n",
    "optim = optax.adam(learning_rate)\n",
    "opt_state = optim.init(model)"
   ]
  },
  {
   "cell_type": "code",
   "execution_count": 35,
   "id": "e9ba8265-fca3-4e78-a17d-bce629ea4f80",
   "metadata": {},
   "outputs": [],
   "source": [
    "@eqx.filter_jit\n",
    "@eqx.filter_value_and_grad\n",
    "def make_step(model, x, y):\n",
    "    pred_y = jax.vmap(model)(x)\n",
    "    # Trains with respect to binary cross-entropy\n",
    "    return jnp.mean((pred_y - y)**2)\n",
    "\n",
    "@eqx.filter_jit\n",
    "def val_step(model, x, y):\n",
    "    pred_y = jax.vmap(model)(x)\n",
    "    # Trains with respect to binary cross-entropy\n",
    "    return jnp.mean((pred_y - y)**2)\n",
    "    "
   ]
  },
  {
   "cell_type": "code",
   "execution_count": 36,
   "id": "d435eab5-44f3-4b97-9473-8a0652158c15",
   "metadata": {},
   "outputs": [],
   "source": [
    "# loss, grads = make_step(model, xtrain[idx], ytrain[idx])\n",
    "# perm = jrandom.permutation(key, indices)"
   ]
  },
  {
   "cell_type": "code",
   "execution_count": 37,
   "id": "05295a65-650d-42eb-b573-377e6ba46606",
   "metadata": {},
   "outputs": [
    {
     "name": "stderr",
     "output_type": "stream",
     "text": [
      "2022-05-04 08:44:08.725132: W tensorflow/stream_executor/platform/default/dso_loader.cc:64] Could not load dynamic library 'libcuda.so.1'; dlerror: libcuda.so.1: cannot open shared object file: No such file or directory\n",
      "2022-05-04 08:44:08.725160: W tensorflow/stream_executor/cuda/cuda_driver.cc:269] failed call to cuInit: UNKNOWN ERROR (303)\n"
     ]
    },
    {
     "data": {
      "application/vnd.jupyter.widget-view+json": {
       "model_id": "9e3db8dacb5c40a393e50bd411abf0ae",
       "version_major": 2,
       "version_minor": 0
      },
      "text/plain": [
       "  0%|          | 0/30000 [00:00<?, ?it/s]"
      ]
     },
     "metadata": {},
     "output_type": "display_data"
    }
   ],
   "source": [
    "\n",
    "batch_size = 128\n",
    "steps = 30_000 if not smoke_test else 5_000\n",
    "\n",
    "wandb.config.update(\n",
    "    {\n",
    "        \"batch_size\": batch_size,\n",
    "        \"steps\": steps\n",
    "    }\n",
    ")\n",
    "\n",
    "# keys for the permutations\n",
    "# loader_key = jrandom.PRNGKey(42)\n",
    "# indices = jnp.arange(x.shape[0])\n",
    "# perm = jrandom.split(loader_key, steps)\n",
    "train_ds = make_mini_batcher(xtrain, ytrain, batch_size, 1, shuffle=True)\n",
    "\n",
    "\n",
    "losses = {} \n",
    "losses[\"train\"] = []\n",
    "losses[\"valid\"] = []\n",
    "\n",
    "\n",
    "with tqdm.trange(steps) as pbar:\n",
    "    for step in pbar:\n",
    "        \n",
    "        # idx = jrandom.choice(perm[step], indices, shape=(batch_size,))\n",
    "        # loss, grads = make_step(model, xtrain[idx], ytrain[idx])k\n",
    "        \n",
    "        ix, iy = train_ds()\n",
    "        loss, grads = make_step(model, ix, iy)\n",
    "        \n",
    "        updates, opt_state = optim.update(grads, opt_state)\n",
    "        model = eqx.apply_updates(model, updates)\n",
    "        \n",
    "        losses[\"train\"].append(loss)\n",
    "        wandb.log({\"train_loss\": loss, \"iteration\": step})\n",
    "        \n",
    "        # validation step\n",
    "        vloss = val_step(model, xvalid, yvalid)\n",
    "        losses[\"valid\"].append(vloss)\n",
    "        \n",
    "        \n",
    "        wandb.log({\"val_loss\": vloss, \"iteration\": step})\n",
    "        \n",
    "        if step % 10 == 0:\n",
    "            pbar.set_description(f\"Step: {step:_} | Train Loss: {loss:.3e} | Valid Loss: {vloss:.3e}\")\n",
    "            "
   ]
  },
  {
   "cell_type": "code",
   "execution_count": 38,
   "id": "c194ccd3-d53a-4bb2-874f-03fe10074afc",
   "metadata": {},
   "outputs": [
    {
     "data": {
      "image/png": "[encoded data removed]",
      "text/plain": [
       "<Figure size 432x288 with 1 Axes>"
      ]
     },
     "metadata": {
      "needs_background": "light"
     },
     "output_type": "display_data"
    }
   ],
   "source": [
    "fig, ax = plt.subplots()\n",
    "\n",
    "ax.plot(losses[\"train\"], label=\"Train Loss\", color=\"blue\")\n",
    "ax.plot(losses[\"valid\"], label=\"Validation Loss\", color=\"red\")\n",
    "ax.set(xlabel=\"Iterations\", ylabel=\"Loss (MSE)\", yscale=\"log\")\n",
    "plt.tight_layout()\n",
    "plt.legend()\n",
    "plt.show()"
   ]
  },
  {
   "cell_type": "code",
   "execution_count": 39,
   "id": "fafe4fc9-97d5-4ad1-b2c2-b9e9ae819f2f",
   "metadata": {},
   "outputs": [],
   "source": [
    "@jax.jit\n",
    "def pred_step(model, data):\n",
    "    return jax.vmap(model)(data)"
   ]
  },
  {
   "cell_type": "code",
   "execution_count": 40,
   "id": "679048a4-e33c-40f5-957c-0542ad2f412e",
   "metadata": {},
   "outputs": [],
   "source": [
    "# %%time\n",
    "\n",
    "# data[\"pred\"] = np.asarray(pred_step(model,jnp.asarray(data[cols].values)))"
   ]
  },
  {
   "cell_type": "code",
   "execution_count": 41,
   "id": "7dffb06e-b734-40f9-aa51-b00b4dd2e25a",
   "metadata": {},
   "outputs": [],
   "source": [
    "# data_test[\"pred\"] = np.asarray(pred_step(model,jnp.asarray(data_test[[\"Nx\", \"Ny\", \"steps\"]].values)))"
   ]
  },
  {
   "cell_type": "markdown",
   "id": "b09fc154-ecb5-4b68-9c8c-02f056717787",
   "metadata": {},
   "source": [
    "\n",
    "## Results"
   ]
  },
  {
   "cell_type": "code",
   "execution_count": 42,
   "id": "b37e73ed-b6d9-41d1-8303-28936e54bd45",
   "metadata": {},
   "outputs": [
    {
     "name": "stdout",
     "output_type": "stream",
     "text": [
      "model.nc  test.nc  train.nc\n"
     ]
    }
   ],
   "source": [
    "!ls /mnt/meom/workdir/johnsonj/data/ssh_data/interim_gulf/"
   ]
  },
  {
   "cell_type": "code",
   "execution_count": 43,
   "id": "7f24c593-5428-42a4-916f-53b9429d0703",
   "metadata": {},
   "outputs": [
    {
     "name": "stdout",
     "output_type": "stream",
     "text": [
      "CPU times: user 16 ms, sys: 12 ms, total: 28 ms\n",
      "Wall time: 467 ms\n"
     ]
    },
    {
     "data": {
      "text/html": [
       "<div><svg style=\"position: absolute; width: 0; height: 0; overflow: hidden\">\n",
       "<defs>\n",
       "<symbol id=\"icon-database\" viewBox=\"0 0 32 32\">\n",
       "<path d=\"M16 0c-8.837 0-16 2.239-16 5v4c0 2.761 7.163 5 16 5s16-2.239 16-5v-4c0-2.761-7.163-5-16-5z\"></path>\n",
       "<path d=\"M16 17c-8.837 0-16-2.239-16-5v6c0 2.761 7.163 5 16 5s16-2.239 16-5v-6c0 2.761-7.163 5-16 5z\"></path>\n",
       "<path d=\"M16 26c-8.837 0-16-2.239-16-5v6c0 2.761 7.163 5 16 5s16-2.239 16-5v-6c0 2.761-7.163 5-16 5z\"></path>\n",
       "</symbol>\n",
       "<symbol id=\"icon-file-text2\" viewBox=\"0 0 32 32\">\n",
       "<path d=\"M28.681 7.159c-0.694-0.947-1.662-2.053-2.724-3.116s-2.169-2.030-3.116-2.724c-1.612-1.182-2.393-1.319-2.841-1.319h-15.5c-1.378 0-2.5 1.121-2.5 2.5v27c0 1.378 1.122 2.5 2.5 2.5h23c1.378 0 2.5-1.122 2.5-2.5v-19.5c0-0.448-0.137-1.23-1.319-2.841zM24.543 5.457c0.959 0.959 1.712 1.825 2.268 2.543h-4.811v-4.811c0.718 0.556 1.584 1.309 2.543 2.268zM28 29.5c0 0.271-0.229 0.5-0.5 0.5h-23c-0.271 0-0.5-0.229-0.5-0.5v-27c0-0.271 0.229-0.5 0.5-0.5 0 0 15.499-0 15.5 0v7c0 0.552 0.448 1 1 1h7v19.5z\"></path>\n",
       "<path d=\"M23 26h-14c-0.552 0-1-0.448-1-1s0.448-1 1-1h14c0.552 0 1 0.448 1 1s-0.448 1-1 1z\"></path>\n",
       "<path d=\"M23 22h-14c-0.552 0-1-0.448-1-1s0.448-1 1-1h14c0.552 0 1 0.448 1 1s-0.448 1-1 1z\"></path>\n",
       "<path d=\"M23 18h-14c-0.552 0-1-0.448-1-1s0.448-1 1-1h14c0.552 0 1 0.448 1 1s-0.448 1-1 1z\"></path>\n",
       "</symbol>\n",
       "</defs>\n",
       "</svg>\n",
       "<style>/* CSS stylesheet for displaying xarray objects in jupyterlab.\n",
       " *\n",
       " */\n",
       "\n",
       ":root {\n",
       "  --xr-font-color0: var(--jp-content-font-color0, rgba(0, 0, 0, 1));\n",
       "  --xr-font-color2: var(--jp-content-font-color2, rgba(0, 0, 0, 0.54));\n",
       "  --xr-font-color3: var(--jp-content-font-color3, rgba(0, 0, 0, 0.38));\n",
       "  --xr-border-color: var(--jp-border-color2, #e0e0e0);\n",
       "  --xr-disabled-color: var(--jp-layout-color3, #bdbdbd);\n",
       "  --xr-background-color: var(--jp-layout-color0, white);\n",
       "  --xr-background-color-row-even: var(--jp-layout-color1, white);\n",
       "  --xr-background-color-row-odd: var(--jp-layout-color2, #eeeeee);\n",
       "}\n",
       "\n",
       "html[theme=dark],\n",
       "body.vscode-dark {\n",
       "  --xr-font-color0: rgba(255, 255, 255, 1);\n",
       "  --xr-font-color2: rgba(255, 255, 255, 0.54);\n",
       "  --xr-font-color3: rgba(255, 255, 255, 0.38);\n",
       "  --xr-border-color: #1F1F1F;\n",
       "  --xr-disabled-color: #515151;\n",
       "  --xr-background-color: #111111;\n",
       "  --xr-background-color-row-even: #111111;\n",
       "  --xr-background-color-row-odd: #313131;\n",
       "}\n",
       "\n",
       ".xr-wrap {\n",
       "  display: block;\n",
       "  min-width: 300px;\n",
       "  max-width: 700px;\n",
       "}\n",
       "\n",
       ".xr-text-repr-fallback {\n",
       "  /* fallback to plain text repr when CSS is not injected (untrusted notebook) */\n",
       "  display: none;\n",
       "}\n",
       "\n",
       ".xr-header {\n",
       "  padding-top: 6px;\n",
       "  padding-bottom: 6px;\n",
       "  margin-bottom: 4px;\n",
       "  border-bottom: solid 1px var(--xr-border-color);\n",
       "}\n",
       "\n",
       ".xr-header > div,\n",
       ".xr-header > ul {\n",
       "  display: inline;\n",
       "  margin-top: 0;\n",
       "  margin-bottom: 0;\n",
       "}\n",
       "\n",
       ".xr-obj-type,\n",
       ".xr-array-name {\n",
       "  margin-left: 2px;\n",
       "  margin-right: 10px;\n",
       "}\n",
       "\n",
       ".xr-obj-type {\n",
       "  color: var(--xr-font-color2);\n",
       "}\n",
       "\n",
       ".xr-sections {\n",
       "  padding-left: 0 !important;\n",
       "  display: grid;\n",
       "  grid-template-columns: 150px auto auto 1fr 20px 20px;\n",
       "}\n",
       "\n",
       ".xr-section-item {\n",
       "  display: contents;\n",
       "}\n",
       "\n",
       ".xr-section-item input {\n",
       "  display: none;\n",
       "}\n",
       "\n",
       ".xr-section-item input + label {\n",
       "  color: var(--xr-disabled-color);\n",
       "}\n",
       "\n",
       ".xr-section-item input:enabled + label {\n",
       "  cursor: pointer;\n",
       "  color: var(--xr-font-color2);\n",
       "}\n",
       "\n",
       ".xr-section-item input:enabled + label:hover {\n",
       "  color: var(--xr-font-color0);\n",
       "}\n",
       "\n",
       ".xr-section-summary {\n",
       "  grid-column: 1;\n",
       "  color: var(--xr-font-color2);\n",
       "  font-weight: 500;\n",
       "}\n",
       "\n",
       ".xr-section-summary > span {\n",
       "  display: inline-block;\n",
       "  padding-left: 0.5em;\n",
       "}\n",
       "\n",
       ".xr-section-summary-in:disabled + label {\n",
       "  color: var(--xr-font-color2);\n",
       "}\n",
       "\n",
       ".xr-section-summary-in + label:before {\n",
       "  display: inline-block;\n",
       "  content: '►';\n",
       "  font-size: 11px;\n",
       "  width: 15px;\n",
       "  text-align: center;\n",
       "}\n",
       "\n",
       ".xr-section-summary-in:disabled + label:before {\n",
       "  color: var(--xr-disabled-color);\n",
       "}\n",
       "\n",
       ".xr-section-summary-in:checked + label:before {\n",
       "  content: '▼';\n",
       "}\n",
       "\n",
       ".xr-section-summary-in:checked + label > span {\n",
       "  display: none;\n",
       "}\n",
       "\n",
       ".xr-section-summary,\n",
       ".xr-section-inline-details {\n",
       "  padding-top: 4px;\n",
       "  padding-bottom: 4px;\n",
       "}\n",
       "\n",
       ".xr-section-inline-details {\n",
       "  grid-column: 2 / -1;\n",
       "}\n",
       "\n",
       ".xr-section-details {\n",
       "  display: none;\n",
       "  grid-column: 1 / -1;\n",
       "  margin-bottom: 5px;\n",
       "}\n",
       "\n",
       ".xr-section-summary-in:checked ~ .xr-section-details {\n",
       "  display: contents;\n",
       "}\n",
       "\n",
       ".xr-array-wrap {\n",
       "  grid-column: 1 / -1;\n",
       "  display: grid;\n",
       "  grid-template-columns: 20px auto;\n",
       "}\n",
       "\n",
       ".xr-array-wrap > label {\n",
       "  grid-column: 1;\n",
       "  vertical-align: top;\n",
       "}\n",
       "\n",
       ".xr-preview {\n",
       "  color: var(--xr-font-color3);\n",
       "}\n",
       "\n",
       ".xr-array-preview,\n",
       ".xr-array-data {\n",
       "  padding: 0 5px !important;\n",
       "  grid-column: 2;\n",
       "}\n",
       "\n",
       ".xr-array-data,\n",
       ".xr-array-in:checked ~ .xr-array-preview {\n",
       "  display: none;\n",
       "}\n",
       "\n",
       ".xr-array-in:checked ~ .xr-array-data,\n",
       ".xr-array-preview {\n",
       "  display: inline-block;\n",
       "}\n",
       "\n",
       ".xr-dim-list {\n",
       "  display: inline-block !important;\n",
       "  list-style: none;\n",
       "  padding: 0 !important;\n",
       "  margin: 0;\n",
       "}\n",
       "\n",
       ".xr-dim-list li {\n",
       "  display: inline-block;\n",
       "  padding: 0;\n",
       "  margin: 0;\n",
       "}\n",
       "\n",
       ".xr-dim-list:before {\n",
       "  content: '(';\n",
       "}\n",
       "\n",
       ".xr-dim-list:after {\n",
       "  content: ')';\n",
       "}\n",
       "\n",
       ".xr-dim-list li:not(:last-child):after {\n",
       "  content: ',';\n",
       "  padding-right: 5px;\n",
       "}\n",
       "\n",
       ".xr-has-index {\n",
       "  font-weight: bold;\n",
       "}\n",
       "\n",
       ".xr-var-list,\n",
       ".xr-var-item {\n",
       "  display: contents;\n",
       "}\n",
       "\n",
       ".xr-var-item > div,\n",
       ".xr-var-item label,\n",
       ".xr-var-item > .xr-var-name span {\n",
       "  background-color: var(--xr-background-color-row-even);\n",
       "  margin-bottom: 0;\n",
       "}\n",
       "\n",
       ".xr-var-item > .xr-var-name:hover span {\n",
       "  padding-right: 5px;\n",
       "}\n",
       "\n",
       ".xr-var-list > li:nth-child(odd) > div,\n",
       ".xr-var-list > li:nth-child(odd) > label,\n",
       ".xr-var-list > li:nth-child(odd) > .xr-var-name span {\n",
       "  background-color: var(--xr-background-color-row-odd);\n",
       "}\n",
       "\n",
       ".xr-var-name {\n",
       "  grid-column: 1;\n",
       "}\n",
       "\n",
       ".xr-var-dims {\n",
       "  grid-column: 2;\n",
       "}\n",
       "\n",
       ".xr-var-dtype {\n",
       "  grid-column: 3;\n",
       "  text-align: right;\n",
       "  color: var(--xr-font-color2);\n",
       "}\n",
       "\n",
       ".xr-var-preview {\n",
       "  grid-column: 4;\n",
       "}\n",
       "\n",
       ".xr-var-name,\n",
       ".xr-var-dims,\n",
       ".xr-var-dtype,\n",
       ".xr-preview,\n",
       ".xr-attrs dt {\n",
       "  white-space: nowrap;\n",
       "  overflow: hidden;\n",
       "  text-overflow: ellipsis;\n",
       "  padding-right: 10px;\n",
       "}\n",
       "\n",
       ".xr-var-name:hover,\n",
       ".xr-var-dims:hover,\n",
       ".xr-var-dtype:hover,\n",
       ".xr-attrs dt:hover {\n",
       "  overflow: visible;\n",
       "  width: auto;\n",
       "  z-index: 1;\n",
       "}\n",
       "\n",
       ".xr-var-attrs,\n",
       ".xr-var-data {\n",
       "  display: none;\n",
       "  background-color: var(--xr-background-color) !important;\n",
       "  padding-bottom: 5px !important;\n",
       "}\n",
       "\n",
       ".xr-var-attrs-in:checked ~ .xr-var-attrs,\n",
       ".xr-var-data-in:checked ~ .xr-var-data {\n",
       "  display: block;\n",
       "}\n",
       "\n",
       ".xr-var-data > table {\n",
       "  float: right;\n",
       "}\n",
       "\n",
       ".xr-var-name span,\n",
       ".xr-var-data,\n",
       ".xr-attrs {\n",
       "  padding-left: 25px !important;\n",
       "}\n",
       "\n",
       ".xr-attrs,\n",
       ".xr-var-attrs,\n",
       ".xr-var-data {\n",
       "  grid-column: 1 / -1;\n",
       "}\n",
       "\n",
       "dl.xr-attrs {\n",
       "  padding: 0;\n",
       "  margin: 0;\n",
       "  display: grid;\n",
       "  grid-template-columns: 125px auto;\n",
       "}\n",
       "\n",
       ".xr-attrs dt,\n",
       ".xr-attrs dd {\n",
       "  padding: 0;\n",
       "  margin: 0;\n",
       "  float: left;\n",
       "  padding-right: 10px;\n",
       "  width: auto;\n",
       "}\n",
       "\n",
       ".xr-attrs dt {\n",
       "  font-weight: normal;\n",
       "  grid-column: 1;\n",
       "}\n",
       "\n",
       ".xr-attrs dt:hover span {\n",
       "  display: inline-block;\n",
       "  background: var(--xr-background-color);\n",
       "  padding-right: 10px;\n",
       "}\n",
       "\n",
       ".xr-attrs dd {\n",
       "  grid-column: 2;\n",
       "  white-space: pre-wrap;\n",
       "  word-break: break-all;\n",
       "}\n",
       "\n",
       ".xr-icon-database,\n",
       ".xr-icon-file-text2 {\n",
       "  display: inline-block;\n",
       "  vertical-align: middle;\n",
       "  width: 1em;\n",
       "  height: 1.5em !important;\n",
       "  stroke-width: 0;\n",
       "  stroke: currentColor;\n",
       "  fill: currentColor;\n",
       "}\n",
       "</style><pre class='xr-text-repr-fallback'>&lt;xarray.Dataset&gt;\n",
       "Dimensions:         (time: 51551)\n",
       "Coordinates:\n",
       "  * time            (time) datetime64[ns] 2015-12-01T00:25:31.702877184 ... 2...\n",
       "    longitude       (time) float64 294.0 294.1 294.1 294.1 ... 305.7 305.7 305.7\n",
       "    latitude        (time) float64 42.19 42.14 42.09 42.05 ... 43.85 43.91 43.97\n",
       "Data variables:\n",
       "    sla_unfiltered  (time) float32 0.024 0.032 0.089 0.092 ... 0.132 0.127 0.125</pre><div class='xr-wrap' hidden><div class='xr-header'><div class='xr-obj-type'>xarray.Dataset</div></div><ul class='xr-sections'><li class='xr-section-item'><input id='section-47c8d7a8-f1d6-4317-af05-ab2a695ef18d' class='xr-section-summary-in' type='checkbox' disabled ><label for='section-47c8d7a8-f1d6-4317-af05-ab2a695ef18d' class='xr-section-summary'  title='Expand/collapse section'>Dimensions:</label><div class='xr-section-inline-details'><ul class='xr-dim-list'><li><span class='xr-has-index'>time</span>: 51551</li></ul></div><div class='xr-section-details'></div></li><li class='xr-section-item'><input id='section-9f6f23dc-2b7b-496b-add1-39d4a0892dec' class='xr-section-summary-in' type='checkbox'  checked><label for='section-9f6f23dc-2b7b-496b-add1-39d4a0892dec' class='xr-section-summary' >Coordinates: <span>(3)</span></label><div class='xr-section-inline-details'></div><div class='xr-section-details'><ul class='xr-var-list'><li class='xr-var-item'><div class='xr-var-name'><span class='xr-has-index'>time</span></div><div class='xr-var-dims'>(time)</div><div class='xr-var-dtype'>datetime64[ns]</div><div class='xr-var-preview xr-preview'>2015-12-01T00:25:31.702877184 .....</div><input id='attrs-c5fd611f-9f45-4684-bd12-e4d3dacbc1dd' class='xr-var-attrs-in' type='checkbox' ><label for='attrs-c5fd611f-9f45-4684-bd12-e4d3dacbc1dd' title='Show/Hide attributes'><svg class='icon xr-icon-file-text2'><use xlink:href='#icon-file-text2'></use></svg></label><input id='data-b829dcac-0afb-4d24-9769-1d9ca75eac30' class='xr-var-data-in' type='checkbox'><label for='data-b829dcac-0afb-4d24-9769-1d9ca75eac30' title='Show/Hide data repr'><svg class='icon xr-icon-database'><use xlink:href='#icon-database'></use></svg></label><div class='xr-var-attrs'><dl class='xr-attrs'><dt><span>axis :</span></dt><dd>T</dd><dt><span>long_name :</span></dt><dd>Time of measurement</dd><dt><span>standard_name :</span></dt><dd>time</dd></dl></div><div class='xr-var-data'><pre>array([&#x27;2015-12-01T00:25:31.702877184&#x27;, &#x27;2015-12-01T00:25:32.781457152&#x27;,\n",
       "       &#x27;2015-12-01T00:25:33.860037120&#x27;, ..., &#x27;2016-03-01T22:41:33.023046144&#x27;,\n",
       "       &#x27;2016-03-01T22:41:33.966445824&#x27;, &#x27;2016-03-01T22:41:34.909846016&#x27;],\n",
       "      dtype=&#x27;datetime64[ns]&#x27;)</pre></div></li><li class='xr-var-item'><div class='xr-var-name'><span>longitude</span></div><div class='xr-var-dims'>(time)</div><div class='xr-var-dtype'>float64</div><div class='xr-var-preview xr-preview'>...</div><input id='attrs-23873c45-cf8d-4598-9fb3-cd2953c87f06' class='xr-var-attrs-in' type='checkbox' ><label for='attrs-23873c45-cf8d-4598-9fb3-cd2953c87f06' title='Show/Hide attributes'><svg class='icon xr-icon-file-text2'><use xlink:href='#icon-file-text2'></use></svg></label><input id='data-896410be-772a-472e-985e-4dd1b5053d01' class='xr-var-data-in' type='checkbox'><label for='data-896410be-772a-472e-985e-4dd1b5053d01' title='Show/Hide data repr'><svg class='icon xr-icon-database'><use xlink:href='#icon-database'></use></svg></label><div class='xr-var-attrs'><dl class='xr-attrs'><dt><span>long_name :</span></dt><dd>Longitude of measurement</dd><dt><span>standard_name :</span></dt><dd>longitude</dd><dt><span>units :</span></dt><dd>degrees_east</dd></dl></div><div class='xr-var-data'><pre>array([294.02521 , 294.063017, 294.10076 , ..., 305.71919 , 305.711385,\n",
       "       305.703572])</pre></div></li><li class='xr-var-item'><div class='xr-var-name'><span>latitude</span></div><div class='xr-var-dims'>(time)</div><div class='xr-var-dtype'>float64</div><div class='xr-var-preview xr-preview'>...</div><input id='attrs-96d945b4-b592-4c27-b3bf-98258b6ee865' class='xr-var-attrs-in' type='checkbox' ><label for='attrs-96d945b4-b592-4c27-b3bf-98258b6ee865' title='Show/Hide attributes'><svg class='icon xr-icon-file-text2'><use xlink:href='#icon-file-text2'></use></svg></label><input id='data-7b89a83f-1f12-4917-8280-14f610384483' class='xr-var-data-in' type='checkbox'><label for='data-7b89a83f-1f12-4917-8280-14f610384483' title='Show/Hide data repr'><svg class='icon xr-icon-database'><use xlink:href='#icon-database'></use></svg></label><div class='xr-var-attrs'><dl class='xr-attrs'><dt><span>long_name :</span></dt><dd>Latitude of measurement</dd><dt><span>standard_name :</span></dt><dd>latitude</dd><dt><span>units :</span></dt><dd>degrees_north</dd></dl></div><div class='xr-var-data'><pre>array([42.190078, 42.141874, 42.093655, ..., 43.854413, 43.911485, 43.968557])</pre></div></li></ul></div></li><li class='xr-section-item'><input id='section-95f76164-ed93-4700-b767-6470c3558d38' class='xr-section-summary-in' type='checkbox'  checked><label for='section-95f76164-ed93-4700-b767-6470c3558d38' class='xr-section-summary' >Data variables: <span>(1)</span></label><div class='xr-section-inline-details'></div><div class='xr-section-details'><ul class='xr-var-list'><li class='xr-var-item'><div class='xr-var-name'><span>sla_unfiltered</span></div><div class='xr-var-dims'>(time)</div><div class='xr-var-dtype'>float32</div><div class='xr-var-preview xr-preview'>...</div><input id='attrs-78d68bce-e774-40e6-b921-f1406e8291c8' class='xr-var-attrs-in' type='checkbox' ><label for='attrs-78d68bce-e774-40e6-b921-f1406e8291c8' title='Show/Hide attributes'><svg class='icon xr-icon-file-text2'><use xlink:href='#icon-file-text2'></use></svg></label><input id='data-6f3357b1-8d5e-4ef2-83c8-43ce5e80baef' class='xr-var-data-in' type='checkbox'><label for='data-6f3357b1-8d5e-4ef2-83c8-43ce5e80baef' title='Show/Hide data repr'><svg class='icon xr-icon-database'><use xlink:href='#icon-database'></use></svg></label><div class='xr-var-attrs'><dl class='xr-attrs'><dt><span>comment :</span></dt><dd>The sea level anomaly is the sea surface height above mean sea surface height; the uncorrected sla can be computed as follows: [uncorrected sla]=[sla from product]+[dac]+[ocean_tide]+[internal_tide]-[lwe]; see the product user manual for details</dd><dt><span>long_name :</span></dt><dd>Sea level anomaly not-filtered not-subsampled with dac, ocean_tide and lwe correction applied</dd><dt><span>standard_name :</span></dt><dd>sea_surface_height_above_sea_level</dd><dt><span>units :</span></dt><dd>m</dd></dl></div><div class='xr-var-data'><pre>array([0.024, 0.032, 0.089, ..., 0.132, 0.127, 0.125], dtype=float32)</pre></div></li></ul></div></li><li class='xr-section-item'><input id='section-82ad066b-2971-4cb9-a576-9862dc081345' class='xr-section-summary-in' type='checkbox' disabled ><label for='section-82ad066b-2971-4cb9-a576-9862dc081345' class='xr-section-summary'  title='Expand/collapse section'>Attributes: <span>(0)</span></label><div class='xr-section-inline-details'></div><div class='xr-section-details'><dl class='xr-attrs'></dl></div></li></ul></div></div>"
      ],
      "text/plain": [
       "<xarray.Dataset>\n",
       "Dimensions:         (time: 51551)\n",
       "Coordinates:\n",
       "  * time            (time) datetime64[ns] 2015-12-01T00:25:31.702877184 ... 2...\n",
       "    longitude       (time) float64 ...\n",
       "    latitude        (time) float64 ...\n",
       "Data variables:\n",
       "    sla_unfiltered  (time) float32 ..."
      ]
     },
     "execution_count": 43,
     "metadata": {},
     "output_type": "execute_result"
    }
   ],
   "source": [
    "%%time\n",
    "\n",
    "\n",
    "if dataset == \"ssh_gulf_winter\":\n",
    "    img_test = xr.open_dataset(\"/mnt/meom/workdir/johnsonj/data/ssh_data/interim_gulf_winter/test.nc\")\n",
    "elif dataset == \"ssh_gulf_summer\":\n",
    "    img_test = xr.open_dataset(\"/mnt/meom/workdir/johnsonj/data/ssh_data/interim_gulf_summer/test.nc\")\n",
    "elif dataset == \"ssh_gulf\":\n",
    "    img_test = xr.open_dataset(\"/mnt/meom/workdir/johnsonj/data/ssh_data/interim_gulf/test.nc\")\n",
    "else:\n",
    "    raise ValueError(f\"Unrecognized dataset: {dataset}\")\n",
    "\n",
    "\n",
    "img_test"
   ]
  },
  {
   "cell_type": "code",
   "execution_count": 44,
   "id": "c3dab57e-e62e-4c74-9206-108ca29127d9",
   "metadata": {},
   "outputs": [
    {
     "name": "stdout",
     "output_type": "stream",
     "text": [
      "CPU times: user 12 ms, sys: 4 ms, total: 16 ms\n",
      "Wall time: 113 ms\n"
     ]
    }
   ],
   "source": [
    "%%time\n",
    "\n",
    "# convert to dataframe\n",
    "data_test = img_test.to_dataframe().reset_index().dropna()"
   ]
  },
  {
   "cell_type": "code",
   "execution_count": 45,
   "id": "780f7022-3fda-40a5-8040-706ccf12a588",
   "metadata": {},
   "outputs": [],
   "source": [
    "wandb.config.update(\n",
    "    {\n",
    "        \"n_test\": data_test.shape[0],\n",
    "    }\n",
    ")"
   ]
  },
  {
   "cell_type": "code",
   "execution_count": 46,
   "id": "ebdd68e7-5359-4817-bacc-8c89f3229dbb",
   "metadata": {},
   "outputs": [],
   "source": [
    "# # transform time coordinate\n",
    "# days_in_year = 365\n",
    "# year = pd.to_datetime(data_test['time']).dt.dayofyear\n",
    "# data_test[\"doy_sin\"] = np.sin(2.0 * np.pi * year / days_in_year)\n",
    "# data_test[\"doy_cos\"] = np.cos(2.0 * np.pi * year / days_in_year)\n",
    "# data_test[cols] = time_scaler.transform(data_test[cols].values).squeeze()"
   ]
  },
  {
   "cell_type": "code",
   "execution_count": 47,
   "id": "e62fb632-636b-4a5a-9b69-d00b8e484805",
   "metadata": {},
   "outputs": [],
   "source": [
    "data_test[\"time_julian\"] = f(pd.DatetimeIndex(data_test['time']).to_julian_date())\n",
    "data_test[cols] = time_scaler.transform(data_test[cols].values).squeeze()"
   ]
  },
  {
   "cell_type": "code",
   "execution_count": 48,
   "id": "d3427d68-d2ca-40f8-9ce8-3d8769385330",
   "metadata": {},
   "outputs": [
    {
     "name": "stdout",
     "output_type": "stream",
     "text": [
      "CPU times: user 1.41 s, sys: 128 ms, total: 1.54 s\n",
      "Wall time: 2.32 s\n"
     ]
    }
   ],
   "source": [
    "%%time\n",
    "\n",
    "data_test[\"pred\"] = np.asarray(pred_step(model,jnp.asarray(data_test[cols].values)))\n"
   ]
  },
  {
   "cell_type": "code",
   "execution_count": 49,
   "id": "fbc47e24-3c47-4eed-8f60-0796c94b52f5",
   "metadata": {},
   "outputs": [],
   "source": [
    "data_test[cols] = time_scaler.inverse_transform(data_test[cols].values).squeeze()"
   ]
  },
  {
   "cell_type": "code",
   "execution_count": 50,
   "id": "ed5033fe-1076-4249-b1ae-cd040a745e09",
   "metadata": {},
   "outputs": [
    {
     "data": {
      "text/html": [
       "<div>\n",
       "<style scoped>\n",
       "    .dataframe tbody tr th:only-of-type {\n",
       "        vertical-align: middle;\n",
       "    }\n",
       "\n",
       "    .dataframe tbody tr th {\n",
       "        vertical-align: top;\n",
       "    }\n",
       "\n",
       "    .dataframe thead th {\n",
       "        text-align: right;\n",
       "    }\n",
       "</style>\n",
       "<table border=\"1\" class=\"dataframe\">\n",
       "  <thead>\n",
       "    <tr style=\"text-align: right;\">\n",
       "      <th></th>\n",
       "      <th>time</th>\n",
       "      <th>longitude</th>\n",
       "      <th>latitude</th>\n",
       "      <th>sla_unfiltered</th>\n",
       "      <th>time_julian</th>\n",
       "      <th>pred</th>\n",
       "    </tr>\n",
       "  </thead>\n",
       "  <tbody>\n",
       "    <tr>\n",
       "      <th>0</th>\n",
       "      <td>2015-12-01 00:25:31.702877184</td>\n",
       "      <td>294.025210</td>\n",
       "      <td>42.190078</td>\n",
       "      <td>0.024</td>\n",
       "      <td>0.1829</td>\n",
       "      <td>0.039869</td>\n",
       "    </tr>\n",
       "    <tr>\n",
       "      <th>1</th>\n",
       "      <td>2015-12-01 00:25:32.781457152</td>\n",
       "      <td>294.063017</td>\n",
       "      <td>42.141874</td>\n",
       "      <td>0.032</td>\n",
       "      <td>0.1829</td>\n",
       "      <td>0.040870</td>\n",
       "    </tr>\n",
       "    <tr>\n",
       "      <th>2</th>\n",
       "      <td>2015-12-01 00:25:33.860037120</td>\n",
       "      <td>294.100760</td>\n",
       "      <td>42.093655</td>\n",
       "      <td>0.089</td>\n",
       "      <td>0.1829</td>\n",
       "      <td>0.041673</td>\n",
       "    </tr>\n",
       "    <tr>\n",
       "      <th>3</th>\n",
       "      <td>2015-12-01 00:25:34.938617088</td>\n",
       "      <td>294.138440</td>\n",
       "      <td>42.045419</td>\n",
       "      <td>0.092</td>\n",
       "      <td>0.1829</td>\n",
       "      <td>0.042313</td>\n",
       "    </tr>\n",
       "    <tr>\n",
       "      <th>4</th>\n",
       "      <td>2015-12-01 00:25:36.017197056</td>\n",
       "      <td>294.176056</td>\n",
       "      <td>41.997167</td>\n",
       "      <td>0.014</td>\n",
       "      <td>0.1829</td>\n",
       "      <td>0.042867</td>\n",
       "    </tr>\n",
       "  </tbody>\n",
       "</table>\n",
       "</div>"
      ],
      "text/plain": [
       "                           time   longitude   latitude  sla_unfiltered  \\\n",
       "0 2015-12-01 00:25:31.702877184  294.025210  42.190078           0.024   \n",
       "1 2015-12-01 00:25:32.781457152  294.063017  42.141874           0.032   \n",
       "2 2015-12-01 00:25:33.860037120  294.100760  42.093655           0.089   \n",
       "3 2015-12-01 00:25:34.938617088  294.138440  42.045419           0.092   \n",
       "4 2015-12-01 00:25:36.017197056  294.176056  41.997167           0.014   \n",
       "\n",
       "   time_julian      pred  \n",
       "0       0.1829  0.039869  \n",
       "1       0.1829  0.040870  \n",
       "2       0.1829  0.041673  \n",
       "3       0.1829  0.042313  \n",
       "4       0.1829  0.042867  "
      ]
     },
     "execution_count": 50,
     "metadata": {},
     "output_type": "execute_result"
    }
   ],
   "source": [
    "data_test.head()"
   ]
  },
  {
   "cell_type": "markdown",
   "id": "e0cddfcd-dd30-4e24-ab13-e5c595c93625",
   "metadata": {},
   "source": [
    "#### Statistics: Spatial"
   ]
  },
  {
   "cell_type": "code",
   "execution_count": 51,
   "id": "ba18afbe-974e-4874-9c30-94b26aa72824",
   "metadata": {},
   "outputs": [],
   "source": [
    "# binning\n",
    "bin_lat_step = 1.0\n",
    "bin_lon_step = 1.0\n",
    "bin_time_step = \"1D\"\n",
    "min_obs = 10"
   ]
  },
  {
   "cell_type": "code",
   "execution_count": null,
   "id": "86b2c7d4-8be5-406e-bc77-3eb39e5fa20e",
   "metadata": {},
   "outputs": [],
   "source": []
  },
  {
   "cell_type": "code",
   "execution_count": 52,
   "id": "bcbeaf99-f281-4681-9ed3-63cb8060b8ba",
   "metadata": {},
   "outputs": [],
   "source": [
    "# start binning\n",
    "binning = pyinterp.Binning2D(\n",
    "    pyinterp.Axis(np.arange(0, 360, bin_lon_step), is_circle=True),\n",
    "    pyinterp.Axis(np.arange(-90, 90 + bin_lat_step, bin_lat_step)),\n",
    ")\n",
    "\n",
    "\n",
    "# binning along track\n",
    "binning.push(\n",
    "    data_test.longitude.values, \n",
    "    data_test.latitude.values,\n",
    "    data_test.sla_unfiltered.values,\n",
    "    simple=True\n",
    ")\n",
    "\n",
    "# # get statistic\n",
    "# binning.clear()\n",
    "\n",
    "# # binning map interp\n",
    "# binning.push(\n",
    "#     data_test.longitude.values,\n",
    "#     data_test.latitude.values,\n",
    "#     data_test.pred.values,\n",
    "#     simple=True\n",
    "# )\n",
    "# # get statistic\n",
    "# binning.clear()\n",
    "\n",
    "# # binning difference\n",
    "# binning.push(\n",
    "#     data_test.longitude.values,\n",
    "#     data_test.latitude.values,\n",
    "#     data_test.sla_unfiltered.values - data_test.pred.values,\n",
    "#     simple=True\n",
    "# )\n",
    "# # get statistic\n",
    "# binning.clear()\n",
    "\n",
    "# add rmse\n"
   ]
  },
  {
   "cell_type": "code",
   "execution_count": 53,
   "id": "afe0f888-7fdc-431d-942a-8c3ecb4958f6",
   "metadata": {},
   "outputs": [],
   "source": [
    "# stats = ['min', 'max', 'sum', 'sum_of_weights', 'variance', 'mean', 'count', 'kurtosis', 'skewness']\n",
    "# for istat in stats:\n",
    "\n",
    "#     t = binning.variable(istat)"
   ]
  },
  {
   "cell_type": "markdown",
   "id": "4b9f0c19-f088-414c-83ee-9e43bec6295b",
   "metadata": {},
   "source": [
    "#### Statistics: Time Series"
   ]
  },
  {
   "cell_type": "code",
   "execution_count": null,
   "id": "f01e7e9d-6e2c-443e-9f3b-185901740cda",
   "metadata": {},
   "outputs": [],
   "source": []
  },
  {
   "cell_type": "code",
   "execution_count": 54,
   "id": "d260b50c-06a4-4ec8-a703-cb81ae454f95",
   "metadata": {},
   "outputs": [],
   "source": [
    "# # errors\n",
    "# diff = ssh_alongtrack - ssh_map_interp\n",
    "# ds_stats = compute_ts_stats(diff, time_along_track, bin_time_step)\n",
    "# ds_stats.to_netcdf(\"tstats_diff.nc\")\n",
    "# rmse = ds_stats[\"rmse\"]\n",
    "\n",
    "# # ssh along track\n",
    "# ds_stats = compute_ts_stats(ssh_alongtrack, time_along_track, bin_time_step)\n",
    "# ds_stats.to_netcdf(\"tstats_true.nc\")\n",
    "# rmse_alongtrack = ds_stats[\"rmse\"]\n",
    "\n",
    "# # predictions\n",
    "# ds_stats = compute_ts_stats(ssh_map_interp, time_along_track, bin_time_step)\n",
    "# ds_stats.to_netcdf(\"tstats_pred.nc\")"
   ]
  },
  {
   "cell_type": "code",
   "execution_count": 55,
   "id": "9c50e260-7ae2-49b2-8488-38904229064d",
   "metadata": {},
   "outputs": [
    {
     "data": {
      "text/plain": [
       "(0.05103109193884808,\n",
       " 0.006493277175825832,\n",
       " 0.7902799689251444,\n",
       " 0.04199067740460626)"
      ]
     },
     "execution_count": 55,
     "metadata": {},
     "output_type": "execute_result"
    }
   ],
   "source": [
    "# calculate the (normalized) RMSE\n",
    "ts_stats = calculate_nrmse(\n",
    "    data_test.sla_unfiltered.values, \n",
    "    data_test.pred.values, \n",
    "    data_test.time, \n",
    "    dt_freq=bin_time_step, \n",
    "    min_obs=min_obs\n",
    ")\n",
    "\n",
    "\n",
    "wandb.log(\n",
    "    {\n",
    "        \"model_rmse_mean\": ts_stats[0],\n",
    "        \"model_rmse_std\": ts_stats[1],\n",
    "        \"model_rmse_mean\": ts_stats[2],\n",
    "        \"model_nrmse_std\": ts_stats[3],\n",
    "    }\n",
    ")\n",
    "ts_stats"
   ]
  },
  {
   "cell_type": "markdown",
   "id": "6a902e01-953a-4f01-a8ec-7738138c1bcf",
   "metadata": {},
   "source": [
    "### Power Spectrum"
   ]
  },
  {
   "cell_type": "code",
   "execution_count": 56,
   "id": "5b691301-efd4-4eea-a7b1-cb9abc6de998",
   "metadata": {},
   "outputs": [
    {
     "name": "stderr",
     "output_type": "stream",
     "text": [
      "/home/johnsonj/projects/gps4oi/notebooks/nerf/src/psd.py:16: RuntimeWarning: divide by zero encountered in true_divide\n",
      "  y = 1. / wavenumber\n"
     ]
    }
   ],
   "source": [
    "delta_t = 0.9434\n",
    "velocity = 6.77\n",
    "delta_x = velocity * delta_t\n",
    "\n",
    "# compute along track segments\n",
    "tracks = select_track_segments(\n",
    "    data_test.time.values,\n",
    "    data_test.latitude.values,\n",
    "    data_test.longitude.values,\n",
    "    data_test.sla_unfiltered.values,\n",
    "    data_test.pred.values,\n",
    ")\n",
    "\n",
    "# compute scores\n",
    "wavenumber, psd_ref, psd_study, psd_diff, resolved_scale = compute_psd_scores(\n",
    "    ssh_true=tracks[2],\n",
    "    ssh_pred=tracks[3],\n",
    "    delta_x=delta_x,\n",
    "    npt=tracks[-1],\n",
    "    scaling=\"density\", \n",
    "    noverlap=0\n",
    ")\n",
    "\n",
    "\n",
    "wandb.log(\n",
    "    {\n",
    "        \"resolved_spatial_scale\": resolved_scale,\n",
    "    }\n",
    ")"
   ]
  },
  {
   "cell_type": "code",
   "execution_count": 57,
   "id": "1c0f24e5-2bcc-4a60-b18d-0a710332b901",
   "metadata": {},
   "outputs": [],
   "source": [
    "wavenumber[0] += 1e-4"
   ]
  },
  {
   "cell_type": "code",
   "execution_count": 58,
   "id": "37d55f66-beef-491e-9ae4-26a610e8f44f",
   "metadata": {},
   "outputs": [
    {
     "data": {
      "image/png": "[encoded data removed]",
      "text/plain": [
       "<Figure size 504x360 with 1 Axes>"
      ]
     },
     "metadata": {
      "needs_background": "light"
     },
     "output_type": "display_data"
    }
   ],
   "source": [
    "fig, ax = plot_psd_spectrum(psd_study, psd_ref, wavenumber)\n",
    "\n",
    "\n",
    "wandb.log(\n",
    "    {\n",
    "        \"model_psd_spectrum\": wandb.Image(fig),\n",
    "    }\n",
    ")"
   ]
  },
  {
   "cell_type": "code",
   "execution_count": 59,
   "id": "1374a9bb-5222-41bf-b2a1-9583e79e02bb",
   "metadata": {},
   "outputs": [
    {
     "data": {
      "image/png": "[encoded data removed]",
      "text/plain": [
       "<Figure size 504x360 with 1 Axes>"
      ]
     },
     "metadata": {
      "needs_background": "light"
     },
     "output_type": "display_data"
    }
   ],
   "source": [
    "fig, ax = plot_psd_score(psd_diff, psd_ref, wavenumber, resolved_scale)\n",
    "\n",
    "wandb.log(\n",
    "    {\n",
    "        \"model_psd_score\": wandb.Image(fig),\n",
    "    }\n",
    ")"
   ]
  },
  {
   "cell_type": "code",
   "execution_count": 60,
   "id": "1c3345ca-8500-4df3-8069-6c36c039576d",
   "metadata": {},
   "outputs": [],
   "source": [
    "# from sklearn.metrics import mean_absolute_error, mean_squared_error"
   ]
  },
  {
   "cell_type": "code",
   "execution_count": 61,
   "id": "126b3dfa-c203-4ab7-90b6-90b78ffa2793",
   "metadata": {},
   "outputs": [],
   "source": [
    "# mae = mean_absolute_error(data_test[\"sla_unfiltered\"].values, data_test[\"pred\"].values)\n",
    "# mse = mean_squared_error(data_test[\"sla_unfiltered\"].values, data_test[\"pred\"].values)\n",
    "# rmse = np.sqrt(mse)\n",
    "\n",
    "# wandb.log(\n",
    "#     {\n",
    "#         \"test_mae\": mae,\n",
    "#         \"test_mse\": mse,\n",
    "#         \"rmse\": rmse,\n",
    "#     }\n",
    "# )"
   ]
  },
  {
   "cell_type": "markdown",
   "id": "a26fd3e9-8f1d-4165-bdff-c7f5fe481e79",
   "metadata": {},
   "source": [
    "## Model States"
   ]
  },
  {
   "cell_type": "markdown",
   "id": "48930fd7-14e0-495a-a013-5fcfdf75937c",
   "metadata": {},
   "source": [
    "## Visualize"
   ]
  },
  {
   "cell_type": "code",
   "execution_count": 62,
   "id": "4cb89e50-bff7-4bfd-8b27-b86eaa2d9f4f",
   "metadata": {},
   "outputs": [
    {
     "data": {
      "text/html": [
       "<div><svg style=\"position: absolute; width: 0; height: 0; overflow: hidden\">\n",
       "<defs>\n",
       "<symbol id=\"icon-database\" viewBox=\"0 0 32 32\">\n",
       "<path d=\"M16 0c-8.837 0-16 2.239-16 5v4c0 2.761 7.163 5 16 5s16-2.239 16-5v-4c0-2.761-7.163-5-16-5z\"></path>\n",
       "<path d=\"M16 17c-8.837 0-16-2.239-16-5v6c0 2.761 7.163 5 16 5s16-2.239 16-5v-6c0 2.761-7.163 5-16 5z\"></path>\n",
       "<path d=\"M16 26c-8.837 0-16-2.239-16-5v6c0 2.761 7.163 5 16 5s16-2.239 16-5v-6c0 2.761-7.163 5-16 5z\"></path>\n",
       "</symbol>\n",
       "<symbol id=\"icon-file-text2\" viewBox=\"0 0 32 32\">\n",
       "<path d=\"M28.681 7.159c-0.694-0.947-1.662-2.053-2.724-3.116s-2.169-2.030-3.116-2.724c-1.612-1.182-2.393-1.319-2.841-1.319h-15.5c-1.378 0-2.5 1.121-2.5 2.5v27c0 1.378 1.122 2.5 2.5 2.5h23c1.378 0 2.5-1.122 2.5-2.5v-19.5c0-0.448-0.137-1.23-1.319-2.841zM24.543 5.457c0.959 0.959 1.712 1.825 2.268 2.543h-4.811v-4.811c0.718 0.556 1.584 1.309 2.543 2.268zM28 29.5c0 0.271-0.229 0.5-0.5 0.5h-23c-0.271 0-0.5-0.229-0.5-0.5v-27c0-0.271 0.229-0.5 0.5-0.5 0 0 15.499-0 15.5 0v7c0 0.552 0.448 1 1 1h7v19.5z\"></path>\n",
       "<path d=\"M23 26h-14c-0.552 0-1-0.448-1-1s0.448-1 1-1h14c0.552 0 1 0.448 1 1s-0.448 1-1 1z\"></path>\n",
       "<path d=\"M23 22h-14c-0.552 0-1-0.448-1-1s0.448-1 1-1h14c0.552 0 1 0.448 1 1s-0.448 1-1 1z\"></path>\n",
       "<path d=\"M23 18h-14c-0.552 0-1-0.448-1-1s0.448-1 1-1h14c0.552 0 1 0.448 1 1s-0.448 1-1 1z\"></path>\n",
       "</symbol>\n",
       "</defs>\n",
       "</svg>\n",
       "<style>/* CSS stylesheet for displaying xarray objects in jupyterlab.\n",
       " *\n",
       " */\n",
       "\n",
       ":root {\n",
       "  --xr-font-color0: var(--jp-content-font-color0, rgba(0, 0, 0, 1));\n",
       "  --xr-font-color2: var(--jp-content-font-color2, rgba(0, 0, 0, 0.54));\n",
       "  --xr-font-color3: var(--jp-content-font-color3, rgba(0, 0, 0, 0.38));\n",
       "  --xr-border-color: var(--jp-border-color2, #e0e0e0);\n",
       "  --xr-disabled-color: var(--jp-layout-color3, #bdbdbd);\n",
       "  --xr-background-color: var(--jp-layout-color0, white);\n",
       "  --xr-background-color-row-even: var(--jp-layout-color1, white);\n",
       "  --xr-background-color-row-odd: var(--jp-layout-color2, #eeeeee);\n",
       "}\n",
       "\n",
       "html[theme=dark],\n",
       "body.vscode-dark {\n",
       "  --xr-font-color0: rgba(255, 255, 255, 1);\n",
       "  --xr-font-color2: rgba(255, 255, 255, 0.54);\n",
       "  --xr-font-color3: rgba(255, 255, 255, 0.38);\n",
       "  --xr-border-color: #1F1F1F;\n",
       "  --xr-disabled-color: #515151;\n",
       "  --xr-background-color: #111111;\n",
       "  --xr-background-color-row-even: #111111;\n",
       "  --xr-background-color-row-odd: #313131;\n",
       "}\n",
       "\n",
       ".xr-wrap {\n",
       "  display: block;\n",
       "  min-width: 300px;\n",
       "  max-width: 700px;\n",
       "}\n",
       "\n",
       ".xr-text-repr-fallback {\n",
       "  /* fallback to plain text repr when CSS is not injected (untrusted notebook) */\n",
       "  display: none;\n",
       "}\n",
       "\n",
       ".xr-header {\n",
       "  padding-top: 6px;\n",
       "  padding-bottom: 6px;\n",
       "  margin-bottom: 4px;\n",
       "  border-bottom: solid 1px var(--xr-border-color);\n",
       "}\n",
       "\n",
       ".xr-header > div,\n",
       ".xr-header > ul {\n",
       "  display: inline;\n",
       "  margin-top: 0;\n",
       "  margin-bottom: 0;\n",
       "}\n",
       "\n",
       ".xr-obj-type,\n",
       ".xr-array-name {\n",
       "  margin-left: 2px;\n",
       "  margin-right: 10px;\n",
       "}\n",
       "\n",
       ".xr-obj-type {\n",
       "  color: var(--xr-font-color2);\n",
       "}\n",
       "\n",
       ".xr-sections {\n",
       "  padding-left: 0 !important;\n",
       "  display: grid;\n",
       "  grid-template-columns: 150px auto auto 1fr 20px 20px;\n",
       "}\n",
       "\n",
       ".xr-section-item {\n",
       "  display: contents;\n",
       "}\n",
       "\n",
       ".xr-section-item input {\n",
       "  display: none;\n",
       "}\n",
       "\n",
       ".xr-section-item input + label {\n",
       "  color: var(--xr-disabled-color);\n",
       "}\n",
       "\n",
       ".xr-section-item input:enabled + label {\n",
       "  cursor: pointer;\n",
       "  color: var(--xr-font-color2);\n",
       "}\n",
       "\n",
       ".xr-section-item input:enabled + label:hover {\n",
       "  color: var(--xr-font-color0);\n",
       "}\n",
       "\n",
       ".xr-section-summary {\n",
       "  grid-column: 1;\n",
       "  color: var(--xr-font-color2);\n",
       "  font-weight: 500;\n",
       "}\n",
       "\n",
       ".xr-section-summary > span {\n",
       "  display: inline-block;\n",
       "  padding-left: 0.5em;\n",
       "}\n",
       "\n",
       ".xr-section-summary-in:disabled + label {\n",
       "  color: var(--xr-font-color2);\n",
       "}\n",
       "\n",
       ".xr-section-summary-in + label:before {\n",
       "  display: inline-block;\n",
       "  content: '►';\n",
       "  font-size: 11px;\n",
       "  width: 15px;\n",
       "  text-align: center;\n",
       "}\n",
       "\n",
       ".xr-section-summary-in:disabled + label:before {\n",
       "  color: var(--xr-disabled-color);\n",
       "}\n",
       "\n",
       ".xr-section-summary-in:checked + label:before {\n",
       "  content: '▼';\n",
       "}\n",
       "\n",
       ".xr-section-summary-in:checked + label > span {\n",
       "  display: none;\n",
       "}\n",
       "\n",
       ".xr-section-summary,\n",
       ".xr-section-inline-details {\n",
       "  padding-top: 4px;\n",
       "  padding-bottom: 4px;\n",
       "}\n",
       "\n",
       ".xr-section-inline-details {\n",
       "  grid-column: 2 / -1;\n",
       "}\n",
       "\n",
       ".xr-section-details {\n",
       "  display: none;\n",
       "  grid-column: 1 / -1;\n",
       "  margin-bottom: 5px;\n",
       "}\n",
       "\n",
       ".xr-section-summary-in:checked ~ .xr-section-details {\n",
       "  display: contents;\n",
       "}\n",
       "\n",
       ".xr-array-wrap {\n",
       "  grid-column: 1 / -1;\n",
       "  display: grid;\n",
       "  grid-template-columns: 20px auto;\n",
       "}\n",
       "\n",
       ".xr-array-wrap > label {\n",
       "  grid-column: 1;\n",
       "  vertical-align: top;\n",
       "}\n",
       "\n",
       ".xr-preview {\n",
       "  color: var(--xr-font-color3);\n",
       "}\n",
       "\n",
       ".xr-array-preview,\n",
       ".xr-array-data {\n",
       "  padding: 0 5px !important;\n",
       "  grid-column: 2;\n",
       "}\n",
       "\n",
       ".xr-array-data,\n",
       ".xr-array-in:checked ~ .xr-array-preview {\n",
       "  display: none;\n",
       "}\n",
       "\n",
       ".xr-array-in:checked ~ .xr-array-data,\n",
       ".xr-array-preview {\n",
       "  display: inline-block;\n",
       "}\n",
       "\n",
       ".xr-dim-list {\n",
       "  display: inline-block !important;\n",
       "  list-style: none;\n",
       "  padding: 0 !important;\n",
       "  margin: 0;\n",
       "}\n",
       "\n",
       ".xr-dim-list li {\n",
       "  display: inline-block;\n",
       "  padding: 0;\n",
       "  margin: 0;\n",
       "}\n",
       "\n",
       ".xr-dim-list:before {\n",
       "  content: '(';\n",
       "}\n",
       "\n",
       ".xr-dim-list:after {\n",
       "  content: ')';\n",
       "}\n",
       "\n",
       ".xr-dim-list li:not(:last-child):after {\n",
       "  content: ',';\n",
       "  padding-right: 5px;\n",
       "}\n",
       "\n",
       ".xr-has-index {\n",
       "  font-weight: bold;\n",
       "}\n",
       "\n",
       ".xr-var-list,\n",
       ".xr-var-item {\n",
       "  display: contents;\n",
       "}\n",
       "\n",
       ".xr-var-item > div,\n",
       ".xr-var-item label,\n",
       ".xr-var-item > .xr-var-name span {\n",
       "  background-color: var(--xr-background-color-row-even);\n",
       "  margin-bottom: 0;\n",
       "}\n",
       "\n",
       ".xr-var-item > .xr-var-name:hover span {\n",
       "  padding-right: 5px;\n",
       "}\n",
       "\n",
       ".xr-var-list > li:nth-child(odd) > div,\n",
       ".xr-var-list > li:nth-child(odd) > label,\n",
       ".xr-var-list > li:nth-child(odd) > .xr-var-name span {\n",
       "  background-color: var(--xr-background-color-row-odd);\n",
       "}\n",
       "\n",
       ".xr-var-name {\n",
       "  grid-column: 1;\n",
       "}\n",
       "\n",
       ".xr-var-dims {\n",
       "  grid-column: 2;\n",
       "}\n",
       "\n",
       ".xr-var-dtype {\n",
       "  grid-column: 3;\n",
       "  text-align: right;\n",
       "  color: var(--xr-font-color2);\n",
       "}\n",
       "\n",
       ".xr-var-preview {\n",
       "  grid-column: 4;\n",
       "}\n",
       "\n",
       ".xr-var-name,\n",
       ".xr-var-dims,\n",
       ".xr-var-dtype,\n",
       ".xr-preview,\n",
       ".xr-attrs dt {\n",
       "  white-space: nowrap;\n",
       "  overflow: hidden;\n",
       "  text-overflow: ellipsis;\n",
       "  padding-right: 10px;\n",
       "}\n",
       "\n",
       ".xr-var-name:hover,\n",
       ".xr-var-dims:hover,\n",
       ".xr-var-dtype:hover,\n",
       ".xr-attrs dt:hover {\n",
       "  overflow: visible;\n",
       "  width: auto;\n",
       "  z-index: 1;\n",
       "}\n",
       "\n",
       ".xr-var-attrs,\n",
       ".xr-var-data {\n",
       "  display: none;\n",
       "  background-color: var(--xr-background-color) !important;\n",
       "  padding-bottom: 5px !important;\n",
       "}\n",
       "\n",
       ".xr-var-attrs-in:checked ~ .xr-var-attrs,\n",
       ".xr-var-data-in:checked ~ .xr-var-data {\n",
       "  display: block;\n",
       "}\n",
       "\n",
       ".xr-var-data > table {\n",
       "  float: right;\n",
       "}\n",
       "\n",
       ".xr-var-name span,\n",
       ".xr-var-data,\n",
       ".xr-attrs {\n",
       "  padding-left: 25px !important;\n",
       "}\n",
       "\n",
       ".xr-attrs,\n",
       ".xr-var-attrs,\n",
       ".xr-var-data {\n",
       "  grid-column: 1 / -1;\n",
       "}\n",
       "\n",
       "dl.xr-attrs {\n",
       "  padding: 0;\n",
       "  margin: 0;\n",
       "  display: grid;\n",
       "  grid-template-columns: 125px auto;\n",
       "}\n",
       "\n",
       ".xr-attrs dt,\n",
       ".xr-attrs dd {\n",
       "  padding: 0;\n",
       "  margin: 0;\n",
       "  float: left;\n",
       "  padding-right: 10px;\n",
       "  width: auto;\n",
       "}\n",
       "\n",
       ".xr-attrs dt {\n",
       "  font-weight: normal;\n",
       "  grid-column: 1;\n",
       "}\n",
       "\n",
       ".xr-attrs dt:hover span {\n",
       "  display: inline-block;\n",
       "  background: var(--xr-background-color);\n",
       "  padding-right: 10px;\n",
       "}\n",
       "\n",
       ".xr-attrs dd {\n",
       "  grid-column: 2;\n",
       "  white-space: pre-wrap;\n",
       "  word-break: break-all;\n",
       "}\n",
       "\n",
       ".xr-icon-database,\n",
       ".xr-icon-file-text2 {\n",
       "  display: inline-block;\n",
       "  vertical-align: middle;\n",
       "  width: 1em;\n",
       "  height: 1.5em !important;\n",
       "  stroke-width: 0;\n",
       "  stroke: currentColor;\n",
       "  fill: currentColor;\n",
       "}\n",
       "</style><pre class='xr-text-repr-fallback'>&lt;xarray.Dataset&gt;\n",
       "Dimensions:    (latitude: 48, longitude: 48, time: 92)\n",
       "Coordinates:\n",
       "  * latitude   (latitude) float64 32.12 32.38 32.62 32.88 ... 43.38 43.62 43.88\n",
       "  * longitude  (longitude) float64 294.1 294.4 294.6 294.9 ... 305.4 305.6 305.9\n",
       "  * time       (time) datetime64[ns] 2015-12-01 2015-12-02 ... 2016-03-01\n",
       "Data variables:\n",
       "    sla        (time, latitude, longitude) float64 ...\n",
       "    adt        (time, latitude, longitude) float64 ...\n",
       "    sla_grad   (time, latitude, longitude) float64 ...\n",
       "    sla_lap    (time, latitude, longitude) float64 ...\n",
       "Attributes:\n",
       "    FileType:      GRID_DOTS\n",
       "    OriginalName:  dt_upd_global_merged_msla_h_20150101_20150101_20210409.nc\n",
       "    CreatedBy:     pva_axp@node065.sis.cnes.fr\n",
       "    CreatedOn:     09-APR-2021 17:15:56:000000\n",
       "    title:         SSALTO/DUACS - DT MSLA - Merged Product - Up-to-date Globa...\n",
       "    history:       2021/04/09 17:15:56 pva_axp@node065.sis.cnes.fr Import dep...</pre><div class='xr-wrap' hidden><div class='xr-header'><div class='xr-obj-type'>xarray.Dataset</div></div><ul class='xr-sections'><li class='xr-section-item'><input id='section-92df8682-0a0c-45b9-b538-fa3aeb2e5ea2' class='xr-section-summary-in' type='checkbox' disabled ><label for='section-92df8682-0a0c-45b9-b538-fa3aeb2e5ea2' class='xr-section-summary'  title='Expand/collapse section'>Dimensions:</label><div class='xr-section-inline-details'><ul class='xr-dim-list'><li><span class='xr-has-index'>latitude</span>: 48</li><li><span class='xr-has-index'>longitude</span>: 48</li><li><span class='xr-has-index'>time</span>: 92</li></ul></div><div class='xr-section-details'></div></li><li class='xr-section-item'><input id='section-24695504-28ac-4a8d-a443-2ce565731c11' class='xr-section-summary-in' type='checkbox'  checked><label for='section-24695504-28ac-4a8d-a443-2ce565731c11' class='xr-section-summary' >Coordinates: <span>(3)</span></label><div class='xr-section-inline-details'></div><div class='xr-section-details'><ul class='xr-var-list'><li class='xr-var-item'><div class='xr-var-name'><span class='xr-has-index'>latitude</span></div><div class='xr-var-dims'>(latitude)</div><div class='xr-var-dtype'>float64</div><div class='xr-var-preview xr-preview'>32.12 32.38 32.62 ... 43.62 43.88</div><input id='attrs-d5ab6728-334a-476c-925e-c8e8944037dd' class='xr-var-attrs-in' type='checkbox' ><label for='attrs-d5ab6728-334a-476c-925e-c8e8944037dd' title='Show/Hide attributes'><svg class='icon xr-icon-file-text2'><use xlink:href='#icon-file-text2'></use></svg></label><input id='data-0fe4c2ec-7f6f-44ec-bffd-8ebaf8d1dff4' class='xr-var-data-in' type='checkbox'><label for='data-0fe4c2ec-7f6f-44ec-bffd-8ebaf8d1dff4' title='Show/Hide data repr'><svg class='icon xr-icon-database'><use xlink:href='#icon-database'></use></svg></label><div class='xr-var-attrs'><dl class='xr-attrs'><dt><span>long_name :</span></dt><dd>Latitudes</dd><dt><span>units :</span></dt><dd>degrees_north</dd></dl></div><div class='xr-var-data'><pre>array([32.125, 32.375, 32.625, 32.875, 33.125, 33.375, 33.625, 33.875, 34.125,\n",
       "       34.375, 34.625, 34.875, 35.125, 35.375, 35.625, 35.875, 36.125, 36.375,\n",
       "       36.625, 36.875, 37.125, 37.375, 37.625, 37.875, 38.125, 38.375, 38.625,\n",
       "       38.875, 39.125, 39.375, 39.625, 39.875, 40.125, 40.375, 40.625, 40.875,\n",
       "       41.125, 41.375, 41.625, 41.875, 42.125, 42.375, 42.625, 42.875, 43.125,\n",
       "       43.375, 43.625, 43.875])</pre></div></li><li class='xr-var-item'><div class='xr-var-name'><span class='xr-has-index'>longitude</span></div><div class='xr-var-dims'>(longitude)</div><div class='xr-var-dtype'>float64</div><div class='xr-var-preview xr-preview'>294.1 294.4 294.6 ... 305.6 305.9</div><input id='attrs-f2756eb8-b66f-4ec6-98d8-34c284cd4eeb' class='xr-var-attrs-in' type='checkbox' ><label for='attrs-f2756eb8-b66f-4ec6-98d8-34c284cd4eeb' title='Show/Hide attributes'><svg class='icon xr-icon-file-text2'><use xlink:href='#icon-file-text2'></use></svg></label><input id='data-fea41b44-a86f-419a-89fa-0903e3e9474c' class='xr-var-data-in' type='checkbox'><label for='data-fea41b44-a86f-419a-89fa-0903e3e9474c' title='Show/Hide data repr'><svg class='icon xr-icon-database'><use xlink:href='#icon-database'></use></svg></label><div class='xr-var-attrs'><dl class='xr-attrs'><dt><span>long_name :</span></dt><dd>Longitudes</dd><dt><span>units :</span></dt><dd>degrees_east</dd></dl></div><div class='xr-var-data'><pre>array([294.125, 294.375, 294.625, 294.875, 295.125, 295.375, 295.625, 295.875,\n",
       "       296.125, 296.375, 296.625, 296.875, 297.125, 297.375, 297.625, 297.875,\n",
       "       298.125, 298.375, 298.625, 298.875, 299.125, 299.375, 299.625, 299.875,\n",
       "       300.125, 300.375, 300.625, 300.875, 301.125, 301.375, 301.625, 301.875,\n",
       "       302.125, 302.375, 302.625, 302.875, 303.125, 303.375, 303.625, 303.875,\n",
       "       304.125, 304.375, 304.625, 304.875, 305.125, 305.375, 305.625, 305.875])</pre></div></li><li class='xr-var-item'><div class='xr-var-name'><span class='xr-has-index'>time</span></div><div class='xr-var-dims'>(time)</div><div class='xr-var-dtype'>datetime64[ns]</div><div class='xr-var-preview xr-preview'>2015-12-01 ... 2016-03-01</div><input id='attrs-52b6d596-aced-4774-88ee-bc8611d40497' class='xr-var-attrs-in' type='checkbox' disabled><label for='attrs-52b6d596-aced-4774-88ee-bc8611d40497' title='Show/Hide attributes'><svg class='icon xr-icon-file-text2'><use xlink:href='#icon-file-text2'></use></svg></label><input id='data-c443ab60-4362-4ccb-b6fb-5a8ccd427118' class='xr-var-data-in' type='checkbox'><label for='data-c443ab60-4362-4ccb-b6fb-5a8ccd427118' title='Show/Hide data repr'><svg class='icon xr-icon-database'><use xlink:href='#icon-database'></use></svg></label><div class='xr-var-attrs'><dl class='xr-attrs'></dl></div><div class='xr-var-data'><pre>array([&#x27;2015-12-01T00:00:00.000000000&#x27;, &#x27;2015-12-02T00:00:00.000000000&#x27;,\n",
       "       &#x27;2015-12-03T00:00:00.000000000&#x27;, &#x27;2015-12-04T00:00:00.000000000&#x27;,\n",
       "       &#x27;2015-12-05T00:00:00.000000000&#x27;, &#x27;2015-12-06T00:00:00.000000000&#x27;,\n",
       "       &#x27;2015-12-07T00:00:00.000000000&#x27;, &#x27;2015-12-08T00:00:00.000000000&#x27;,\n",
       "       &#x27;2015-12-09T00:00:00.000000000&#x27;, &#x27;2015-12-10T00:00:00.000000000&#x27;,\n",
       "       &#x27;2015-12-11T00:00:00.000000000&#x27;, &#x27;2015-12-12T00:00:00.000000000&#x27;,\n",
       "       &#x27;2015-12-13T00:00:00.000000000&#x27;, &#x27;2015-12-14T00:00:00.000000000&#x27;,\n",
       "       &#x27;2015-12-15T00:00:00.000000000&#x27;, &#x27;2015-12-16T00:00:00.000000000&#x27;,\n",
       "       &#x27;2015-12-17T00:00:00.000000000&#x27;, &#x27;2015-12-18T00:00:00.000000000&#x27;,\n",
       "       &#x27;2015-12-19T00:00:00.000000000&#x27;, &#x27;2015-12-20T00:00:00.000000000&#x27;,\n",
       "       &#x27;2015-12-21T00:00:00.000000000&#x27;, &#x27;2015-12-22T00:00:00.000000000&#x27;,\n",
       "       &#x27;2015-12-23T00:00:00.000000000&#x27;, &#x27;2015-12-24T00:00:00.000000000&#x27;,\n",
       "       &#x27;2015-12-25T00:00:00.000000000&#x27;, &#x27;2015-12-26T00:00:00.000000000&#x27;,\n",
       "       &#x27;2015-12-27T00:00:00.000000000&#x27;, &#x27;2015-12-28T00:00:00.000000000&#x27;,\n",
       "       &#x27;2015-12-29T00:00:00.000000000&#x27;, &#x27;2015-12-30T00:00:00.000000000&#x27;,\n",
       "       &#x27;2015-12-31T00:00:00.000000000&#x27;, &#x27;2016-01-01T00:00:00.000000000&#x27;,\n",
       "       &#x27;2016-01-02T00:00:00.000000000&#x27;, &#x27;2016-01-03T00:00:00.000000000&#x27;,\n",
       "       &#x27;2016-01-04T00:00:00.000000000&#x27;, &#x27;2016-01-05T00:00:00.000000000&#x27;,\n",
       "       &#x27;2016-01-06T00:00:00.000000000&#x27;, &#x27;2016-01-07T00:00:00.000000000&#x27;,\n",
       "       &#x27;2016-01-08T00:00:00.000000000&#x27;, &#x27;2016-01-09T00:00:00.000000000&#x27;,\n",
       "       &#x27;2016-01-10T00:00:00.000000000&#x27;, &#x27;2016-01-11T00:00:00.000000000&#x27;,\n",
       "       &#x27;2016-01-12T00:00:00.000000000&#x27;, &#x27;2016-01-13T00:00:00.000000000&#x27;,\n",
       "       &#x27;2016-01-14T00:00:00.000000000&#x27;, &#x27;2016-01-15T00:00:00.000000000&#x27;,\n",
       "       &#x27;2016-01-16T00:00:00.000000000&#x27;, &#x27;2016-01-17T00:00:00.000000000&#x27;,\n",
       "       &#x27;2016-01-18T00:00:00.000000000&#x27;, &#x27;2016-01-19T00:00:00.000000000&#x27;,\n",
       "       &#x27;2016-01-20T00:00:00.000000000&#x27;, &#x27;2016-01-21T00:00:00.000000000&#x27;,\n",
       "       &#x27;2016-01-22T00:00:00.000000000&#x27;, &#x27;2016-01-23T00:00:00.000000000&#x27;,\n",
       "       &#x27;2016-01-24T00:00:00.000000000&#x27;, &#x27;2016-01-25T00:00:00.000000000&#x27;,\n",
       "       &#x27;2016-01-26T00:00:00.000000000&#x27;, &#x27;2016-01-27T00:00:00.000000000&#x27;,\n",
       "       &#x27;2016-01-28T00:00:00.000000000&#x27;, &#x27;2016-01-29T00:00:00.000000000&#x27;,\n",
       "       &#x27;2016-01-30T00:00:00.000000000&#x27;, &#x27;2016-01-31T00:00:00.000000000&#x27;,\n",
       "       &#x27;2016-02-01T00:00:00.000000000&#x27;, &#x27;2016-02-02T00:00:00.000000000&#x27;,\n",
       "       &#x27;2016-02-03T00:00:00.000000000&#x27;, &#x27;2016-02-04T00:00:00.000000000&#x27;,\n",
       "       &#x27;2016-02-05T00:00:00.000000000&#x27;, &#x27;2016-02-06T00:00:00.000000000&#x27;,\n",
       "       &#x27;2016-02-07T00:00:00.000000000&#x27;, &#x27;2016-02-08T00:00:00.000000000&#x27;,\n",
       "       &#x27;2016-02-09T00:00:00.000000000&#x27;, &#x27;2016-02-10T00:00:00.000000000&#x27;,\n",
       "       &#x27;2016-02-11T00:00:00.000000000&#x27;, &#x27;2016-02-12T00:00:00.000000000&#x27;,\n",
       "       &#x27;2016-02-13T00:00:00.000000000&#x27;, &#x27;2016-02-14T00:00:00.000000000&#x27;,\n",
       "       &#x27;2016-02-15T00:00:00.000000000&#x27;, &#x27;2016-02-16T00:00:00.000000000&#x27;,\n",
       "       &#x27;2016-02-17T00:00:00.000000000&#x27;, &#x27;2016-02-18T00:00:00.000000000&#x27;,\n",
       "       &#x27;2016-02-19T00:00:00.000000000&#x27;, &#x27;2016-02-20T00:00:00.000000000&#x27;,\n",
       "       &#x27;2016-02-21T00:00:00.000000000&#x27;, &#x27;2016-02-22T00:00:00.000000000&#x27;,\n",
       "       &#x27;2016-02-23T00:00:00.000000000&#x27;, &#x27;2016-02-24T00:00:00.000000000&#x27;,\n",
       "       &#x27;2016-02-25T00:00:00.000000000&#x27;, &#x27;2016-02-26T00:00:00.000000000&#x27;,\n",
       "       &#x27;2016-02-27T00:00:00.000000000&#x27;, &#x27;2016-02-28T00:00:00.000000000&#x27;,\n",
       "       &#x27;2016-02-29T00:00:00.000000000&#x27;, &#x27;2016-03-01T00:00:00.000000000&#x27;],\n",
       "      dtype=&#x27;datetime64[ns]&#x27;)</pre></div></li></ul></div></li><li class='xr-section-item'><input id='section-c17bf79d-f1d0-4393-aeb5-8e386f70ba67' class='xr-section-summary-in' type='checkbox'  checked><label for='section-c17bf79d-f1d0-4393-aeb5-8e386f70ba67' class='xr-section-summary' >Data variables: <span>(4)</span></label><div class='xr-section-inline-details'></div><div class='xr-section-details'><ul class='xr-var-list'><li class='xr-var-item'><div class='xr-var-name'><span>sla</span></div><div class='xr-var-dims'>(time, latitude, longitude)</div><div class='xr-var-dtype'>float64</div><div class='xr-var-preview xr-preview'>...</div><input id='attrs-b2fa3fd9-89f6-400b-b7a9-7d56ce2d929f' class='xr-var-attrs-in' type='checkbox' disabled><label for='attrs-b2fa3fd9-89f6-400b-b7a9-7d56ce2d929f' title='Show/Hide attributes'><svg class='icon xr-icon-file-text2'><use xlink:href='#icon-file-text2'></use></svg></label><input id='data-443b192f-2c12-498b-9ec2-f92cb91d15b1' class='xr-var-data-in' type='checkbox'><label for='data-443b192f-2c12-498b-9ec2-f92cb91d15b1' title='Show/Hide data repr'><svg class='icon xr-icon-database'><use xlink:href='#icon-database'></use></svg></label><div class='xr-var-attrs'><dl class='xr-attrs'></dl></div><div class='xr-var-data'><pre>[211968 values with dtype=float64]</pre></div></li><li class='xr-var-item'><div class='xr-var-name'><span>adt</span></div><div class='xr-var-dims'>(time, latitude, longitude)</div><div class='xr-var-dtype'>float64</div><div class='xr-var-preview xr-preview'>...</div><input id='attrs-346f7ae6-cf26-4ea4-bef7-33e1ea5787ed' class='xr-var-attrs-in' type='checkbox' disabled><label for='attrs-346f7ae6-cf26-4ea4-bef7-33e1ea5787ed' title='Show/Hide attributes'><svg class='icon xr-icon-file-text2'><use xlink:href='#icon-file-text2'></use></svg></label><input id='data-773a259a-fb79-4c62-9a4e-919287312dc4' class='xr-var-data-in' type='checkbox'><label for='data-773a259a-fb79-4c62-9a4e-919287312dc4' title='Show/Hide data repr'><svg class='icon xr-icon-database'><use xlink:href='#icon-database'></use></svg></label><div class='xr-var-attrs'><dl class='xr-attrs'></dl></div><div class='xr-var-data'><pre>[211968 values with dtype=float64]</pre></div></li><li class='xr-var-item'><div class='xr-var-name'><span>sla_grad</span></div><div class='xr-var-dims'>(time, latitude, longitude)</div><div class='xr-var-dtype'>float64</div><div class='xr-var-preview xr-preview'>...</div><input id='attrs-712b0794-c68f-4f76-8fbc-f0454632910b' class='xr-var-attrs-in' type='checkbox' disabled><label for='attrs-712b0794-c68f-4f76-8fbc-f0454632910b' title='Show/Hide attributes'><svg class='icon xr-icon-file-text2'><use xlink:href='#icon-file-text2'></use></svg></label><input id='data-af71a962-ada5-4934-b695-ba7a2ea9adfe' class='xr-var-data-in' type='checkbox'><label for='data-af71a962-ada5-4934-b695-ba7a2ea9adfe' title='Show/Hide data repr'><svg class='icon xr-icon-database'><use xlink:href='#icon-database'></use></svg></label><div class='xr-var-attrs'><dl class='xr-attrs'></dl></div><div class='xr-var-data'><pre>[211968 values with dtype=float64]</pre></div></li><li class='xr-var-item'><div class='xr-var-name'><span>sla_lap</span></div><div class='xr-var-dims'>(time, latitude, longitude)</div><div class='xr-var-dtype'>float64</div><div class='xr-var-preview xr-preview'>...</div><input id='attrs-3dd15c2e-404d-4c9d-b40b-6c9b89f26880' class='xr-var-attrs-in' type='checkbox' disabled><label for='attrs-3dd15c2e-404d-4c9d-b40b-6c9b89f26880' title='Show/Hide attributes'><svg class='icon xr-icon-file-text2'><use xlink:href='#icon-file-text2'></use></svg></label><input id='data-45a0d276-d560-4ad6-9a71-18a6ad6ad1dc' class='xr-var-data-in' type='checkbox'><label for='data-45a0d276-d560-4ad6-9a71-18a6ad6ad1dc' title='Show/Hide data repr'><svg class='icon xr-icon-database'><use xlink:href='#icon-database'></use></svg></label><div class='xr-var-attrs'><dl class='xr-attrs'></dl></div><div class='xr-var-data'><pre>[211968 values with dtype=float64]</pre></div></li></ul></div></li><li class='xr-section-item'><input id='section-e6146b6c-7524-40d3-a32e-37f67fa7f786' class='xr-section-summary-in' type='checkbox'  checked><label for='section-e6146b6c-7524-40d3-a32e-37f67fa7f786' class='xr-section-summary' >Attributes: <span>(6)</span></label><div class='xr-section-inline-details'></div><div class='xr-section-details'><dl class='xr-attrs'><dt><span>FileType :</span></dt><dd>GRID_DOTS</dd><dt><span>OriginalName :</span></dt><dd>dt_upd_global_merged_msla_h_20150101_20150101_20210409.nc</dd><dt><span>CreatedBy :</span></dt><dd>pva_axp@node065.sis.cnes.fr</dd><dt><span>CreatedOn :</span></dt><dd>09-APR-2021 17:15:56:000000</dd><dt><span>title :</span></dt><dd>SSALTO/DUACS - DT MSLA - Merged Product - Up-to-date Global Processing</dd><dt><span>history :</span></dt><dd>2021/04/09 17:15:56 pva_axp@node065.sis.cnes.fr Import depuis MSLA.nc</dd></dl></div></li></ul></div></div>"
      ],
      "text/plain": [
       "<xarray.Dataset>\n",
       "Dimensions:    (latitude: 48, longitude: 48, time: 92)\n",
       "Coordinates:\n",
       "  * latitude   (latitude) float64 32.12 32.38 32.62 32.88 ... 43.38 43.62 43.88\n",
       "  * longitude  (longitude) float64 294.1 294.4 294.6 294.9 ... 305.4 305.6 305.9\n",
       "  * time       (time) datetime64[ns] 2015-12-01 2015-12-02 ... 2016-03-01\n",
       "Data variables:\n",
       "    sla        (time, latitude, longitude) float64 ...\n",
       "    adt        (time, latitude, longitude) float64 ...\n",
       "    sla_grad   (time, latitude, longitude) float64 ...\n",
       "    sla_lap    (time, latitude, longitude) float64 ...\n",
       "Attributes:\n",
       "    FileType:      GRID_DOTS\n",
       "    OriginalName:  dt_upd_global_merged_msla_h_20150101_20150101_20210409.nc\n",
       "    CreatedBy:     pva_axp@node065.sis.cnes.fr\n",
       "    CreatedOn:     09-APR-2021 17:15:56:000000\n",
       "    title:         SSALTO/DUACS - DT MSLA - Merged Product - Up-to-date Globa...\n",
       "    history:       2021/04/09 17:15:56 pva_axp@node065.sis.cnes.fr Import dep..."
      ]
     },
     "execution_count": 62,
     "metadata": {},
     "output_type": "execute_result"
    }
   ],
   "source": [
    "if dataset == \"ssh_gulf_winter\":\n",
    "    img_model = xr.open_dataset(\"/mnt/meom/workdir/johnsonj/data/ssh_data/interim_gulf_winter/model.nc\")\n",
    "elif dataset == \"ssh_gulf_summer\":\n",
    "    img_model = xr.open_dataset(\"/mnt/meom/workdir/johnsonj/data/ssh_data/interim_gulf_summer/model.nc\")\n",
    "elif dataset == \"ssh_gulf\":\n",
    "    img_model = xr.open_dataset(\"/mnt/meom/workdir/johnsonj/data/ssh_data/interim_gulf/model.nc\")\n",
    "else:\n",
    "    raise ValueError(f\"Unrecognized dataset: {dataset}\")\n",
    "\n",
    "img_model"
   ]
  },
  {
   "cell_type": "code",
   "execution_count": null,
   "id": "d1820197-3603-4d05-8e36-eb6df4746510",
   "metadata": {},
   "outputs": [],
   "source": []
  },
  {
   "cell_type": "code",
   "execution_count": 63,
   "id": "02b99dc8-6b31-40b7-b6b4-68286dad2c50",
   "metadata": {},
   "outputs": [],
   "source": [
    "import pyinterp\n",
    "\n",
    "def create_grids(ds: xr.DataArray, variable: str, is_circle=True):\n",
    "    x_axis = pyinterp.Axis(ds[\"longitude\"][:]%360., is_circle=is_circle)\n",
    "    y_axis = pyinterp.Axis(ds[\"latitude\"][:])\n",
    "    z_axis = pyinterp.TemporalAxis(ds[\"time\"][:].values)\n",
    "    var = ds[variable][:]\n",
    "    var = var.transpose(\"longitude\", \"latitude\", \"time\")\n",
    "    \n",
    "    try:\n",
    "        var[var.mask] = np.nan\n",
    "    except AttributeError:\n",
    "        pass\n",
    "    \n",
    "    grid = pyinterp.Grid3D(x_axis, y_axis, z_axis, var.values)\n",
    "    \n",
    "    del ds\n",
    "    \n",
    "    return x_axis, y_axis, z_axis, grid\n",
    "    "
   ]
  },
  {
   "cell_type": "code",
   "execution_count": 64,
   "id": "a6401f41-fa50-47fd-a0f9-01e9d2ef1521",
   "metadata": {},
   "outputs": [],
   "source": [
    "# create grids\n",
    "grids = create_grids(img_model, \"sla\")\n",
    "\n",
    "# interpolate maps alongtracks\n",
    "ssh_map_interp = pyinterp.trivariate(\n",
    "    grids[-1],\n",
    "    img_test[\"longitude\"].values,\n",
    "    img_test[\"latitude\"].values,\n",
    "    grids[2].safe_cast(img_test[\"time\"].values),\n",
    "    bounds_error=False\n",
    ")\n",
    "\n"
   ]
  },
  {
   "cell_type": "code",
   "execution_count": 65,
   "id": "97e017cc-3940-412a-9cd4-ed08db6ba4b5",
   "metadata": {},
   "outputs": [],
   "source": [
    "ssh_alongtrack = img_test[\"sla_unfiltered\"].values\n",
    "lon_alongtrack = img_test[\"longitude\"].values\n",
    "lat_alongtrack = img_test[\"latitude\"].values\n",
    "time_alongtrack = img_test[\"time\"].values\n",
    "# ssh_map_interp = img_test[\"pred\"].values\n",
    "\n",
    "# get and apply mask from map_interp & alongtrack on each dataset\n",
    "msk1 = np.ma.masked_invalid(ssh_alongtrack).mask\n",
    "msk2 = np.ma.masked_invalid(ssh_map_interp).mask\n",
    "msk = msk1 + msk2\n",
    "\n",
    "\n",
    "lon_alongtrack = np.ma.masked_where(msk, lon_alongtrack).compressed()\n",
    "lat_alongtrack = np.ma.masked_where(msk, lat_alongtrack).compressed()\n",
    "time_alongtrack = np.ma.masked_where(msk, time_alongtrack).compressed()\n",
    "ssh_alongtrack = np.ma.masked_where(msk, ssh_alongtrack).compressed()\n",
    "ssh_map_interp = np.ma.masked_where(msk, ssh_map_interp).compressed()\n",
    "\n",
    "# select inside value (this is done to insure similar number of point in statistical comparison between methods)\n",
    "indices = np.where(\n",
    "    (lon_alongtrack >= img_test[\"longitude\"].min().values+0.25) & \n",
    "    (lon_alongtrack <= img_test[\"longitude\"].max().values-0.25) &\n",
    "    (lat_alongtrack >= img_test[\"latitude\"].min().values+0.25) & \n",
    "    (lat_alongtrack <= img_test[\"latitude\"].max().values-0.25)\n",
    ")[0]\n",
    "\n",
    "\n",
    "lon_alongtrack = lon_alongtrack[indices]\n",
    "lat_alongtrack = lat_alongtrack[indices]\n",
    "time_alongtrack = time_alongtrack[indices]\n",
    "ssh_alongtrack = ssh_alongtrack[indices]\n",
    "ssh_map_interp = ssh_map_interp[indices]"
   ]
  },
  {
   "cell_type": "markdown",
   "id": "abe3339b-928d-4ce8-b6a0-59918a2637e7",
   "metadata": {},
   "source": [
    "### NOTE\n",
    "\n",
    "Seems to be a discrepency between how we interpolate the values"
   ]
  },
  {
   "cell_type": "code",
   "execution_count": 66,
   "id": "cb74bae4-45b6-4f8e-80a0-b57233b506e1",
   "metadata": {},
   "outputs": [
    {
     "data": {
      "text/plain": [
       "((51551,), (47120,))"
      ]
     },
     "execution_count": 66,
     "metadata": {},
     "output_type": "execute_result"
    }
   ],
   "source": [
    "img_test[\"sla_unfiltered\"].values.shape, ssh_map_interp.shape"
   ]
  },
  {
   "cell_type": "markdown",
   "id": "44f13901-adc1-4a56-894b-d1f86ed21d35",
   "metadata": {},
   "source": [
    "#### Stats"
   ]
  },
  {
   "cell_type": "code",
   "execution_count": 67,
   "id": "e8781b17-61aa-4cb4-9575-5de6edccfd52",
   "metadata": {},
   "outputs": [
    {
     "data": {
      "text/plain": [
       "(0.03836299635111586,\n",
       " 0.005750361661884541,\n",
       " 0.8461252276981835,\n",
       " 0.03142715445758047)"
      ]
     },
     "execution_count": 67,
     "metadata": {},
     "output_type": "execute_result"
    }
   ],
   "source": [
    "# calculate the (normalized) RMSE\n",
    "ts_stats = calculate_nrmse(\n",
    "    ssh_alongtrack, \n",
    "    ssh_map_interp, \n",
    "    time_alongtrack, \n",
    "    dt_freq=bin_time_step, \n",
    "    min_obs=min_obs\n",
    ")\n",
    "\n",
    "\n",
    "wandb.log(\n",
    "    {\n",
    "        \"duacs_rmse_mean\": ts_stats[0],\n",
    "        \"duacs_rmse_std\": ts_stats[1],\n",
    "        \"duacs_rmse_mean\": ts_stats[2],\n",
    "        \"duacs_nrmse_std\": ts_stats[3],\n",
    "    }\n",
    ")\n",
    "ts_stats"
   ]
  },
  {
   "cell_type": "code",
   "execution_count": 68,
   "id": "eb2dd196-45f2-4abd-bc9b-219a249f454f",
   "metadata": {},
   "outputs": [
    {
     "data": {
      "text/plain": [
       "(47120,)"
      ]
     },
     "execution_count": 68,
     "metadata": {},
     "output_type": "execute_result"
    }
   ],
   "source": [
    "ssh_map_interp.shape"
   ]
  },
  {
   "cell_type": "code",
   "execution_count": 69,
   "id": "ef108cb4-6137-45a5-8b6e-273048827577",
   "metadata": {},
   "outputs": [
    {
     "name": "stderr",
     "output_type": "stream",
     "text": [
      "/home/johnsonj/projects/gps4oi/notebooks/nerf/src/psd.py:16: RuntimeWarning: divide by zero encountered in true_divide\n",
      "  y = 1. / wavenumber\n"
     ]
    }
   ],
   "source": [
    "# compute along track segments\n",
    "tracks = select_track_segments(\n",
    "    time_alongtrack,\n",
    "    lat_alongtrack,\n",
    "    lon_alongtrack,\n",
    "    ssh_alongtrack,\n",
    "    ssh_map_interp,\n",
    ")\n",
    "\n",
    "# compute scores\n",
    "wavenumber, psd_ref, psd_study, psd_diff, resolved_scale = compute_psd_scores(\n",
    "    ssh_true=tracks[2],\n",
    "    ssh_pred=tracks[3],\n",
    "    delta_x=delta_x,\n",
    "    npt=tracks[-1],\n",
    "    scaling=\"density\", \n",
    "    noverlap=0\n",
    ")\n",
    "\n",
    "\n",
    "# wandb.log(\n",
    "#     {\n",
    "#         \"resolved_spatial_scale\": resolved_scale,\n",
    "#     }\n",
    "# )"
   ]
  },
  {
   "cell_type": "code",
   "execution_count": 70,
   "id": "afa03c34-eff9-45ff-a533-8c47fca50d7b",
   "metadata": {},
   "outputs": [],
   "source": [
    "wavenumber[0] += 1e-4"
   ]
  },
  {
   "cell_type": "code",
   "execution_count": 71,
   "id": "c5438ea9-9030-432b-902d-933d23aafbdd",
   "metadata": {},
   "outputs": [
    {
     "data": {
      "image/png": "[encoded data removed]",
      "text/plain": [
       "<Figure size 504x360 with 1 Axes>"
      ]
     },
     "metadata": {
      "needs_background": "light"
     },
     "output_type": "display_data"
    }
   ],
   "source": [
    "fig, ax = plot_psd_spectrum(psd_study, psd_ref, wavenumber)\n",
    "\n",
    "wandb.log(\n",
    "    {\n",
    "        \"duacs_psd_spectrum\": wandb.Image(fig),\n",
    "    }\n",
    ")"
   ]
  },
  {
   "cell_type": "code",
   "execution_count": null,
   "id": "18acc19e-ec1d-45fe-bd22-d9dcd95a8660",
   "metadata": {},
   "outputs": [],
   "source": []
  },
  {
   "cell_type": "code",
   "execution_count": 72,
   "id": "3a344efb-18df-4669-9ea2-5b24d147ab5b",
   "metadata": {},
   "outputs": [
    {
     "data": {
      "image/png": "[encoded data removed]",
      "text/plain": [
       "<Figure size 504x360 with 1 Axes>"
      ]
     },
     "metadata": {
      "needs_background": "light"
     },
     "output_type": "display_data"
    }
   ],
   "source": [
    "fig, ax = plot_psd_score(psd_diff, psd_ref, wavenumber, resolved_scale)\n",
    "\n",
    "wandb.log(\n",
    "    {\n",
    "        \"duacs_psd_score\": wandb.Image(fig),\n",
    "    }\n",
    ")"
   ]
  },
  {
   "cell_type": "code",
   "execution_count": 73,
   "id": "bb87a5d8-a7ff-4a71-975d-d9f493dd9882",
   "metadata": {},
   "outputs": [
    {
     "name": "stdout",
     "output_type": "stream",
     "text": [
      "CPU times: user 36 ms, sys: 8 ms, total: 44 ms\n",
      "Wall time: 44.2 ms\n"
     ]
    }
   ],
   "source": [
    "%%time\n",
    "\n",
    "# convert to dataframe\n",
    "data_full = img_model.to_dataframe().reset_index().dropna()"
   ]
  },
  {
   "cell_type": "code",
   "execution_count": 74,
   "id": "05952e16-0c65-4895-a1ef-6c15abf0e24c",
   "metadata": {},
   "outputs": [],
   "source": [
    "wandb.config.update(\n",
    "    {\n",
    "        \"n_duacs_domain\": data_full.shape[0],\n",
    "    }\n",
    ")"
   ]
  },
  {
   "cell_type": "code",
   "execution_count": 75,
   "id": "036c90e6-a2a7-451b-aaa3-d70a4ae19666",
   "metadata": {},
   "outputs": [
    {
     "data": {
      "text/plain": [
       "(210956, 7)"
      ]
     },
     "execution_count": 75,
     "metadata": {},
     "output_type": "execute_result"
    }
   ],
   "source": [
    "data_full.shape"
   ]
  },
  {
   "cell_type": "code",
   "execution_count": 76,
   "id": "cf4866dc-cd77-4521-8d65-3b6b2183afd7",
   "metadata": {},
   "outputs": [],
   "source": [
    "# # transform time coordinate\n",
    "# days_in_year = 365\n",
    "# year = pd.to_datetime(data_full['time']).dt.dayofyear\n",
    "# data_full[\"doy_sin\"] = np.sin(2.0 * np.pi * year / days_in_year)\n",
    "# data_full[\"doy_cos\"] = np.cos(2.0 * np.pi * year / days_in_year)\n",
    "# data_full[cols] = time_scaler.transform(data_full[cols].values).squeeze()\n",
    "# data_full.shape"
   ]
  },
  {
   "cell_type": "code",
   "execution_count": 77,
   "id": "78af0e9d-3d94-4612-a7f6-1e195ece12cd",
   "metadata": {},
   "outputs": [],
   "source": [
    "data_full[\"time_julian\"] = f(pd.DatetimeIndex(data_full['time']).to_julian_date())\n",
    "data_full[cols] = time_scaler.transform(data_full[cols].values).squeeze()"
   ]
  },
  {
   "cell_type": "code",
   "execution_count": 78,
   "id": "1ed7556f-15b8-410c-a295-0628b59dcbc3",
   "metadata": {},
   "outputs": [
    {
     "name": "stdout",
     "output_type": "stream",
     "text": [
      "CPU times: user 5.32 s, sys: 264 ms, total: 5.58 s\n",
      "Wall time: 1.56 s\n"
     ]
    }
   ],
   "source": [
    "%%time\n",
    "\n",
    "data_full[\"pred\"] = np.asarray(pred_step(model,jnp.asarray(data_full[cols].values)))"
   ]
  },
  {
   "cell_type": "code",
   "execution_count": 79,
   "id": "78f1a25c-fb07-4be1-aed7-d1b17d771aba",
   "metadata": {},
   "outputs": [
    {
     "data": {
      "text/html": [
       "<div>\n",
       "<style scoped>\n",
       "    .dataframe tbody tr th:only-of-type {\n",
       "        vertical-align: middle;\n",
       "    }\n",
       "\n",
       "    .dataframe tbody tr th {\n",
       "        vertical-align: top;\n",
       "    }\n",
       "\n",
       "    .dataframe thead th {\n",
       "        text-align: right;\n",
       "    }\n",
       "</style>\n",
       "<table border=\"1\" class=\"dataframe\">\n",
       "  <thead>\n",
       "    <tr style=\"text-align: right;\">\n",
       "      <th></th>\n",
       "      <th>latitude</th>\n",
       "      <th>longitude</th>\n",
       "      <th>time</th>\n",
       "      <th>sla</th>\n",
       "      <th>adt</th>\n",
       "      <th>sla_grad</th>\n",
       "      <th>sla_lap</th>\n",
       "      <th>time_julian</th>\n",
       "      <th>pred</th>\n",
       "    </tr>\n",
       "  </thead>\n",
       "  <tbody>\n",
       "    <tr>\n",
       "      <th>0</th>\n",
       "      <td>-0.979229</td>\n",
       "      <td>-0.979361</td>\n",
       "      <td>2015-12-01</td>\n",
       "      <td>0.225685</td>\n",
       "      <td>0.844933</td>\n",
       "      <td>0.000731</td>\n",
       "      <td>0.052348</td>\n",
       "      <td>-1.000386</td>\n",
       "      <td>0.207052</td>\n",
       "    </tr>\n",
       "    <tr>\n",
       "      <th>1</th>\n",
       "      <td>-0.979229</td>\n",
       "      <td>-0.979361</td>\n",
       "      <td>2015-12-02</td>\n",
       "      <td>0.222328</td>\n",
       "      <td>0.841576</td>\n",
       "      <td>0.001277</td>\n",
       "      <td>0.013458</td>\n",
       "      <td>-0.978629</td>\n",
       "      <td>0.207416</td>\n",
       "    </tr>\n",
       "    <tr>\n",
       "      <th>2</th>\n",
       "      <td>-0.979229</td>\n",
       "      <td>-0.979361</td>\n",
       "      <td>2015-12-03</td>\n",
       "      <td>0.220970</td>\n",
       "      <td>0.840217</td>\n",
       "      <td>0.001641</td>\n",
       "      <td>0.009239</td>\n",
       "      <td>-0.956873</td>\n",
       "      <td>0.207501</td>\n",
       "    </tr>\n",
       "    <tr>\n",
       "      <th>3</th>\n",
       "      <td>-0.979229</td>\n",
       "      <td>-0.979361</td>\n",
       "      <td>2015-12-04</td>\n",
       "      <td>0.217335</td>\n",
       "      <td>0.836582</td>\n",
       "      <td>0.002273</td>\n",
       "      <td>0.004804</td>\n",
       "      <td>-0.935117</td>\n",
       "      <td>0.207230</td>\n",
       "    </tr>\n",
       "    <tr>\n",
       "      <th>4</th>\n",
       "      <td>-0.979229</td>\n",
       "      <td>-0.979361</td>\n",
       "      <td>2015-12-05</td>\n",
       "      <td>0.213086</td>\n",
       "      <td>0.832333</td>\n",
       "      <td>0.001955</td>\n",
       "      <td>0.017195</td>\n",
       "      <td>-0.913361</td>\n",
       "      <td>0.206568</td>\n",
       "    </tr>\n",
       "  </tbody>\n",
       "</table>\n",
       "</div>"
      ],
      "text/plain": [
       "   latitude  longitude       time       sla       adt  sla_grad   sla_lap  \\\n",
       "0 -0.979229  -0.979361 2015-12-01  0.225685  0.844933  0.000731  0.052348   \n",
       "1 -0.979229  -0.979361 2015-12-02  0.222328  0.841576  0.001277  0.013458   \n",
       "2 -0.979229  -0.979361 2015-12-03  0.220970  0.840217  0.001641  0.009239   \n",
       "3 -0.979229  -0.979361 2015-12-04  0.217335  0.836582  0.002273  0.004804   \n",
       "4 -0.979229  -0.979361 2015-12-05  0.213086  0.832333  0.001955  0.017195   \n",
       "\n",
       "   time_julian      pred  \n",
       "0    -1.000386  0.207052  \n",
       "1    -0.978629  0.207416  \n",
       "2    -0.956873  0.207501  \n",
       "3    -0.935117  0.207230  \n",
       "4    -0.913361  0.206568  "
      ]
     },
     "execution_count": 79,
     "metadata": {},
     "output_type": "execute_result"
    }
   ],
   "source": [
    "data_full.head()"
   ]
  },
  {
   "cell_type": "code",
   "execution_count": 80,
   "id": "9439d21d-0537-4815-97ae-b2d442b5a99a",
   "metadata": {},
   "outputs": [],
   "source": [
    "ds = data_full.set_index([\"time\", \"latitude\", \"longitude\"]).to_xarray()"
   ]
  },
  {
   "cell_type": "code",
   "execution_count": 81,
   "id": "89e42934-739c-4a47-be44-1e1a5068e771",
   "metadata": {},
   "outputs": [
    {
     "data": {
      "text/html": [
       "<div><svg style=\"position: absolute; width: 0; height: 0; overflow: hidden\">\n",
       "<defs>\n",
       "<symbol id=\"icon-database\" viewBox=\"0 0 32 32\">\n",
       "<path d=\"M16 0c-8.837 0-16 2.239-16 5v4c0 2.761 7.163 5 16 5s16-2.239 16-5v-4c0-2.761-7.163-5-16-5z\"></path>\n",
       "<path d=\"M16 17c-8.837 0-16-2.239-16-5v6c0 2.761 7.163 5 16 5s16-2.239 16-5v-6c0 2.761-7.163 5-16 5z\"></path>\n",
       "<path d=\"M16 26c-8.837 0-16-2.239-16-5v6c0 2.761 7.163 5 16 5s16-2.239 16-5v-6c0 2.761-7.163 5-16 5z\"></path>\n",
       "</symbol>\n",
       "<symbol id=\"icon-file-text2\" viewBox=\"0 0 32 32\">\n",
       "<path d=\"M28.681 7.159c-0.694-0.947-1.662-2.053-2.724-3.116s-2.169-2.030-3.116-2.724c-1.612-1.182-2.393-1.319-2.841-1.319h-15.5c-1.378 0-2.5 1.121-2.5 2.5v27c0 1.378 1.122 2.5 2.5 2.5h23c1.378 0 2.5-1.122 2.5-2.5v-19.5c0-0.448-0.137-1.23-1.319-2.841zM24.543 5.457c0.959 0.959 1.712 1.825 2.268 2.543h-4.811v-4.811c0.718 0.556 1.584 1.309 2.543 2.268zM28 29.5c0 0.271-0.229 0.5-0.5 0.5h-23c-0.271 0-0.5-0.229-0.5-0.5v-27c0-0.271 0.229-0.5 0.5-0.5 0 0 15.499-0 15.5 0v7c0 0.552 0.448 1 1 1h7v19.5z\"></path>\n",
       "<path d=\"M23 26h-14c-0.552 0-1-0.448-1-1s0.448-1 1-1h14c0.552 0 1 0.448 1 1s-0.448 1-1 1z\"></path>\n",
       "<path d=\"M23 22h-14c-0.552 0-1-0.448-1-1s0.448-1 1-1h14c0.552 0 1 0.448 1 1s-0.448 1-1 1z\"></path>\n",
       "<path d=\"M23 18h-14c-0.552 0-1-0.448-1-1s0.448-1 1-1h14c0.552 0 1 0.448 1 1s-0.448 1-1 1z\"></path>\n",
       "</symbol>\n",
       "</defs>\n",
       "</svg>\n",
       "<style>/* CSS stylesheet for displaying xarray objects in jupyterlab.\n",
       " *\n",
       " */\n",
       "\n",
       ":root {\n",
       "  --xr-font-color0: var(--jp-content-font-color0, rgba(0, 0, 0, 1));\n",
       "  --xr-font-color2: var(--jp-content-font-color2, rgba(0, 0, 0, 0.54));\n",
       "  --xr-font-color3: var(--jp-content-font-color3, rgba(0, 0, 0, 0.38));\n",
       "  --xr-border-color: var(--jp-border-color2, #e0e0e0);\n",
       "  --xr-disabled-color: var(--jp-layout-color3, #bdbdbd);\n",
       "  --xr-background-color: var(--jp-layout-color0, white);\n",
       "  --xr-background-color-row-even: var(--jp-layout-color1, white);\n",
       "  --xr-background-color-row-odd: var(--jp-layout-color2, #eeeeee);\n",
       "}\n",
       "\n",
       "html[theme=dark],\n",
       "body.vscode-dark {\n",
       "  --xr-font-color0: rgba(255, 255, 255, 1);\n",
       "  --xr-font-color2: rgba(255, 255, 255, 0.54);\n",
       "  --xr-font-color3: rgba(255, 255, 255, 0.38);\n",
       "  --xr-border-color: #1F1F1F;\n",
       "  --xr-disabled-color: #515151;\n",
       "  --xr-background-color: #111111;\n",
       "  --xr-background-color-row-even: #111111;\n",
       "  --xr-background-color-row-odd: #313131;\n",
       "}\n",
       "\n",
       ".xr-wrap {\n",
       "  display: block;\n",
       "  min-width: 300px;\n",
       "  max-width: 700px;\n",
       "}\n",
       "\n",
       ".xr-text-repr-fallback {\n",
       "  /* fallback to plain text repr when CSS is not injected (untrusted notebook) */\n",
       "  display: none;\n",
       "}\n",
       "\n",
       ".xr-header {\n",
       "  padding-top: 6px;\n",
       "  padding-bottom: 6px;\n",
       "  margin-bottom: 4px;\n",
       "  border-bottom: solid 1px var(--xr-border-color);\n",
       "}\n",
       "\n",
       ".xr-header > div,\n",
       ".xr-header > ul {\n",
       "  display: inline;\n",
       "  margin-top: 0;\n",
       "  margin-bottom: 0;\n",
       "}\n",
       "\n",
       ".xr-obj-type,\n",
       ".xr-array-name {\n",
       "  margin-left: 2px;\n",
       "  margin-right: 10px;\n",
       "}\n",
       "\n",
       ".xr-obj-type {\n",
       "  color: var(--xr-font-color2);\n",
       "}\n",
       "\n",
       ".xr-sections {\n",
       "  padding-left: 0 !important;\n",
       "  display: grid;\n",
       "  grid-template-columns: 150px auto auto 1fr 20px 20px;\n",
       "}\n",
       "\n",
       ".xr-section-item {\n",
       "  display: contents;\n",
       "}\n",
       "\n",
       ".xr-section-item input {\n",
       "  display: none;\n",
       "}\n",
       "\n",
       ".xr-section-item input + label {\n",
       "  color: var(--xr-disabled-color);\n",
       "}\n",
       "\n",
       ".xr-section-item input:enabled + label {\n",
       "  cursor: pointer;\n",
       "  color: var(--xr-font-color2);\n",
       "}\n",
       "\n",
       ".xr-section-item input:enabled + label:hover {\n",
       "  color: var(--xr-font-color0);\n",
       "}\n",
       "\n",
       ".xr-section-summary {\n",
       "  grid-column: 1;\n",
       "  color: var(--xr-font-color2);\n",
       "  font-weight: 500;\n",
       "}\n",
       "\n",
       ".xr-section-summary > span {\n",
       "  display: inline-block;\n",
       "  padding-left: 0.5em;\n",
       "}\n",
       "\n",
       ".xr-section-summary-in:disabled + label {\n",
       "  color: var(--xr-font-color2);\n",
       "}\n",
       "\n",
       ".xr-section-summary-in + label:before {\n",
       "  display: inline-block;\n",
       "  content: '►';\n",
       "  font-size: 11px;\n",
       "  width: 15px;\n",
       "  text-align: center;\n",
       "}\n",
       "\n",
       ".xr-section-summary-in:disabled + label:before {\n",
       "  color: var(--xr-disabled-color);\n",
       "}\n",
       "\n",
       ".xr-section-summary-in:checked + label:before {\n",
       "  content: '▼';\n",
       "}\n",
       "\n",
       ".xr-section-summary-in:checked + label > span {\n",
       "  display: none;\n",
       "}\n",
       "\n",
       ".xr-section-summary,\n",
       ".xr-section-inline-details {\n",
       "  padding-top: 4px;\n",
       "  padding-bottom: 4px;\n",
       "}\n",
       "\n",
       ".xr-section-inline-details {\n",
       "  grid-column: 2 / -1;\n",
       "}\n",
       "\n",
       ".xr-section-details {\n",
       "  display: none;\n",
       "  grid-column: 1 / -1;\n",
       "  margin-bottom: 5px;\n",
       "}\n",
       "\n",
       ".xr-section-summary-in:checked ~ .xr-section-details {\n",
       "  display: contents;\n",
       "}\n",
       "\n",
       ".xr-array-wrap {\n",
       "  grid-column: 1 / -1;\n",
       "  display: grid;\n",
       "  grid-template-columns: 20px auto;\n",
       "}\n",
       "\n",
       ".xr-array-wrap > label {\n",
       "  grid-column: 1;\n",
       "  vertical-align: top;\n",
       "}\n",
       "\n",
       ".xr-preview {\n",
       "  color: var(--xr-font-color3);\n",
       "}\n",
       "\n",
       ".xr-array-preview,\n",
       ".xr-array-data {\n",
       "  padding: 0 5px !important;\n",
       "  grid-column: 2;\n",
       "}\n",
       "\n",
       ".xr-array-data,\n",
       ".xr-array-in:checked ~ .xr-array-preview {\n",
       "  display: none;\n",
       "}\n",
       "\n",
       ".xr-array-in:checked ~ .xr-array-data,\n",
       ".xr-array-preview {\n",
       "  display: inline-block;\n",
       "}\n",
       "\n",
       ".xr-dim-list {\n",
       "  display: inline-block !important;\n",
       "  list-style: none;\n",
       "  padding: 0 !important;\n",
       "  margin: 0;\n",
       "}\n",
       "\n",
       ".xr-dim-list li {\n",
       "  display: inline-block;\n",
       "  padding: 0;\n",
       "  margin: 0;\n",
       "}\n",
       "\n",
       ".xr-dim-list:before {\n",
       "  content: '(';\n",
       "}\n",
       "\n",
       ".xr-dim-list:after {\n",
       "  content: ')';\n",
       "}\n",
       "\n",
       ".xr-dim-list li:not(:last-child):after {\n",
       "  content: ',';\n",
       "  padding-right: 5px;\n",
       "}\n",
       "\n",
       ".xr-has-index {\n",
       "  font-weight: bold;\n",
       "}\n",
       "\n",
       ".xr-var-list,\n",
       ".xr-var-item {\n",
       "  display: contents;\n",
       "}\n",
       "\n",
       ".xr-var-item > div,\n",
       ".xr-var-item label,\n",
       ".xr-var-item > .xr-var-name span {\n",
       "  background-color: var(--xr-background-color-row-even);\n",
       "  margin-bottom: 0;\n",
       "}\n",
       "\n",
       ".xr-var-item > .xr-var-name:hover span {\n",
       "  padding-right: 5px;\n",
       "}\n",
       "\n",
       ".xr-var-list > li:nth-child(odd) > div,\n",
       ".xr-var-list > li:nth-child(odd) > label,\n",
       ".xr-var-list > li:nth-child(odd) > .xr-var-name span {\n",
       "  background-color: var(--xr-background-color-row-odd);\n",
       "}\n",
       "\n",
       ".xr-var-name {\n",
       "  grid-column: 1;\n",
       "}\n",
       "\n",
       ".xr-var-dims {\n",
       "  grid-column: 2;\n",
       "}\n",
       "\n",
       ".xr-var-dtype {\n",
       "  grid-column: 3;\n",
       "  text-align: right;\n",
       "  color: var(--xr-font-color2);\n",
       "}\n",
       "\n",
       ".xr-var-preview {\n",
       "  grid-column: 4;\n",
       "}\n",
       "\n",
       ".xr-var-name,\n",
       ".xr-var-dims,\n",
       ".xr-var-dtype,\n",
       ".xr-preview,\n",
       ".xr-attrs dt {\n",
       "  white-space: nowrap;\n",
       "  overflow: hidden;\n",
       "  text-overflow: ellipsis;\n",
       "  padding-right: 10px;\n",
       "}\n",
       "\n",
       ".xr-var-name:hover,\n",
       ".xr-var-dims:hover,\n",
       ".xr-var-dtype:hover,\n",
       ".xr-attrs dt:hover {\n",
       "  overflow: visible;\n",
       "  width: auto;\n",
       "  z-index: 1;\n",
       "}\n",
       "\n",
       ".xr-var-attrs,\n",
       ".xr-var-data {\n",
       "  display: none;\n",
       "  background-color: var(--xr-background-color) !important;\n",
       "  padding-bottom: 5px !important;\n",
       "}\n",
       "\n",
       ".xr-var-attrs-in:checked ~ .xr-var-attrs,\n",
       ".xr-var-data-in:checked ~ .xr-var-data {\n",
       "  display: block;\n",
       "}\n",
       "\n",
       ".xr-var-data > table {\n",
       "  float: right;\n",
       "}\n",
       "\n",
       ".xr-var-name span,\n",
       ".xr-var-data,\n",
       ".xr-attrs {\n",
       "  padding-left: 25px !important;\n",
       "}\n",
       "\n",
       ".xr-attrs,\n",
       ".xr-var-attrs,\n",
       ".xr-var-data {\n",
       "  grid-column: 1 / -1;\n",
       "}\n",
       "\n",
       "dl.xr-attrs {\n",
       "  padding: 0;\n",
       "  margin: 0;\n",
       "  display: grid;\n",
       "  grid-template-columns: 125px auto;\n",
       "}\n",
       "\n",
       ".xr-attrs dt,\n",
       ".xr-attrs dd {\n",
       "  padding: 0;\n",
       "  margin: 0;\n",
       "  float: left;\n",
       "  padding-right: 10px;\n",
       "  width: auto;\n",
       "}\n",
       "\n",
       ".xr-attrs dt {\n",
       "  font-weight: normal;\n",
       "  grid-column: 1;\n",
       "}\n",
       "\n",
       ".xr-attrs dt:hover span {\n",
       "  display: inline-block;\n",
       "  background: var(--xr-background-color);\n",
       "  padding-right: 10px;\n",
       "}\n",
       "\n",
       ".xr-attrs dd {\n",
       "  grid-column: 2;\n",
       "  white-space: pre-wrap;\n",
       "  word-break: break-all;\n",
       "}\n",
       "\n",
       ".xr-icon-database,\n",
       ".xr-icon-file-text2 {\n",
       "  display: inline-block;\n",
       "  vertical-align: middle;\n",
       "  width: 1em;\n",
       "  height: 1.5em !important;\n",
       "  stroke-width: 0;\n",
       "  stroke: currentColor;\n",
       "  fill: currentColor;\n",
       "}\n",
       "</style><pre class='xr-text-repr-fallback'>&lt;xarray.Dataset&gt;\n",
       "Dimensions:      (latitude: 48, longitude: 48, time: 92)\n",
       "Coordinates:\n",
       "  * time         (time) datetime64[ns] 2015-12-01 2015-12-02 ... 2016-03-01\n",
       "  * latitude     (latitude) float64 -0.9792 -0.9376 -0.8959 ... 0.9375 0.9792\n",
       "  * longitude    (longitude) float64 -0.9794 -0.9377 -0.896 ... 0.9375 0.9792\n",
       "Data variables:\n",
       "    sla          (time, latitude, longitude) float64 0.2257 0.2167 ... 0.08938\n",
       "    adt          (time, latitude, longitude) float64 0.8449 0.8344 ... -0.1146\n",
       "    sla_grad     (time, latitude, longitude) float64 0.0007315 ... 0.005626\n",
       "    sla_lap      (time, latitude, longitude) float64 0.05235 0.03063 ... 0.00502\n",
       "    time_julian  (time, latitude, longitude) float64 -1.0 -1.0 ... 0.9794 0.9794\n",
       "    pred         (time, latitude, longitude) float32 0.2071 0.1852 ... 0.1399</pre><div class='xr-wrap' hidden><div class='xr-header'><div class='xr-obj-type'>xarray.Dataset</div></div><ul class='xr-sections'><li class='xr-section-item'><input id='section-73a39548-5cbb-45de-a1f1-e38e5f4cce2c' class='xr-section-summary-in' type='checkbox' disabled ><label for='section-73a39548-5cbb-45de-a1f1-e38e5f4cce2c' class='xr-section-summary'  title='Expand/collapse section'>Dimensions:</label><div class='xr-section-inline-details'><ul class='xr-dim-list'><li><span class='xr-has-index'>latitude</span>: 48</li><li><span class='xr-has-index'>longitude</span>: 48</li><li><span class='xr-has-index'>time</span>: 92</li></ul></div><div class='xr-section-details'></div></li><li class='xr-section-item'><input id='section-c217b333-b6b4-4336-a3dc-a55b386f0581' class='xr-section-summary-in' type='checkbox'  checked><label for='section-c217b333-b6b4-4336-a3dc-a55b386f0581' class='xr-section-summary' >Coordinates: <span>(3)</span></label><div class='xr-section-inline-details'></div><div class='xr-section-details'><ul class='xr-var-list'><li class='xr-var-item'><div class='xr-var-name'><span class='xr-has-index'>time</span></div><div class='xr-var-dims'>(time)</div><div class='xr-var-dtype'>datetime64[ns]</div><div class='xr-var-preview xr-preview'>2015-12-01 ... 2016-03-01</div><input id='attrs-a63a5d0b-60c3-4825-ad19-598f1937c9fb' class='xr-var-attrs-in' type='checkbox' disabled><label for='attrs-a63a5d0b-60c3-4825-ad19-598f1937c9fb' title='Show/Hide attributes'><svg class='icon xr-icon-file-text2'><use xlink:href='#icon-file-text2'></use></svg></label><input id='data-c00c4823-5617-4a27-83c4-b610ee7b0485' class='xr-var-data-in' type='checkbox'><label for='data-c00c4823-5617-4a27-83c4-b610ee7b0485' title='Show/Hide data repr'><svg class='icon xr-icon-database'><use xlink:href='#icon-database'></use></svg></label><div class='xr-var-attrs'><dl class='xr-attrs'></dl></div><div class='xr-var-data'><pre>array([&#x27;2015-12-01T00:00:00.000000000&#x27;, &#x27;2015-12-02T00:00:00.000000000&#x27;,\n",
       "       &#x27;2015-12-03T00:00:00.000000000&#x27;, &#x27;2015-12-04T00:00:00.000000000&#x27;,\n",
       "       &#x27;2015-12-05T00:00:00.000000000&#x27;, &#x27;2015-12-06T00:00:00.000000000&#x27;,\n",
       "       &#x27;2015-12-07T00:00:00.000000000&#x27;, &#x27;2015-12-08T00:00:00.000000000&#x27;,\n",
       "       &#x27;2015-12-09T00:00:00.000000000&#x27;, &#x27;2015-12-10T00:00:00.000000000&#x27;,\n",
       "       &#x27;2015-12-11T00:00:00.000000000&#x27;, &#x27;2015-12-12T00:00:00.000000000&#x27;,\n",
       "       &#x27;2015-12-13T00:00:00.000000000&#x27;, &#x27;2015-12-14T00:00:00.000000000&#x27;,\n",
       "       &#x27;2015-12-15T00:00:00.000000000&#x27;, &#x27;2015-12-16T00:00:00.000000000&#x27;,\n",
       "       &#x27;2015-12-17T00:00:00.000000000&#x27;, &#x27;2015-12-18T00:00:00.000000000&#x27;,\n",
       "       &#x27;2015-12-19T00:00:00.000000000&#x27;, &#x27;2015-12-20T00:00:00.000000000&#x27;,\n",
       "       &#x27;2015-12-21T00:00:00.000000000&#x27;, &#x27;2015-12-22T00:00:00.000000000&#x27;,\n",
       "       &#x27;2015-12-23T00:00:00.000000000&#x27;, &#x27;2015-12-24T00:00:00.000000000&#x27;,\n",
       "       &#x27;2015-12-25T00:00:00.000000000&#x27;, &#x27;2015-12-26T00:00:00.000000000&#x27;,\n",
       "       &#x27;2015-12-27T00:00:00.000000000&#x27;, &#x27;2015-12-28T00:00:00.000000000&#x27;,\n",
       "       &#x27;2015-12-29T00:00:00.000000000&#x27;, &#x27;2015-12-30T00:00:00.000000000&#x27;,\n",
       "       &#x27;2015-12-31T00:00:00.000000000&#x27;, &#x27;2016-01-01T00:00:00.000000000&#x27;,\n",
       "       &#x27;2016-01-02T00:00:00.000000000&#x27;, &#x27;2016-01-03T00:00:00.000000000&#x27;,\n",
       "       &#x27;2016-01-04T00:00:00.000000000&#x27;, &#x27;2016-01-05T00:00:00.000000000&#x27;,\n",
       "       &#x27;2016-01-06T00:00:00.000000000&#x27;, &#x27;2016-01-07T00:00:00.000000000&#x27;,\n",
       "       &#x27;2016-01-08T00:00:00.000000000&#x27;, &#x27;2016-01-09T00:00:00.000000000&#x27;,\n",
       "       &#x27;2016-01-10T00:00:00.000000000&#x27;, &#x27;2016-01-11T00:00:00.000000000&#x27;,\n",
       "       &#x27;2016-01-12T00:00:00.000000000&#x27;, &#x27;2016-01-13T00:00:00.000000000&#x27;,\n",
       "       &#x27;2016-01-14T00:00:00.000000000&#x27;, &#x27;2016-01-15T00:00:00.000000000&#x27;,\n",
       "       &#x27;2016-01-16T00:00:00.000000000&#x27;, &#x27;2016-01-17T00:00:00.000000000&#x27;,\n",
       "       &#x27;2016-01-18T00:00:00.000000000&#x27;, &#x27;2016-01-19T00:00:00.000000000&#x27;,\n",
       "       &#x27;2016-01-20T00:00:00.000000000&#x27;, &#x27;2016-01-21T00:00:00.000000000&#x27;,\n",
       "       &#x27;2016-01-22T00:00:00.000000000&#x27;, &#x27;2016-01-23T00:00:00.000000000&#x27;,\n",
       "       &#x27;2016-01-24T00:00:00.000000000&#x27;, &#x27;2016-01-25T00:00:00.000000000&#x27;,\n",
       "       &#x27;2016-01-26T00:00:00.000000000&#x27;, &#x27;2016-01-27T00:00:00.000000000&#x27;,\n",
       "       &#x27;2016-01-28T00:00:00.000000000&#x27;, &#x27;2016-01-29T00:00:00.000000000&#x27;,\n",
       "       &#x27;2016-01-30T00:00:00.000000000&#x27;, &#x27;2016-01-31T00:00:00.000000000&#x27;,\n",
       "       &#x27;2016-02-01T00:00:00.000000000&#x27;, &#x27;2016-02-02T00:00:00.000000000&#x27;,\n",
       "       &#x27;2016-02-03T00:00:00.000000000&#x27;, &#x27;2016-02-04T00:00:00.000000000&#x27;,\n",
       "       &#x27;2016-02-05T00:00:00.000000000&#x27;, &#x27;2016-02-06T00:00:00.000000000&#x27;,\n",
       "       &#x27;2016-02-07T00:00:00.000000000&#x27;, &#x27;2016-02-08T00:00:00.000000000&#x27;,\n",
       "       &#x27;2016-02-09T00:00:00.000000000&#x27;, &#x27;2016-02-10T00:00:00.000000000&#x27;,\n",
       "       &#x27;2016-02-11T00:00:00.000000000&#x27;, &#x27;2016-02-12T00:00:00.000000000&#x27;,\n",
       "       &#x27;2016-02-13T00:00:00.000000000&#x27;, &#x27;2016-02-14T00:00:00.000000000&#x27;,\n",
       "       &#x27;2016-02-15T00:00:00.000000000&#x27;, &#x27;2016-02-16T00:00:00.000000000&#x27;,\n",
       "       &#x27;2016-02-17T00:00:00.000000000&#x27;, &#x27;2016-02-18T00:00:00.000000000&#x27;,\n",
       "       &#x27;2016-02-19T00:00:00.000000000&#x27;, &#x27;2016-02-20T00:00:00.000000000&#x27;,\n",
       "       &#x27;2016-02-21T00:00:00.000000000&#x27;, &#x27;2016-02-22T00:00:00.000000000&#x27;,\n",
       "       &#x27;2016-02-23T00:00:00.000000000&#x27;, &#x27;2016-02-24T00:00:00.000000000&#x27;,\n",
       "       &#x27;2016-02-25T00:00:00.000000000&#x27;, &#x27;2016-02-26T00:00:00.000000000&#x27;,\n",
       "       &#x27;2016-02-27T00:00:00.000000000&#x27;, &#x27;2016-02-28T00:00:00.000000000&#x27;,\n",
       "       &#x27;2016-02-29T00:00:00.000000000&#x27;, &#x27;2016-03-01T00:00:00.000000000&#x27;],\n",
       "      dtype=&#x27;datetime64[ns]&#x27;)</pre></div></li><li class='xr-var-item'><div class='xr-var-name'><span class='xr-has-index'>latitude</span></div><div class='xr-var-dims'>(latitude)</div><div class='xr-var-dtype'>float64</div><div class='xr-var-preview xr-preview'>-0.9792 -0.9376 ... 0.9375 0.9792</div><input id='attrs-ad8c7a8f-6562-4b5a-99fa-66c7f4d8e8be' class='xr-var-attrs-in' type='checkbox' disabled><label for='attrs-ad8c7a8f-6562-4b5a-99fa-66c7f4d8e8be' title='Show/Hide attributes'><svg class='icon xr-icon-file-text2'><use xlink:href='#icon-file-text2'></use></svg></label><input id='data-94b9e4e9-fbd6-49fa-9b44-ec97258734b6' class='xr-var-data-in' type='checkbox'><label for='data-94b9e4e9-fbd6-49fa-9b44-ec97258734b6' title='Show/Hide data repr'><svg class='icon xr-icon-database'><use xlink:href='#icon-database'></use></svg></label><div class='xr-var-attrs'><dl class='xr-attrs'></dl></div><div class='xr-var-data'><pre>array([-0.979229, -0.93756 , -0.895891, -0.854222, -0.812553, -0.770884,\n",
       "       -0.729215, -0.687546, -0.645877, -0.604208, -0.562539, -0.52087 ,\n",
       "       -0.479201, -0.437532, -0.395863, -0.354194, -0.312525, -0.270856,\n",
       "       -0.229187, -0.187518, -0.145849, -0.10418 , -0.062511, -0.020842,\n",
       "        0.020827,  0.062496,  0.104165,  0.145834,  0.187503,  0.229173,\n",
       "        0.270842,  0.312511,  0.35418 ,  0.395849,  0.437518,  0.479187,\n",
       "        0.520856,  0.562525,  0.604194,  0.645863,  0.687532,  0.729201,\n",
       "        0.77087 ,  0.812539,  0.854208,  0.895877,  0.937546,  0.979215])</pre></div></li><li class='xr-var-item'><div class='xr-var-name'><span class='xr-has-index'>longitude</span></div><div class='xr-var-dims'>(longitude)</div><div class='xr-var-dtype'>float64</div><div class='xr-var-preview xr-preview'>-0.9794 -0.9377 ... 0.9375 0.9792</div><input id='attrs-250e1d36-8a61-4483-a346-d8bd89b44907' class='xr-var-attrs-in' type='checkbox' disabled><label for='attrs-250e1d36-8a61-4483-a346-d8bd89b44907' title='Show/Hide attributes'><svg class='icon xr-icon-file-text2'><use xlink:href='#icon-file-text2'></use></svg></label><input id='data-68b6172b-63f9-47cd-bf9e-9f646bc6c45e' class='xr-var-data-in' type='checkbox'><label for='data-68b6172b-63f9-47cd-bf9e-9f646bc6c45e' title='Show/Hide data repr'><svg class='icon xr-icon-database'><use xlink:href='#icon-database'></use></svg></label><div class='xr-var-attrs'><dl class='xr-attrs'></dl></div><div class='xr-var-data'><pre>array([-0.979361, -0.93769 , -0.896019, -0.854348, -0.812677, -0.771006,\n",
       "       -0.729335, -0.687664, -0.645993, -0.604322, -0.562651, -0.52098 ,\n",
       "       -0.479309, -0.437637, -0.395966, -0.354295, -0.312624, -0.270953,\n",
       "       -0.229282, -0.187611, -0.14594 , -0.104269, -0.062598, -0.020927,\n",
       "        0.020744,  0.062415,  0.104086,  0.145757,  0.187428,  0.229099,\n",
       "        0.27077 ,  0.312441,  0.354112,  0.395783,  0.437454,  0.479125,\n",
       "        0.520796,  0.562467,  0.604138,  0.64581 ,  0.687481,  0.729152,\n",
       "        0.770823,  0.812494,  0.854165,  0.895836,  0.937507,  0.979178])</pre></div></li></ul></div></li><li class='xr-section-item'><input id='section-be64fe19-18e1-4d2f-b5f0-5ef7481b3a74' class='xr-section-summary-in' type='checkbox'  checked><label for='section-be64fe19-18e1-4d2f-b5f0-5ef7481b3a74' class='xr-section-summary' >Data variables: <span>(6)</span></label><div class='xr-section-inline-details'></div><div class='xr-section-details'><ul class='xr-var-list'><li class='xr-var-item'><div class='xr-var-name'><span>sla</span></div><div class='xr-var-dims'>(time, latitude, longitude)</div><div class='xr-var-dtype'>float64</div><div class='xr-var-preview xr-preview'>0.2257 0.2167 ... 0.08078 0.08938</div><input id='attrs-47e9594a-03fc-42ba-8314-d7962d7e2831' class='xr-var-attrs-in' type='checkbox' disabled><label for='attrs-47e9594a-03fc-42ba-8314-d7962d7e2831' title='Show/Hide attributes'><svg class='icon xr-icon-file-text2'><use xlink:href='#icon-file-text2'></use></svg></label><input id='data-ac5e43bb-00d4-41a0-90dd-67e7bf439663' class='xr-var-data-in' type='checkbox'><label for='data-ac5e43bb-00d4-41a0-90dd-67e7bf439663' title='Show/Hide data repr'><svg class='icon xr-icon-database'><use xlink:href='#icon-database'></use></svg></label><div class='xr-var-attrs'><dl class='xr-attrs'></dl></div><div class='xr-var-data'><pre>array([[[ 0.225685,  0.216684,  0.195064, ...,  0.136586,  0.12787 ,\n",
       "          0.133885],\n",
       "        [ 0.215885,  0.209219,  0.185761, ...,  0.135551,  0.126462,\n",
       "          0.135093],\n",
       "        [ 0.204836,  0.220538,  0.228985, ...,  0.153222,  0.138891,\n",
       "          0.146348],\n",
       "        ...,\n",
       "        [ 0.0955  ,       nan,  0.105184, ...,  0.310038,  0.306502,\n",
       "          0.300514],\n",
       "        [      nan,       nan,       nan, ...,  0.267881,  0.262479,\n",
       "          0.250039],\n",
       "        [      nan,       nan,       nan, ...,  0.207086,  0.194925,\n",
       "          0.17646 ]],\n",
       "\n",
       "       [[ 0.222328,  0.210022,  0.190142, ...,  0.133054,  0.126478,\n",
       "          0.134706],\n",
       "        [ 0.21355 ,  0.203866,  0.182655, ...,  0.1298  ,  0.122083,\n",
       "          0.133282],\n",
       "        [ 0.20587 ,  0.22314 ,  0.232   , ...,  0.146908,  0.133887,\n",
       "          0.144019],\n",
       "...\n",
       "        [ 0.002265,       nan,  0.045281, ...,  0.04051 ,  0.090246,\n",
       "          0.116736],\n",
       "        [      nan,       nan,       nan, ...,  0.064461,  0.088149,\n",
       "          0.104917],\n",
       "        [      nan,       nan,       nan, ...,  0.072472,  0.081014,\n",
       "          0.088937]],\n",
       "\n",
       "       [[-0.099588, -0.0475  , -0.016402, ...,  0.059119,  0.076643,\n",
       "          0.093189],\n",
       "        [-0.128614, -0.067524, -0.021358, ...,  0.037456,  0.065297,\n",
       "          0.090712],\n",
       "        [-0.139808, -0.09314 , -0.043807, ...,  0.013428,  0.047153,\n",
       "          0.079937],\n",
       "        ...,\n",
       "        [ 0.008704,       nan,  0.05986 , ...,  0.041593,  0.087965,\n",
       "          0.115553],\n",
       "        [      nan,       nan,       nan, ...,  0.066305,  0.090269,\n",
       "          0.108202],\n",
       "        [      nan,       nan,       nan, ...,  0.075019,  0.080785,\n",
       "          0.089381]]])</pre></div></li><li class='xr-var-item'><div class='xr-var-name'><span>adt</span></div><div class='xr-var-dims'>(time, latitude, longitude)</div><div class='xr-var-dtype'>float64</div><div class='xr-var-preview xr-preview'>0.8449 0.8344 ... -0.1165 -0.1146</div><input id='attrs-b1c53788-3942-4de3-a48c-d998074fc4d5' class='xr-var-attrs-in' type='checkbox' disabled><label for='attrs-b1c53788-3942-4de3-a48c-d998074fc4d5' title='Show/Hide attributes'><svg class='icon xr-icon-file-text2'><use xlink:href='#icon-file-text2'></use></svg></label><input id='data-e9bb06fb-7c21-46af-938e-5c06cbc3261d' class='xr-var-data-in' type='checkbox'><label for='data-e9bb06fb-7c21-46af-938e-5c06cbc3261d' title='Show/Hide data repr'><svg class='icon xr-icon-database'><use xlink:href='#icon-database'></use></svg></label><div class='xr-var-attrs'><dl class='xr-attrs'></dl></div><div class='xr-var-data'><pre>array([[[ 0.844933,  0.834382,  0.811084, ...,  0.661553,  0.65098 ,\n",
       "          0.655355],\n",
       "        [ 0.837015,  0.826844,  0.801906, ...,  0.663406,  0.651804,\n",
       "          0.657843],\n",
       "        [ 0.822421,  0.834468,  0.840157, ...,  0.681857,  0.665076,\n",
       "          0.669698],\n",
       "        ...,\n",
       "        [-0.026025,       nan, -0.007231, ...,  0.127616,  0.12499 ,\n",
       "          0.117364],\n",
       "        [      nan,       nan,       nan, ...,  0.081031,  0.073637,\n",
       "          0.056454],\n",
       "        [      nan,       nan,       nan, ...,  0.014306, -0.002315,\n",
       "         -0.027475]],\n",
       "\n",
       "       [[ 0.841576,  0.82772 ,  0.806162, ...,  0.658021,  0.649588,\n",
       "          0.656176],\n",
       "        [ 0.83468 ,  0.821491,  0.7988  , ...,  0.657655,  0.647426,\n",
       "          0.656032],\n",
       "        [ 0.823455,  0.83707 ,  0.843173, ...,  0.675543,  0.660072,\n",
       "          0.667369],\n",
       "...\n",
       "        [-0.11926 ,       nan, -0.067134, ..., -0.141912, -0.091266,\n",
       "         -0.066414],\n",
       "        [      nan,       nan,       nan, ..., -0.122389, -0.100693,\n",
       "         -0.088668],\n",
       "        [      nan,       nan,       nan, ..., -0.120308, -0.116226,\n",
       "         -0.114998]],\n",
       "\n",
       "       [[ 0.51966 ,  0.570197,  0.599618, ...,  0.584087,  0.599753,\n",
       "          0.614659],\n",
       "        [ 0.492516,  0.550101,  0.594787, ...,  0.565311,  0.59064 ,\n",
       "          0.613462],\n",
       "        [ 0.477777,  0.52079 ,  0.567366, ...,  0.542063,  0.573338,\n",
       "          0.603287],\n",
       "        ...,\n",
       "        [-0.112821,       nan, -0.052555, ..., -0.14083 , -0.093547,\n",
       "         -0.067597],\n",
       "        [      nan,       nan,       nan, ..., -0.120545, -0.098574,\n",
       "         -0.085383],\n",
       "        [      nan,       nan,       nan, ..., -0.117761, -0.116455,\n",
       "         -0.114554]]])</pre></div></li><li class='xr-var-item'><div class='xr-var-name'><span>sla_grad</span></div><div class='xr-var-dims'>(time, latitude, longitude)</div><div class='xr-var-dtype'>float64</div><div class='xr-var-preview xr-preview'>0.0007315 0.004149 ... 0.005626</div><input id='attrs-73443d70-b2d5-41a2-a15d-a9229e949680' class='xr-var-attrs-in' type='checkbox' disabled><label for='attrs-73443d70-b2d5-41a2-a15d-a9229e949680' title='Show/Hide attributes'><svg class='icon xr-icon-file-text2'><use xlink:href='#icon-file-text2'></use></svg></label><input id='data-b78c70a9-9b7b-4bd8-8738-f7589df9e476' class='xr-var-data-in' type='checkbox'><label for='data-b78c70a9-9b7b-4bd8-8738-f7589df9e476' title='Show/Hide data repr'><svg class='icon xr-icon-database'><use xlink:href='#icon-database'></use></svg></label><div class='xr-var-attrs'><dl class='xr-attrs'></dl></div><div class='xr-var-data'><pre>array([[[7.31471780e-04, 4.14855887e-03, 1.49485004e-02, ...,\n",
       "         1.66817179e-03, 5.69235620e-04, 1.54876656e-03],\n",
       "        [8.93304802e-04, 1.84461738e-03, 8.66476778e-03, ...,\n",
       "         1.15236982e-03, 2.43344410e-04, 2.75813339e-03],\n",
       "        [2.99654050e-03, 7.25049645e-03, 3.13195303e-02, ...,\n",
       "         3.60455857e-03, 2.55108817e-03, 5.05611752e-03],\n",
       "        ...,\n",
       "        [1.38857933e-03,            nan, 1.98715714e-04, ...,\n",
       "         1.31667917e-02, 1.38232990e-02, 1.60373226e-02],\n",
       "        [           nan,            nan,            nan, ...,\n",
       "         2.13604807e-02, 2.55355278e-02, 3.28163073e-02],\n",
       "        [           nan,            nan,            nan, ...,\n",
       "         4.02235291e-02, 5.22085684e-02, 6.17166548e-02]],\n",
       "\n",
       "       [[1.27653032e-03, 4.92079432e-03, 1.50415680e-02, ...,\n",
       "         2.35145900e-03, 1.25435845e-03, 2.40491536e-03],\n",
       "        [6.64694090e-04, 2.25316590e-03, 9.56188678e-03, ...,\n",
       "         1.19704042e-03, 1.34035210e-04, 3.58715713e-03],\n",
       "        [3.84151668e-03, 1.20568678e-02, 3.71621174e-02, ...,\n",
       "         4.33893826e-03, 2.74227475e-03, 6.28872612e-03],\n",
       "...\n",
       "        [1.44758154e-02,            nan, 5.33675369e-03, ...,\n",
       "         1.81405742e-02, 1.16257990e-02, 1.91617591e-03],\n",
       "        [           nan,            nan,            nan, ...,\n",
       "         7.37403966e-03, 3.44383552e-03, 2.96239171e-03],\n",
       "        [           nan,            nan,            nan, ...,\n",
       "         7.69823770e-04, 1.28779018e-03, 3.07317634e-03]],\n",
       "\n",
       "       [[4.28498180e-02, 1.62142531e-02, 1.25010907e-03, ...,\n",
       "         5.76739719e-03, 2.82676827e-03, 2.08498266e-03],\n",
       "        [4.08303104e-02, 2.71737183e-02, 9.65341461e-03, ...,\n",
       "         1.09836130e-02, 7.41172327e-03, 5.03712544e-03],\n",
       "        [1.66020575e-02, 2.07271443e-02, 1.56088218e-02, ...,\n",
       "         1.22368993e-02, 1.07406030e-02, 8.87908585e-03],\n",
       "        ...,\n",
       "        [1.42214227e-02,            nan, 5.35298458e-03, ...,\n",
       "         1.87516671e-02, 1.11538703e-02, 2.65480357e-03],\n",
       "        [           nan,            nan,            nan, ...,\n",
       "         7.40522638e-03, 3.61382202e-03, 3.15020162e-03],\n",
       "        [           nan,            nan,            nan, ...,\n",
       "         4.59807850e-04, 2.30439716e-03, 5.62573806e-03]]])</pre></div></li><li class='xr-var-item'><div class='xr-var-name'><span>sla_lap</span></div><div class='xr-var-dims'>(time, latitude, longitude)</div><div class='xr-var-dtype'>float64</div><div class='xr-var-preview xr-preview'>0.05235 0.03063 ... 0.00502</div><input id='attrs-2bafe015-35f7-4b51-8de1-ddfa84a02d09' class='xr-var-attrs-in' type='checkbox' disabled><label for='attrs-2bafe015-35f7-4b51-8de1-ddfa84a02d09' title='Show/Hide attributes'><svg class='icon xr-icon-file-text2'><use xlink:href='#icon-file-text2'></use></svg></label><input id='data-2fcc0e53-b9cb-4ed2-8ecf-10d486dca4de' class='xr-var-data-in' type='checkbox'><label for='data-2fcc0e53-b9cb-4ed2-8ecf-10d486dca4de' title='Show/Hide data repr'><svg class='icon xr-icon-database'><use xlink:href='#icon-database'></use></svg></label><div class='xr-var-attrs'><dl class='xr-attrs'></dl></div><div class='xr-var-data'><pre>array([[[5.23476096e-02, 3.06292001e-02, 1.72911980e-02, ...,\n",
       "         1.42945936e-04, 3.50767949e-02, 8.07150828e-02],\n",
       "        [8.87301114e-02, 5.73449230e-02, 1.64096100e-02, ...,\n",
       "         3.15275536e-04, 4.37412127e-02, 1.28089547e-01],\n",
       "        [4.83358658e-03, 2.64504685e-02, 4.57275456e-02, ...,\n",
       "         4.23072194e-03, 5.23585924e-02, 2.19394813e-01],\n",
       "        ...,\n",
       "        [2.15091556e-02,            nan, 3.28145666e-03, ...,\n",
       "         3.50902810e-02, 1.04816644e-02, 5.71975056e-04],\n",
       "        [           nan,            nan,            nan, ...,\n",
       "         5.98518850e-03, 8.39862274e-03, 1.78414792e-02],\n",
       "        [           nan,            nan,            nan, ...,\n",
       "         7.12133454e-03, 7.79406466e-03, 1.28695411e-02]],\n",
       "\n",
       "       [[1.34578561e-02, 1.59668496e-02, 1.99464778e-02, ...,\n",
       "         4.42118606e-03, 4.42025395e-02, 6.94238183e-02],\n",
       "        [3.24316877e-02, 3.56363782e-02, 1.72365389e-02, ...,\n",
       "         1.70304782e-03, 6.04727117e-02, 1.29168360e-01],\n",
       "        [5.96787150e-03, 3.68133294e-02, 5.99916846e-02, ...,\n",
       "         6.41921440e-05, 7.32395144e-02, 2.21151992e-01],\n",
       "...\n",
       "        [2.98446355e-02,            nan, 9.80691856e-04, ...,\n",
       "         1.23716680e-02, 6.12938758e-02, 2.46309720e-01],\n",
       "        [           nan,            nan,            nan, ...,\n",
       "         8.56381696e-04, 1.00096023e-02, 1.47360177e-02],\n",
       "        [           nan,            nan,            nan, ...,\n",
       "         4.68462736e-04, 3.08634624e-04, 5.01760000e-06]],\n",
       "\n",
       "       [[7.09220813e-02, 1.64323215e-01, 1.72856378e-01, ...,\n",
       "         1.91213584e-04, 1.09160704e-04, 4.34639104e-04],\n",
       "        [3.40461543e-02, 8.58794747e-02, 1.18027977e-01, ...,\n",
       "         3.94384000e-05, 1.58117570e-03, 1.43398542e-03],\n",
       "        [1.43309629e-02, 1.18556262e-03, 3.15090901e-02, ...,\n",
       "         9.56046400e-06, 5.15290000e-04, 5.49377440e-05],\n",
       "        ...,\n",
       "        [8.55329026e-03,            nan, 8.40815642e-03, ...,\n",
       "         6.33616000e-03, 4.98807556e-02, 1.42693552e-01],\n",
       "        [           nan,            nan,            nan, ...,\n",
       "         2.08739334e-03, 7.06339394e-03, 1.18696667e-02],\n",
       "        [           nan,            nan,            nan, ...,\n",
       "         8.53574656e-04, 3.88405264e-04, 5.02000590e-03]]])</pre></div></li><li class='xr-var-item'><div class='xr-var-name'><span>time_julian</span></div><div class='xr-var-dims'>(time, latitude, longitude)</div><div class='xr-var-dtype'>float64</div><div class='xr-var-preview xr-preview'>-1.0 -1.0 -1.0 ... 0.9794 0.9794</div><input id='attrs-217cdb71-1d42-4556-b680-5be1daf60aa4' class='xr-var-attrs-in' type='checkbox' disabled><label for='attrs-217cdb71-1d42-4556-b680-5be1daf60aa4' title='Show/Hide attributes'><svg class='icon xr-icon-file-text2'><use xlink:href='#icon-file-text2'></use></svg></label><input id='data-69131f6e-a467-4c00-ad66-389fcdadabce' class='xr-var-data-in' type='checkbox'><label for='data-69131f6e-a467-4c00-ad66-389fcdadabce' title='Show/Hide data repr'><svg class='icon xr-icon-database'><use xlink:href='#icon-database'></use></svg></label><div class='xr-var-attrs'><dl class='xr-attrs'></dl></div><div class='xr-var-data'><pre>array([[[-1.00038569, -1.00038569, -1.00038569, ..., -1.00038569,\n",
       "         -1.00038569, -1.00038569],\n",
       "        [-1.00038569, -1.00038569, -1.00038569, ..., -1.00038569,\n",
       "         -1.00038569, -1.00038569],\n",
       "        [-1.00038569, -1.00038569, -1.00038569, ..., -1.00038569,\n",
       "         -1.00038569, -1.00038569],\n",
       "        ...,\n",
       "        [-1.00038569,         nan, -1.00038569, ..., -1.00038569,\n",
       "         -1.00038569, -1.00038569],\n",
       "        [        nan,         nan,         nan, ..., -1.00038569,\n",
       "         -1.00038569, -1.00038569],\n",
       "        [        nan,         nan,         nan, ..., -1.00038569,\n",
       "         -1.00038569, -1.00038569]],\n",
       "\n",
       "       [[-0.97862949, -0.97862949, -0.97862949, ..., -0.97862949,\n",
       "         -0.97862949, -0.97862949],\n",
       "        [-0.97862949, -0.97862949, -0.97862949, ..., -0.97862949,\n",
       "         -0.97862949, -0.97862949],\n",
       "        [-0.97862949, -0.97862949, -0.97862949, ..., -0.97862949,\n",
       "         -0.97862949, -0.97862949],\n",
       "...\n",
       "        [ 0.95767238,         nan,  0.95767238, ...,  0.95767238,\n",
       "          0.95767238,  0.95767238],\n",
       "        [        nan,         nan,         nan, ...,  0.95767238,\n",
       "          0.95767238,  0.95767238],\n",
       "        [        nan,         nan,         nan, ...,  0.95767238,\n",
       "          0.95767238,  0.95767238]],\n",
       "\n",
       "       [[ 0.97942858,  0.97942858,  0.97942858, ...,  0.97942858,\n",
       "          0.97942858,  0.97942858],\n",
       "        [ 0.97942858,  0.97942858,  0.97942858, ...,  0.97942858,\n",
       "          0.97942858,  0.97942858],\n",
       "        [ 0.97942858,  0.97942858,  0.97942858, ...,  0.97942858,\n",
       "          0.97942858,  0.97942858],\n",
       "        ...,\n",
       "        [ 0.97942858,         nan,  0.97942858, ...,  0.97942858,\n",
       "          0.97942858,  0.97942858],\n",
       "        [        nan,         nan,         nan, ...,  0.97942858,\n",
       "          0.97942858,  0.97942858],\n",
       "        [        nan,         nan,         nan, ...,  0.97942858,\n",
       "          0.97942858,  0.97942858]]])</pre></div></li><li class='xr-var-item'><div class='xr-var-name'><span>pred</span></div><div class='xr-var-dims'>(time, latitude, longitude)</div><div class='xr-var-dtype'>float32</div><div class='xr-var-preview xr-preview'>0.2071 0.1852 ... 0.1101 0.1399</div><input id='attrs-af0c469c-e122-4963-8082-1107d100d714' class='xr-var-attrs-in' type='checkbox' disabled><label for='attrs-af0c469c-e122-4963-8082-1107d100d714' title='Show/Hide attributes'><svg class='icon xr-icon-file-text2'><use xlink:href='#icon-file-text2'></use></svg></label><input id='data-2df0b50b-39e1-4717-bf44-19d0c723bdfe' class='xr-var-data-in' type='checkbox'><label for='data-2df0b50b-39e1-4717-bf44-19d0c723bdfe' title='Show/Hide data repr'><svg class='icon xr-icon-database'><use xlink:href='#icon-database'></use></svg></label><div class='xr-var-attrs'><dl class='xr-attrs'></dl></div><div class='xr-var-data'><pre>array([[[ 0.20705175,  0.18522432,  0.16396102, ...,  0.08794022,\n",
       "          0.10384068,  0.11653589],\n",
       "        [ 0.24104488,  0.21637982,  0.19457462, ...,  0.10543109,\n",
       "          0.11808611,  0.1268932 ],\n",
       "        [ 0.30632687,  0.28651407,  0.26721618, ...,  0.13261211,\n",
       "          0.13987745,  0.1414853 ],\n",
       "        ...,\n",
       "        [ 0.06545307,         nan,  0.06440072, ...,  0.23956898,\n",
       "          0.25224727,  0.26605722],\n",
       "        [        nan,         nan,         nan, ...,  0.20131353,\n",
       "          0.21425912,  0.22820437],\n",
       "        [        nan,         nan,         nan, ...,  0.16074905,\n",
       "          0.17132616,  0.18165049]],\n",
       "\n",
       "       [[ 0.20741603,  0.18644682,  0.16564609, ...,  0.09261577,\n",
       "          0.10896289,  0.12210377],\n",
       "        [ 0.24079758,  0.216883  ,  0.19554445, ...,  0.10772622,\n",
       "          0.12089809,  0.13032407],\n",
       "        [ 0.30646735,  0.28665337,  0.26685876, ...,  0.1333632 ,\n",
       "          0.141017  ,  0.1432491 ],\n",
       "...\n",
       "        [ 0.15348285,         nan,  0.13368416, ...,  0.08746324,\n",
       "          0.11173792,  0.12117931],\n",
       "        [        nan,         nan,         nan, ...,  0.08028208,\n",
       "          0.11451963,  0.14031942],\n",
       "        [        nan,         nan,         nan, ...,  0.06844801,\n",
       "          0.10426077,  0.13728204]],\n",
       "\n",
       "       [[-0.09064523, -0.06910629, -0.04726763, ...,  0.02778217,\n",
       "          0.0665797 ,  0.10493965],\n",
       "        [-0.1141228 , -0.08879574, -0.0623899 , ..., -0.00151597,\n",
       "          0.03660863,  0.07344744],\n",
       "        [-0.12313091, -0.09421971, -0.06372984, ..., -0.00867879,\n",
       "          0.02367404,  0.05361495],\n",
       "        ...,\n",
       "        [ 0.16603646,         nan,  0.14608377, ...,  0.09444132,\n",
       "          0.11581671,  0.12161693],\n",
       "        [        nan,         nan,         nan, ...,  0.08899091,\n",
       "          0.12037775,  0.14244649],\n",
       "        [        nan,         nan,         nan, ...,  0.07669961,\n",
       "          0.11007446,  0.1398893 ]]], dtype=float32)</pre></div></li></ul></div></li><li class='xr-section-item'><input id='section-a641df26-36ef-4461-ac39-fbbfeb7142d1' class='xr-section-summary-in' type='checkbox' disabled ><label for='section-a641df26-36ef-4461-ac39-fbbfeb7142d1' class='xr-section-summary'  title='Expand/collapse section'>Attributes: <span>(0)</span></label><div class='xr-section-inline-details'></div><div class='xr-section-details'><dl class='xr-attrs'></dl></div></li></ul></div></div>"
      ],
      "text/plain": [
       "<xarray.Dataset>\n",
       "Dimensions:      (latitude: 48, longitude: 48, time: 92)\n",
       "Coordinates:\n",
       "  * time         (time) datetime64[ns] 2015-12-01 2015-12-02 ... 2016-03-01\n",
       "  * latitude     (latitude) float64 -0.9792 -0.9376 -0.8959 ... 0.9375 0.9792\n",
       "  * longitude    (longitude) float64 -0.9794 -0.9377 -0.896 ... 0.9375 0.9792\n",
       "Data variables:\n",
       "    sla          (time, latitude, longitude) float64 0.2257 0.2167 ... 0.08938\n",
       "    adt          (time, latitude, longitude) float64 0.8449 0.8344 ... -0.1146\n",
       "    sla_grad     (time, latitude, longitude) float64 0.0007315 ... 0.005626\n",
       "    sla_lap      (time, latitude, longitude) float64 0.05235 0.03063 ... 0.00502\n",
       "    time_julian  (time, latitude, longitude) float64 -1.0 -1.0 ... 0.9794 0.9794\n",
       "    pred         (time, latitude, longitude) float32 0.2071 0.1852 ... 0.1399"
      ]
     },
     "execution_count": 81,
     "metadata": {},
     "output_type": "execute_result"
    }
   ],
   "source": [
    "ds"
   ]
  },
  {
   "cell_type": "code",
   "execution_count": 82,
   "id": "1a39454b-e7b0-4ba0-b7fd-1e2814c2d811",
   "metadata": {},
   "outputs": [
    {
     "data": {
      "text/plain": [
       "(<xarray.DataArray 'pred' ()>\n",
       " array(-1.08446646),\n",
       " <xarray.DataArray 'pred' ()>\n",
       " array(1.01835299),\n",
       " <xarray.DataArray 'sla' ()>\n",
       " array(-1.001824),\n",
       " <xarray.DataArray 'sla' ()>\n",
       " array(0.921884))"
      ]
     },
     "execution_count": 82,
     "metadata": {},
     "output_type": "execute_result"
    }
   ],
   "source": [
    "ds.pred.min(), ds.pred.max(), ds.sla.min(), ds.sla.max()"
   ]
  },
  {
   "cell_type": "code",
   "execution_count": 83,
   "id": "0a6020ff-b66a-4782-8dd3-dad04e1f789d",
   "metadata": {},
   "outputs": [
    {
     "data": {},
     "metadata": {},
     "output_type": "display_data"
    },
    {
     "data": {
      "application/vnd.holoviews_exec.v0+json": "",
      "text/html": [
       "<div id='1002'>\n",
       "\n",
       "\n",
       "\n",
       "\n",
       "\n",
       "  <div class=\"bk-root\" id=\"92e648b0-51ad-4534-a429-57152c0146be\" data-root-id=\"1002\"></div>\n",
       "</div>\n",
       "<script type=\"application/javascript\">(function(root) {\n",
       "  function embed_document(root) {\n",
       "    var docs_json = {\"91705137-3d3a-4f13-9a9e-67a10cf8157b\":{\"defs\":[{\"extends\":null,\"module\":null,\"name\":\"ReactiveHTML1\",\"overrides\":[],\"properties\":[]},{\"extends\":null,\"module\":null,\"name\":\"FlexBox1\",\"overrides\":[],\"properties\":[{\"default\":\"flex-start\",\"kind\":null,\"name\":\"align_content\"},{\"default\":\"flex-start\",\"kind\":null,\"name\":\"align_items\"},{\"default\":\"row\",\"kind\":null,\"name\":\"flex_direction\"},{\"default\":\"wrap\",\"kind\":null,\"name\":\"flex_wrap\"},{\"default\":\"flex-start\",\"kind\":null,\"name\":\"justify_content\"}]},{\"extends\":null,\"module\":null,\"name\":\"GridStack1\",\"overrides\":[],\"properties\":[{\"default\":\"warn\",\"kind\":null,\"name\":\"mode\"},{\"default\":null,\"kind\":null,\"name\":\"ncols\"},{\"default\":null,\"kind\":null,\"name\":\"nrows\"},{\"default\":true,\"kind\":null,\"name\":\"allow_resize\"},{\"default\":true,\"kind\":null,\"name\":\"allow_drag\"},{\"default\":[],\"kind\":null,\"name\":\"state\"}]},{\"extends\":null,\"module\":null,\"name\":\"click1\",\"overrides\":[],\"properties\":[{\"default\":\"\",\"kind\":null,\"name\":\"terminal_output\"},{\"default\":\"\",\"kind\":null,\"name\":\"debug_name\"},{\"default\":0,\"kind\":null,\"name\":\"clears\"}]},{\"extends\":null,\"module\":null,\"name\":\"TemplateActions1\",\"overrides\":[],\"properties\":[{\"default\":0,\"kind\":null,\"name\":\"open_modal\"},{\"default\":0,\"kind\":null,\"name\":\"close_modal\"}]},{\"extends\":null,\"module\":null,\"name\":\"MaterialTemplateActions1\",\"overrides\":[],\"properties\":[{\"default\":0,\"kind\":null,\"name\":\"open_modal\"},{\"default\":0,\"kind\":null,\"name\":\"close_modal\"}]}],\"roots\":{\"references\":[{\"attributes\":{\"children\":[{\"id\":\"1003\"},{\"id\":\"1007\"},{\"id\":\"1087\"},{\"id\":\"1088\"}],\"margin\":[0,0,0,0],\"name\":\"Row01577\"},\"id\":\"1002\",\"type\":\"Row\"},{\"attributes\":{\"coordinates\":null,\"group\":null,\"text\":\"Ground Truth\",\"text_color\":\"black\",\"text_font_size\":\"12pt\"},\"id\":\"1008\",\"type\":\"Title\"},{\"attributes\":{},\"id\":\"1069\",\"type\":\"NoOverlap\"},{\"attributes\":{},\"id\":\"1073\",\"type\":\"UnionRenderers\"},{\"attributes\":{\"color_mapper\":{\"id\":\"1037\"},\"dh\":{\"field\":\"dh\"},\"dw\":{\"field\":\"dw\"},\"global_alpha\":{\"value\":0.1},\"image\":{\"field\":\"image\"},\"x\":{\"field\":\"x\"},\"y\":{\"field\":\"y\"}},\"id\":\"1043\",\"type\":\"Image\"},{\"attributes\":{\"axis_label\":\"latitude\",\"coordinates\":null,\"formatter\":{\"id\":\"1057\"},\"group\":null,\"major_label_policy\":{\"id\":\"1058\"},\"ticker\":{\"id\":\"1021\"}},\"id\":\"1020\",\"type\":\"LinearAxis\"},{\"attributes\":{\"color_mapper\":{\"id\":\"1037\"},\"dh\":{\"field\":\"dh\"},\"dw\":{\"field\":\"dw\"},\"global_alpha\":{\"value\":0.2},\"image\":{\"field\":\"image\"},\"x\":{\"field\":\"x\"},\"y\":{\"field\":\"y\"}},\"id\":\"1045\",\"type\":\"Image\"},{\"attributes\":{},\"id\":\"1058\",\"type\":\"AllLabels\"},{\"attributes\":{},\"id\":\"1021\",\"type\":\"BasicTicker\"},{\"attributes\":{\"margin\":[5,5,5,5],\"name\":\"HSpacer01593\",\"sizing_mode\":\"stretch_width\"},\"id\":\"1003\",\"type\":\"Spacer\"},{\"attributes\":{\"color_mapper\":{\"id\":\"1037\"},\"dh\":{\"field\":\"dh\"},\"dw\":{\"field\":\"dw\"},\"image\":{\"field\":\"image\"},\"x\":{\"field\":\"x\"},\"y\":{\"field\":\"y\"}},\"id\":\"1041\",\"type\":\"Image\"},{\"attributes\":{\"tools\":[{\"id\":\"1006\"},{\"id\":\"1024\"},{\"id\":\"1025\"},{\"id\":\"1026\"},{\"id\":\"1027\"},{\"id\":\"1028\"}]},\"id\":\"1030\",\"type\":\"Toolbar\"},{\"attributes\":{},\"id\":\"1049\",\"type\":\"BasicTicker\"},{\"attributes\":{\"bottom_units\":\"screen\",\"coordinates\":null,\"fill_alpha\":0.5,\"fill_color\":\"lightgrey\",\"group\":null,\"left_units\":\"screen\",\"level\":\"overlay\",\"line_alpha\":1.0,\"line_color\":\"black\",\"line_dash\":[4,4],\"line_width\":2,\"right_units\":\"screen\",\"syncable\":false,\"top_units\":\"screen\"},\"id\":\"1029\",\"type\":\"BoxAnnotation\"},{\"attributes\":{\"axis_label\":\"longitude\",\"coordinates\":null,\"formatter\":{\"id\":\"1054\"},\"group\":null,\"major_label_policy\":{\"id\":\"1055\"},\"ticker\":{\"id\":\"1017\"}},\"id\":\"1016\",\"type\":\"LinearAxis\"},{\"attributes\":{},\"id\":\"1024\",\"type\":\"SaveTool\"},{\"attributes\":{\"args\":{\"bidirectional\":false,\"properties\":{},\"source\":{\"id\":\"1093\"},\"target\":{\"id\":\"1092\"}},\"code\":\"try { \\n    var labels = ['time: <b>2015-12-01 00:00:00</b>', 'time: <b>2015-12-02 00:00:00</b>', 'time: <b>2015-12-03 00:00:00</b>', 'time: <b>2015-12-04 00:00:00</b>', 'time: <b>2015-12-05 00:00:00</b>', 'time: <b>2015-12-06 00:00:00</b>', 'time: <b>2015-12-07 00:00:00</b>', 'time: <b>2015-12-08 00:00:00</b>', 'time: <b>2015-12-09 00:00:00</b>', 'time: <b>2015-12-10 00:00:00</b>', 'time: <b>2015-12-11 00:00:00</b>', 'time: <b>2015-12-12 00:00:00</b>', 'time: <b>2015-12-13 00:00:00</b>', 'time: <b>2015-12-14 00:00:00</b>', 'time: <b>2015-12-15 00:00:00</b>', 'time: <b>2015-12-16 00:00:00</b>', 'time: <b>2015-12-17 00:00:00</b>', 'time: <b>2015-12-18 00:00:00</b>', 'time: <b>2015-12-19 00:00:00</b>', 'time: <b>2015-12-20 00:00:00</b>', 'time: <b>2015-12-21 00:00:00</b>', 'time: <b>2015-12-22 00:00:00</b>', 'time: <b>2015-12-23 00:00:00</b>', 'time: <b>2015-12-24 00:00:00</b>', 'time: <b>2015-12-25 00:00:00</b>', 'time: <b>2015-12-26 00:00:00</b>', 'time: <b>2015-12-27 00:00:00</b>', 'time: <b>2015-12-28 00:00:00</b>', 'time: <b>2015-12-29 00:00:00</b>', 'time: <b>2015-12-30 00:00:00</b>', 'time: <b>2015-12-31 00:00:00</b>', 'time: <b>2016-01-01 00:00:00</b>', 'time: <b>2016-01-02 00:00:00</b>', 'time: <b>2016-01-03 00:00:00</b>', 'time: <b>2016-01-04 00:00:00</b>', 'time: <b>2016-01-05 00:00:00</b>', 'time: <b>2016-01-06 00:00:00</b>', 'time: <b>2016-01-07 00:00:00</b>', 'time: <b>2016-01-08 00:00:00</b>', 'time: <b>2016-01-09 00:00:00</b>', 'time: <b>2016-01-10 00:00:00</b>', 'time: <b>2016-01-11 00:00:00</b>', 'time: <b>2016-01-12 00:00:00</b>', 'time: <b>2016-01-13 00:00:00</b>', 'time: <b>2016-01-14 00:00:00</b>', 'time: <b>2016-01-15 00:00:00</b>', 'time: <b>2016-01-16 00:00:00</b>', 'time: <b>2016-01-17 00:00:00</b>', 'time: <b>2016-01-18 00:00:00</b>', 'time: <b>2016-01-19 00:00:00</b>', 'time: <b>2016-01-20 00:00:00</b>', 'time: <b>2016-01-21 00:00:00</b>', 'time: <b>2016-01-22 00:00:00</b>', 'time: <b>2016-01-23 00:00:00</b>', 'time: <b>2016-01-24 00:00:00</b>', 'time: <b>2016-01-25 00:00:00</b>', 'time: <b>2016-01-26 00:00:00</b>', 'time: <b>2016-01-27 00:00:00</b>', 'time: <b>2016-01-28 00:00:00</b>', 'time: <b>2016-01-29 00:00:00</b>', 'time: <b>2016-01-30 00:00:00</b>', 'time: <b>2016-01-31 00:00:00</b>', 'time: <b>2016-02-01 00:00:00</b>', 'time: <b>2016-02-02 00:00:00</b>', 'time: <b>2016-02-03 00:00:00</b>', 'time: <b>2016-02-04 00:00:00</b>', 'time: <b>2016-02-05 00:00:00</b>', 'time: <b>2016-02-06 00:00:00</b>', 'time: <b>2016-02-07 00:00:00</b>', 'time: <b>2016-02-08 00:00:00</b>', 'time: <b>2016-02-09 00:00:00</b>', 'time: <b>2016-02-10 00:00:00</b>', 'time: <b>2016-02-11 00:00:00</b>', 'time: <b>2016-02-12 00:00:00</b>', 'time: <b>2016-02-13 00:00:00</b>', 'time: <b>2016-02-14 00:00:00</b>', 'time: <b>2016-02-15 00:00:00</b>', 'time: <b>2016-02-16 00:00:00</b>', 'time: <b>2016-02-17 00:00:00</b>', 'time: <b>2016-02-18 00:00:00</b>', 'time: <b>2016-02-19 00:00:00</b>', 'time: <b>2016-02-20 00:00:00</b>', 'time: <b>2016-02-21 00:00:00</b>', 'time: <b>2016-02-22 00:00:00</b>', 'time: <b>2016-02-23 00:00:00</b>', 'time: <b>2016-02-24 00:00:00</b>', 'time: <b>2016-02-25 00:00:00</b>', 'time: <b>2016-02-26 00:00:00</b>', 'time: <b>2016-02-27 00:00:00</b>', 'time: <b>2016-02-28 00:00:00</b>', 'time: <b>2016-02-29 00:00:00</b>', 'time: <b>2016-03-01 00:00:00</b>']\\n    target.text = labels[source.value]\\n     } catch(err) { console.log(err) }\",\"tags\":[[139639814808960,[null,\"value\"],[null,null]]]},\"id\":\"1106\",\"type\":\"CustomJS\"},{\"attributes\":{\"axis\":{\"id\":\"1016\"},\"coordinates\":null,\"grid_line_color\":null,\"group\":null,\"ticker\":null},\"id\":\"1019\",\"type\":\"Grid\"},{\"attributes\":{},\"id\":\"1014\",\"type\":\"LinearScale\"},{\"attributes\":{\"overlay\":{\"id\":\"1029\"}},\"id\":\"1027\",\"type\":\"BoxZoomTool\"},{\"attributes\":{\"children\":[{\"id\":\"1092\"},{\"id\":\"1093\"}],\"margin\":[0,0,0,0],\"min_width\":290,\"name\":\"Column01587\",\"width\":290},\"id\":\"1091\",\"type\":\"Column\"},{\"attributes\":{\"margin\":[5,5,5,5],\"name\":\"VSpacer01590\",\"sizing_mode\":\"stretch_height\"},\"id\":\"1089\",\"type\":\"Spacer\"},{\"attributes\":{\"margin\":[5,5,5,5],\"name\":\"HSpacer01594\",\"sizing_mode\":\"stretch_width\"},\"id\":\"1087\",\"type\":\"Spacer\"},{\"attributes\":{\"coordinates\":null,\"data_source\":{\"id\":\"1038\"},\"glyph\":{\"id\":\"1041\"},\"group\":null,\"hover_glyph\":null,\"muted_glyph\":{\"id\":\"1045\"},\"nonselection_glyph\":{\"id\":\"1043\"},\"selection_glyph\":{\"id\":\"1051\"},\"view\":{\"id\":\"1048\"}},\"id\":\"1047\",\"type\":\"GlyphRenderer\"},{\"attributes\":{\"margin\":[5,5,5,5],\"name\":\"VSpacer01591\",\"sizing_mode\":\"stretch_height\"},\"id\":\"1094\",\"type\":\"Spacer\"},{\"attributes\":{\"below\":[{\"id\":\"1016\"}],\"center\":[{\"id\":\"1019\"},{\"id\":\"1023\"}],\"height\":400,\"left\":[{\"id\":\"1020\"}],\"margin\":[5,5,5,5],\"min_border_bottom\":10,\"min_border_left\":10,\"min_border_right\":10,\"min_border_top\":10,\"renderers\":[{\"id\":\"1047\"}],\"right\":[{\"id\":\"1050\"}],\"sizing_mode\":\"fixed\",\"title\":{\"id\":\"1008\"},\"toolbar\":{\"id\":\"1030\"},\"width\":500,\"x_range\":{\"id\":\"1004\"},\"x_scale\":{\"id\":\"1012\"},\"y_range\":{\"id\":\"1005\"},\"y_scale\":{\"id\":\"1014\"}},\"id\":\"1007\",\"subtype\":\"Figure\",\"type\":\"Plot\"},{\"attributes\":{},\"id\":\"1026\",\"type\":\"WheelZoomTool\"},{\"attributes\":{\"end\":91,\"js_property_callbacks\":{\"change:value\":[{\"id\":\"1106\"}]},\"margin\":[0,20,20,20],\"min_width\":250,\"show_value\":false,\"start\":0,\"tooltips\":false,\"value\":0,\"width\":250},\"id\":\"1093\",\"type\":\"Slider\"},{\"attributes\":{\"end\":1.0000133347323745,\"reset_end\":1.0000133347323745,\"reset_start\":-1.0001965206182837,\"start\":-1.0001965206182837,\"tags\":[[[\"longitude\",\"longitude\",null]]]},\"id\":\"1004\",\"type\":\"Range1d\"},{\"attributes\":{},\"id\":\"1012\",\"type\":\"LinearScale\"},{\"attributes\":{\"axis\":{\"id\":\"1020\"},\"coordinates\":null,\"dimension\":1,\"grid_line_color\":null,\"group\":null,\"ticker\":null},\"id\":\"1023\",\"type\":\"Grid\"},{\"attributes\":{},\"id\":\"1054\",\"type\":\"BasicTickFormatter\"},{\"attributes\":{\"data\":{\"dh\":[2.000112839699372],\"dw\":[2.000209855350658],\"image\":[{\"__ndarray__\":\"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\",\"dtype\":\"float64\",\"order\":\"little\",\"shape\":[48,48]}],\"x\":[-1.0001965206182837],\"y\":[-1.00006350358266]},\"selected\":{\"id\":\"1039\"},\"selection_policy\":{\"id\":\"1073\"}},\"id\":\"1038\",\"type\":\"ColumnDataSource\"},{\"attributes\":{},\"id\":\"1017\",\"type\":\"BasicTicker\"},{\"attributes\":{\"color_mapper\":{\"id\":\"1037\"},\"dh\":{\"field\":\"dh\"},\"dw\":{\"field\":\"dw\"},\"global_alpha\":{\"value\":1.0},\"image\":{\"field\":\"image\"},\"x\":{\"field\":\"x\"},\"y\":{\"field\":\"y\"}},\"id\":\"1051\",\"type\":\"Image\"},{\"attributes\":{\"source\":{\"id\":\"1038\"}},\"id\":\"1048\",\"type\":\"CDSView\"},{\"attributes\":{},\"id\":\"1028\",\"type\":\"ResetTool\"},{\"attributes\":{\"end\":1.000049336116712,\"reset_end\":1.000049336116712,\"reset_start\":-1.00006350358266,\"start\":-1.00006350358266,\"tags\":[[[\"latitude\",\"latitude\",null]]]},\"id\":\"1005\",\"type\":\"Range1d\"},{\"attributes\":{\"bar_line_color\":\"black\",\"color_mapper\":{\"id\":\"1037\"},\"coordinates\":null,\"group\":null,\"label_standoff\":8,\"location\":[0,0],\"major_label_policy\":{\"id\":\"1069\"},\"major_tick_line_color\":\"black\",\"ticker\":{\"id\":\"1049\"}},\"id\":\"1050\",\"type\":\"ColorBar\"},{\"attributes\":{},\"id\":\"1055\",\"type\":\"AllLabels\"},{\"attributes\":{\"margin\":[20,0,0,20],\"name\":\"\",\"style\":{\"white-space\":\"nowrap\"},\"text\":\"time: <b>2015-12-01 00:00:00</b>\",\"width\":250},\"id\":\"1092\",\"type\":\"Div\"},{\"attributes\":{\"client_comm_id\":\"bcc0ad78a7554bff9f1d9127a9924026\",\"comm_id\":\"05c0d841d39047528d39dd50acab42af\",\"plot_id\":\"1002\"},\"id\":\"1129\",\"type\":\"panel.models.comm_manager.CommManager\"},{\"attributes\":{\"callback\":null,\"renderers\":[{\"id\":\"1047\"}],\"tags\":[\"hv_created\"],\"tooltips\":[[\"longitude\",\"$x\"],[\"latitude\",\"$y\"],[\"sla\",\"@image\"]]},\"id\":\"1006\",\"type\":\"HoverTool\"},{\"attributes\":{},\"id\":\"1057\",\"type\":\"BasicTickFormatter\"},{\"attributes\":{},\"id\":\"1025\",\"type\":\"PanTool\"},{\"attributes\":{\"children\":[{\"id\":\"1089\"},{\"id\":\"1090\"},{\"id\":\"1094\"}],\"margin\":[0,0,0,0],\"name\":\"Column01592\"},\"id\":\"1088\",\"type\":\"Column\"},{\"attributes\":{\"high\":0.9036599999999999,\"low\":-0.9036599999999999,\"nan_color\":\"rgba(0, 0, 0, 0)\",\"palette\":[\"#053061\",\"#063263\",\"#073466\",\"#083669\",\"#09386c\",\"#0a3a6f\",\"#0b3c72\",\"#0c3e75\",\"#0d4078\",\"#0e437b\",\"#0f457e\",\"#114781\",\"#124984\",\"#134b87\",\"#144d8a\",\"#154f8d\",\"#165190\",\"#175493\",\"#185695\",\"#195898\",\"#1a5a9b\",\"#1c5c9e\",\"#1d5ea1\",\"#1e60a4\",\"#1f62a7\",\"#2064aa\",\"#2166ac\",\"#2368ad\",\"#246aae\",\"#256caf\",\"#276db0\",\"#286fb0\",\"#2971b1\",\"#2b73b2\",\"#2c75b3\",\"#2d76b4\",\"#2f78b5\",\"#307ab6\",\"#317cb7\",\"#337db8\",\"#347fb9\",\"#3581b9\",\"#3783ba\",\"#3884bb\",\"#3986bc\",\"#3b88bd\",\"#3c8abe\",\"#3d8bbf\",\"#3f8dc0\",\"#408fc1\",\"#4191c2\",\"#4393c3\",\"#4694c4\",\"#4996c5\",\"#4c98c6\",\"#4f9ac7\",\"#529cc8\",\"#559ec9\",\"#58a0ca\",\"#5ba2cb\",\"#5ea4cc\",\"#61a6cd\",\"#65a8ce\",\"#68aacf\",\"#6bacd0\",\"#6eaed1\",\"#71b0d2\",\"#74b2d3\",\"#77b4d5\",\"#7ab6d6\",\"#7db8d7\",\"#80bad8\",\"#84bcd9\",\"#87beda\",\"#8ac0db\",\"#8dc2dc\",\"#90c4dd\",\"#93c5de\",\"#95c6df\",\"#98c8df\",\"#9ac9e0\",\"#9dcae1\",\"#9fcbe1\",\"#a2cde2\",\"#a4cee3\",\"#a7cfe4\",\"#a9d0e4\",\"#abd2e5\",\"#aed3e6\",\"#b0d4e6\",\"#b3d5e7\",\"#b5d7e8\",\"#b8d8e8\",\"#bad9e9\",\"#bddaea\",\"#bfdceb\",\"#c2ddeb\",\"#c4deec\",\"#c7dfed\",\"#c9e1ed\",\"#cce2ee\",\"#cee3ef\",\"#d1e5f0\",\"#d2e5f0\",\"#d3e6f0\",\"#d5e7f0\",\"#d6e7f1\",\"#d8e8f1\",\"#d9e9f1\",\"#dbe9f1\",\"#dceaf2\",\"#deebf2\",\"#dfecf2\",\"#e1ecf3\",\"#e2edf3\",\"#e4eef3\",\"#e5eef3\",\"#e7eff4\",\"#e8f0f4\",\"#eaf1f4\",\"#ebf1f4\",\"#edf2f5\",\"#eef3f5\",\"#f0f3f5\",\"#f1f4f6\",\"#f3f5f6\",\"#f4f5f6\",\"#f6f6f6\",\"#f7f6f6\",\"#f7f5f4\",\"#f7f4f2\",\"#f7f3f0\",\"#f8f2ee\",\"#f8f0ec\",\"#f8efea\",\"#f8eee8\",\"#f9ede7\",\"#f9ece5\",\"#f9ebe3\",\"#f9eae1\",\"#f9e9df\",\"#fae8dd\",\"#fae7db\",\"#fae5d9\",\"#fae4d7\",\"#fbe3d6\",\"#fbe2d4\",\"#fbe1d2\",\"#fbe0d0\",\"#fcdfce\",\"#fcdecc\",\"#fcddca\",\"#fcdcc8\",\"#fddbc7\",\"#fcd8c4\",\"#fcd6c1\",\"#fbd4be\",\"#fbd2bc\",\"#fbd0b9\",\"#faceb6\",\"#faccb4\",\"#facab1\",\"#f9c7ae\",\"#f9c5ab\",\"#f9c3a9\",\"#f8c1a6\",\"#f8bfa3\",\"#f8bda1\",\"#f7bb9e\",\"#f7b99b\",\"#f7b799\",\"#f6b496\",\"#f6b293\",\"#f5b090\",\"#f5ae8e\",\"#f5ac8b\",\"#f4aa88\",\"#f4a886\",\"#f4a683\",\"#f3a380\",\"#f2a07e\",\"#f19e7c\",\"#ef9b7a\",\"#ee9878\",\"#ed9676\",\"#ec9374\",\"#eb9072\",\"#ea8e70\",\"#e88b6e\",\"#e7886c\",\"#e6856a\",\"#e58368\",\"#e48065\",\"#e27d63\",\"#e17b61\",\"#e0785f\",\"#df755d\",\"#de725b\",\"#dd7059\",\"#db6d57\",\"#da6a55\",\"#d96853\",\"#d86551\",\"#d7624f\",\"#d6604d\",\"#d45d4b\",\"#d35a4a\",\"#d15749\",\"#d05447\",\"#ce5146\",\"#cd4f45\",\"#cc4c43\",\"#ca4942\",\"#c94641\",\"#c7433f\",\"#c6403e\",\"#c53e3c\",\"#c33b3b\",\"#c2383a\",\"#c03538\",\"#bf3237\",\"#be3036\",\"#bc2d34\",\"#bb2a33\",\"#b92732\",\"#b82431\",\"#b6212f\",\"#b51f2e\",\"#b41c2d\",\"#b2192b\",\"#b0172a\",\"#ad162a\",\"#aa1529\",\"#a71429\",\"#a41328\",\"#a11228\",\"#9e1127\",\"#9b1027\",\"#991027\",\"#960f26\",\"#930e26\",\"#900d25\",\"#8d0c25\",\"#8a0b24\",\"#870a24\",\"#840923\",\"#810823\",\"#7e0722\",\"#7b0622\",\"#780521\",\"#750421\",\"#720320\",\"#6f0220\",\"#6c011f\",\"#69001f\",\"#67001f\"]},\"id\":\"1037\",\"type\":\"LinearColorMapper\"},{\"attributes\":{\"children\":[{\"id\":\"1091\"}],\"css_classes\":[\"panel-widget-box\"],\"margin\":[5,5,5,5],\"name\":\"WidgetBox01578\"},\"id\":\"1090\",\"type\":\"Column\"},{\"attributes\":{},\"id\":\"1039\",\"type\":\"Selection\"}],\"root_ids\":[\"1002\",\"1129\"]},\"title\":\"Bokeh Application\",\"version\":\"2.4.2\"}};\n",
       "    var render_items = [{\"docid\":\"91705137-3d3a-4f13-9a9e-67a10cf8157b\",\"root_ids\":[\"1002\"],\"roots\":{\"1002\":\"92e648b0-51ad-4534-a429-57152c0146be\"}}];\n",
       "    root.Bokeh.embed.embed_items_notebook(docs_json, render_items);\n",
       "  }\n",
       "  if (root.Bokeh !== undefined && root.Bokeh.Panel !== undefined) {\n",
       "    embed_document(root);\n",
       "  } else {\n",
       "    var attempts = 0;\n",
       "    var timer = setInterval(function(root) {\n",
       "      if (root.Bokeh !== undefined && root.Bokeh.Panel !== undefined) {\n",
       "        clearInterval(timer);\n",
       "        embed_document(root);\n",
       "      } else if (document.readyState == \"complete\") {\n",
       "        attempts++;\n",
       "        if (attempts > 200) {\n",
       "          clearInterval(timer);\n",
       "          console.log(\"Bokeh: ERROR: Unable to run BokehJS code because BokehJS library is missing\");\n",
       "        }\n",
       "      }\n",
       "    }, 25, root)\n",
       "  }\n",
       "})(window);</script>"
      ],
      "text/plain": [
       ":DynamicMap   [time]\n",
       "   :Image   [longitude,latitude]   (sla)"
      ]
     },
     "execution_count": 83,
     "metadata": {
      "application/vnd.holoviews_exec.v0+json": {
       "id": "1002"
      }
     },
     "output_type": "execute_result"
    }
   ],
   "source": [
    "ds.sla.hvplot.image(x=\"longitude\", y=\"latitude\", width=500, height=400, cmap=\"RdBu_r\", title=\"Ground Truth\")"
   ]
  },
  {
   "cell_type": "code",
   "execution_count": 84,
   "id": "099667e2-0ba2-44cd-929c-c75369828cd5",
   "metadata": {},
   "outputs": [
    {
     "data": {},
     "metadata": {},
     "output_type": "display_data"
    },
    {
     "data": {
      "application/vnd.holoviews_exec.v0+json": "",
      "text/html": [
       "<div id='1185'>\n",
       "\n",
       "\n",
       "\n",
       "\n",
       "\n",
       "  <div class=\"bk-root\" id=\"737040a4-5804-4d65-8f08-6a84cdb4ea8d\" data-root-id=\"1185\"></div>\n",
       "</div>\n",
       "<script type=\"application/javascript\">(function(root) {\n",
       "  function embed_document(root) {\n",
       "    var docs_json = {\"14a0ea6c-0763-41cd-ba1f-c123e09e451f\":{\"defs\":[{\"extends\":null,\"module\":null,\"name\":\"ReactiveHTML1\",\"overrides\":[],\"properties\":[]},{\"extends\":null,\"module\":null,\"name\":\"FlexBox1\",\"overrides\":[],\"properties\":[{\"default\":\"flex-start\",\"kind\":null,\"name\":\"align_content\"},{\"default\":\"flex-start\",\"kind\":null,\"name\":\"align_items\"},{\"default\":\"row\",\"kind\":null,\"name\":\"flex_direction\"},{\"default\":\"wrap\",\"kind\":null,\"name\":\"flex_wrap\"},{\"default\":\"flex-start\",\"kind\":null,\"name\":\"justify_content\"}]},{\"extends\":null,\"module\":null,\"name\":\"GridStack1\",\"overrides\":[],\"properties\":[{\"default\":\"warn\",\"kind\":null,\"name\":\"mode\"},{\"default\":null,\"kind\":null,\"name\":\"ncols\"},{\"default\":null,\"kind\":null,\"name\":\"nrows\"},{\"default\":true,\"kind\":null,\"name\":\"allow_resize\"},{\"default\":true,\"kind\":null,\"name\":\"allow_drag\"},{\"default\":[],\"kind\":null,\"name\":\"state\"}]},{\"extends\":null,\"module\":null,\"name\":\"click1\",\"overrides\":[],\"properties\":[{\"default\":\"\",\"kind\":null,\"name\":\"terminal_output\"},{\"default\":\"\",\"kind\":null,\"name\":\"debug_name\"},{\"default\":0,\"kind\":null,\"name\":\"clears\"}]},{\"extends\":null,\"module\":null,\"name\":\"TemplateActions1\",\"overrides\":[],\"properties\":[{\"default\":0,\"kind\":null,\"name\":\"open_modal\"},{\"default\":0,\"kind\":null,\"name\":\"close_modal\"}]},{\"extends\":null,\"module\":null,\"name\":\"MaterialTemplateActions1\",\"overrides\":[],\"properties\":[{\"default\":0,\"kind\":null,\"name\":\"open_modal\"},{\"default\":0,\"kind\":null,\"name\":\"close_modal\"}]}],\"roots\":{\"references\":[{\"attributes\":{\"children\":[{\"id\":\"1186\"},{\"id\":\"1190\"},{\"id\":\"1270\"},{\"id\":\"1271\"}],\"margin\":[0,0,0,0],\"name\":\"Row01852\"},\"id\":\"1185\",\"type\":\"Row\"},{\"attributes\":{\"coordinates\":null,\"data_source\":{\"id\":\"1221\"},\"glyph\":{\"id\":\"1224\"},\"group\":null,\"hover_glyph\":null,\"muted_glyph\":{\"id\":\"1228\"},\"nonselection_glyph\":{\"id\":\"1226\"},\"selection_glyph\":{\"id\":\"1234\"},\"view\":{\"id\":\"1231\"}},\"id\":\"1230\",\"type\":\"GlyphRenderer\"},{\"attributes\":{\"margin\":[5,5,5,5],\"name\":\"HSpacer01869\",\"sizing_mode\":\"stretch_width\"},\"id\":\"1270\",\"type\":\"Spacer\"},{\"attributes\":{\"coordinates\":null,\"group\":null,\"text\":\"Predictions\",\"text_color\":\"black\",\"text_font_size\":\"12pt\"},\"id\":\"1191\",\"type\":\"Title\"},{\"attributes\":{},\"id\":\"1208\",\"type\":\"PanTool\"},{\"attributes\":{\"overlay\":{\"id\":\"1212\"}},\"id\":\"1210\",\"type\":\"BoxZoomTool\"},{\"attributes\":{},\"id\":\"1209\",\"type\":\"WheelZoomTool\"},{\"attributes\":{},\"id\":\"1211\",\"type\":\"ResetTool\"},{\"attributes\":{\"below\":[{\"id\":\"1199\"}],\"center\":[{\"id\":\"1202\"},{\"id\":\"1206\"}],\"height\":400,\"left\":[{\"id\":\"1203\"}],\"margin\":[5,5,5,5],\"min_border_bottom\":10,\"min_border_left\":10,\"min_border_right\":10,\"min_border_top\":10,\"renderers\":[{\"id\":\"1230\"}],\"right\":[{\"id\":\"1233\"}],\"sizing_mode\":\"fixed\",\"title\":{\"id\":\"1191\"},\"toolbar\":{\"id\":\"1213\"},\"width\":500,\"x_range\":{\"id\":\"1187\"},\"x_scale\":{\"id\":\"1195\"},\"y_range\":{\"id\":\"1188\"},\"y_scale\":{\"id\":\"1197\"}},\"id\":\"1190\",\"subtype\":\"Figure\",\"type\":\"Plot\"},{\"attributes\":{\"margin\":[20,0,0,20],\"name\":\"\",\"style\":{\"white-space\":\"nowrap\"},\"text\":\"time: <b>2015-12-01 00:00:00</b>\",\"width\":250},\"id\":\"1275\",\"type\":\"Div\"},{\"attributes\":{},\"id\":\"1197\",\"type\":\"LinearScale\"},{\"attributes\":{\"bottom_units\":\"screen\",\"coordinates\":null,\"fill_alpha\":0.5,\"fill_color\":\"lightgrey\",\"group\":null,\"left_units\":\"screen\",\"level\":\"overlay\",\"line_alpha\":1.0,\"line_color\":\"black\",\"line_dash\":[4,4],\"line_width\":2,\"right_units\":\"screen\",\"syncable\":false,\"top_units\":\"screen\"},\"id\":\"1212\",\"type\":\"BoxAnnotation\"},{\"attributes\":{\"axis_label\":\"longitude\",\"coordinates\":null,\"formatter\":{\"id\":\"1237\"},\"group\":null,\"major_label_policy\":{\"id\":\"1238\"},\"ticker\":{\"id\":\"1200\"}},\"id\":\"1199\",\"type\":\"LinearAxis\"},{\"attributes\":{\"source\":{\"id\":\"1221\"}},\"id\":\"1231\",\"type\":\"CDSView\"},{\"attributes\":{\"end\":91,\"js_property_callbacks\":{\"change:value\":[{\"id\":\"1289\"}]},\"margin\":[0,20,20,20],\"min_width\":250,\"show_value\":false,\"start\":0,\"tooltips\":false,\"value\":0,\"width\":250},\"id\":\"1276\",\"type\":\"Slider\"},{\"attributes\":{},\"id\":\"1207\",\"type\":\"SaveTool\"},{\"attributes\":{\"args\":{\"bidirectional\":false,\"properties\":{},\"source\":{\"id\":\"1276\"},\"target\":{\"id\":\"1275\"}},\"code\":\"try { \\n    var labels = ['time: <b>2015-12-01 00:00:00</b>', 'time: <b>2015-12-02 00:00:00</b>', 'time: <b>2015-12-03 00:00:00</b>', 'time: <b>2015-12-04 00:00:00</b>', 'time: <b>2015-12-05 00:00:00</b>', 'time: <b>2015-12-06 00:00:00</b>', 'time: <b>2015-12-07 00:00:00</b>', 'time: <b>2015-12-08 00:00:00</b>', 'time: <b>2015-12-09 00:00:00</b>', 'time: <b>2015-12-10 00:00:00</b>', 'time: <b>2015-12-11 00:00:00</b>', 'time: <b>2015-12-12 00:00:00</b>', 'time: <b>2015-12-13 00:00:00</b>', 'time: <b>2015-12-14 00:00:00</b>', 'time: <b>2015-12-15 00:00:00</b>', 'time: <b>2015-12-16 00:00:00</b>', 'time: <b>2015-12-17 00:00:00</b>', 'time: <b>2015-12-18 00:00:00</b>', 'time: <b>2015-12-19 00:00:00</b>', 'time: <b>2015-12-20 00:00:00</b>', 'time: <b>2015-12-21 00:00:00</b>', 'time: <b>2015-12-22 00:00:00</b>', 'time: <b>2015-12-23 00:00:00</b>', 'time: <b>2015-12-24 00:00:00</b>', 'time: <b>2015-12-25 00:00:00</b>', 'time: <b>2015-12-26 00:00:00</b>', 'time: <b>2015-12-27 00:00:00</b>', 'time: <b>2015-12-28 00:00:00</b>', 'time: <b>2015-12-29 00:00:00</b>', 'time: <b>2015-12-30 00:00:00</b>', 'time: <b>2015-12-31 00:00:00</b>', 'time: <b>2016-01-01 00:00:00</b>', 'time: <b>2016-01-02 00:00:00</b>', 'time: <b>2016-01-03 00:00:00</b>', 'time: <b>2016-01-04 00:00:00</b>', 'time: <b>2016-01-05 00:00:00</b>', 'time: <b>2016-01-06 00:00:00</b>', 'time: <b>2016-01-07 00:00:00</b>', 'time: <b>2016-01-08 00:00:00</b>', 'time: <b>2016-01-09 00:00:00</b>', 'time: <b>2016-01-10 00:00:00</b>', 'time: <b>2016-01-11 00:00:00</b>', 'time: <b>2016-01-12 00:00:00</b>', 'time: <b>2016-01-13 00:00:00</b>', 'time: <b>2016-01-14 00:00:00</b>', 'time: <b>2016-01-15 00:00:00</b>', 'time: <b>2016-01-16 00:00:00</b>', 'time: <b>2016-01-17 00:00:00</b>', 'time: <b>2016-01-18 00:00:00</b>', 'time: <b>2016-01-19 00:00:00</b>', 'time: <b>2016-01-20 00:00:00</b>', 'time: <b>2016-01-21 00:00:00</b>', 'time: <b>2016-01-22 00:00:00</b>', 'time: <b>2016-01-23 00:00:00</b>', 'time: <b>2016-01-24 00:00:00</b>', 'time: <b>2016-01-25 00:00:00</b>', 'time: <b>2016-01-26 00:00:00</b>', 'time: <b>2016-01-27 00:00:00</b>', 'time: <b>2016-01-28 00:00:00</b>', 'time: <b>2016-01-29 00:00:00</b>', 'time: <b>2016-01-30 00:00:00</b>', 'time: <b>2016-01-31 00:00:00</b>', 'time: <b>2016-02-01 00:00:00</b>', 'time: <b>2016-02-02 00:00:00</b>', 'time: <b>2016-02-03 00:00:00</b>', 'time: <b>2016-02-04 00:00:00</b>', 'time: <b>2016-02-05 00:00:00</b>', 'time: <b>2016-02-06 00:00:00</b>', 'time: <b>2016-02-07 00:00:00</b>', 'time: <b>2016-02-08 00:00:00</b>', 'time: <b>2016-02-09 00:00:00</b>', 'time: <b>2016-02-10 00:00:00</b>', 'time: <b>2016-02-11 00:00:00</b>', 'time: <b>2016-02-12 00:00:00</b>', 'time: <b>2016-02-13 00:00:00</b>', 'time: <b>2016-02-14 00:00:00</b>', 'time: <b>2016-02-15 00:00:00</b>', 'time: <b>2016-02-16 00:00:00</b>', 'time: <b>2016-02-17 00:00:00</b>', 'time: <b>2016-02-18 00:00:00</b>', 'time: <b>2016-02-19 00:00:00</b>', 'time: <b>2016-02-20 00:00:00</b>', 'time: <b>2016-02-21 00:00:00</b>', 'time: <b>2016-02-22 00:00:00</b>', 'time: <b>2016-02-23 00:00:00</b>', 'time: <b>2016-02-24 00:00:00</b>', 'time: <b>2016-02-25 00:00:00</b>', 'time: <b>2016-02-26 00:00:00</b>', 'time: <b>2016-02-27 00:00:00</b>', 'time: <b>2016-02-28 00:00:00</b>', 'time: <b>2016-02-29 00:00:00</b>', 'time: <b>2016-03-01 00:00:00</b>']\\n    target.text = labels[source.value]\\n     } catch(err) { console.log(err) }\",\"tags\":[[139639626076896,[null,\"value\"],[null,null]]]},\"id\":\"1289\",\"type\":\"CustomJS\"},{\"attributes\":{\"end\":1.0000133347323745,\"reset_end\":1.0000133347323745,\"reset_start\":-1.0001965206182837,\"start\":-1.0001965206182837,\"tags\":[[[\"longitude\",\"longitude\",null]]]},\"id\":\"1187\",\"type\":\"Range1d\"},{\"attributes\":{},\"id\":\"1241\",\"type\":\"AllLabels\"},{\"attributes\":{},\"id\":\"1222\",\"type\":\"Selection\"},{\"attributes\":{},\"id\":\"1200\",\"type\":\"BasicTicker\"},{\"attributes\":{\"children\":[{\"id\":\"1274\"}],\"css_classes\":[\"panel-widget-box\"],\"margin\":[5,5,5,5],\"name\":\"WidgetBox01853\"},\"id\":\"1273\",\"type\":\"Column\"},{\"attributes\":{\"margin\":[5,5,5,5],\"name\":\"VSpacer01865\",\"sizing_mode\":\"stretch_height\"},\"id\":\"1272\",\"type\":\"Spacer\"},{\"attributes\":{},\"id\":\"1204\",\"type\":\"BasicTicker\"},{\"attributes\":{},\"id\":\"1238\",\"type\":\"AllLabels\"},{\"attributes\":{\"axis\":{\"id\":\"1199\"},\"coordinates\":null,\"grid_line_color\":null,\"group\":null,\"ticker\":null},\"id\":\"1202\",\"type\":\"Grid\"},{\"attributes\":{\"tools\":[{\"id\":\"1189\"},{\"id\":\"1207\"},{\"id\":\"1208\"},{\"id\":\"1209\"},{\"id\":\"1210\"},{\"id\":\"1211\"}]},\"id\":\"1213\",\"type\":\"Toolbar\"},{\"attributes\":{\"data\":{\"dh\":[2.000112839699372],\"dw\":[2.000209855350658],\"image\":[{\"__ndarray__\":\"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\",\"dtype\":\"float32\",\"order\":\"little\",\"shape\":[48,48]}],\"x\":[-1.0001965206182837],\"y\":[-1.00006350358266]},\"selected\":{\"id\":\"1222\"},\"selection_policy\":{\"id\":\"1256\"}},\"id\":\"1221\",\"type\":\"ColumnDataSource\"},{\"attributes\":{\"client_comm_id\":\"361fb364733e4577ba33986108e075d2\",\"comm_id\":\"1c63364b4d654eba8da311a7adccba96\",\"plot_id\":\"1185\"},\"id\":\"1312\",\"type\":\"panel.models.comm_manager.CommManager\"},{\"attributes\":{\"margin\":[5,5,5,5],\"name\":\"HSpacer01868\",\"sizing_mode\":\"stretch_width\"},\"id\":\"1186\",\"type\":\"Spacer\"},{\"attributes\":{\"axis\":{\"id\":\"1203\"},\"coordinates\":null,\"dimension\":1,\"grid_line_color\":null,\"group\":null,\"ticker\":null},\"id\":\"1206\",\"type\":\"Grid\"},{\"attributes\":{\"color_mapper\":{\"id\":\"1220\"},\"dh\":{\"field\":\"dh\"},\"dw\":{\"field\":\"dw\"},\"image\":{\"field\":\"image\"},\"x\":{\"field\":\"x\"},\"y\":{\"field\":\"y\"}},\"id\":\"1224\",\"type\":\"Image\"},{\"attributes\":{},\"id\":\"1232\",\"type\":\"BasicTicker\"},{\"attributes\":{},\"id\":\"1240\",\"type\":\"BasicTickFormatter\"},{\"attributes\":{\"high\":0.8836816549301147,\"low\":-0.8836816549301147,\"nan_color\":\"rgba(0, 0, 0, 0)\",\"palette\":[\"#053061\",\"#063263\",\"#073466\",\"#083669\",\"#09386c\",\"#0a3a6f\",\"#0b3c72\",\"#0c3e75\",\"#0d4078\",\"#0e437b\",\"#0f457e\",\"#114781\",\"#124984\",\"#134b87\",\"#144d8a\",\"#154f8d\",\"#165190\",\"#175493\",\"#185695\",\"#195898\",\"#1a5a9b\",\"#1c5c9e\",\"#1d5ea1\",\"#1e60a4\",\"#1f62a7\",\"#2064aa\",\"#2166ac\",\"#2368ad\",\"#246aae\",\"#256caf\",\"#276db0\",\"#286fb0\",\"#2971b1\",\"#2b73b2\",\"#2c75b3\",\"#2d76b4\",\"#2f78b5\",\"#307ab6\",\"#317cb7\",\"#337db8\",\"#347fb9\",\"#3581b9\",\"#3783ba\",\"#3884bb\",\"#3986bc\",\"#3b88bd\",\"#3c8abe\",\"#3d8bbf\",\"#3f8dc0\",\"#408fc1\",\"#4191c2\",\"#4393c3\",\"#4694c4\",\"#4996c5\",\"#4c98c6\",\"#4f9ac7\",\"#529cc8\",\"#559ec9\",\"#58a0ca\",\"#5ba2cb\",\"#5ea4cc\",\"#61a6cd\",\"#65a8ce\",\"#68aacf\",\"#6bacd0\",\"#6eaed1\",\"#71b0d2\",\"#74b2d3\",\"#77b4d5\",\"#7ab6d6\",\"#7db8d7\",\"#80bad8\",\"#84bcd9\",\"#87beda\",\"#8ac0db\",\"#8dc2dc\",\"#90c4dd\",\"#93c5de\",\"#95c6df\",\"#98c8df\",\"#9ac9e0\",\"#9dcae1\",\"#9fcbe1\",\"#a2cde2\",\"#a4cee3\",\"#a7cfe4\",\"#a9d0e4\",\"#abd2e5\",\"#aed3e6\",\"#b0d4e6\",\"#b3d5e7\",\"#b5d7e8\",\"#b8d8e8\",\"#bad9e9\",\"#bddaea\",\"#bfdceb\",\"#c2ddeb\",\"#c4deec\",\"#c7dfed\",\"#c9e1ed\",\"#cce2ee\",\"#cee3ef\",\"#d1e5f0\",\"#d2e5f0\",\"#d3e6f0\",\"#d5e7f0\",\"#d6e7f1\",\"#d8e8f1\",\"#d9e9f1\",\"#dbe9f1\",\"#dceaf2\",\"#deebf2\",\"#dfecf2\",\"#e1ecf3\",\"#e2edf3\",\"#e4eef3\",\"#e5eef3\",\"#e7eff4\",\"#e8f0f4\",\"#eaf1f4\",\"#ebf1f4\",\"#edf2f5\",\"#eef3f5\",\"#f0f3f5\",\"#f1f4f6\",\"#f3f5f6\",\"#f4f5f6\",\"#f6f6f6\",\"#f7f6f6\",\"#f7f5f4\",\"#f7f4f2\",\"#f7f3f0\",\"#f8f2ee\",\"#f8f0ec\",\"#f8efea\",\"#f8eee8\",\"#f9ede7\",\"#f9ece5\",\"#f9ebe3\",\"#f9eae1\",\"#f9e9df\",\"#fae8dd\",\"#fae7db\",\"#fae5d9\",\"#fae4d7\",\"#fbe3d6\",\"#fbe2d4\",\"#fbe1d2\",\"#fbe0d0\",\"#fcdfce\",\"#fcdecc\",\"#fcddca\",\"#fcdcc8\",\"#fddbc7\",\"#fcd8c4\",\"#fcd6c1\",\"#fbd4be\",\"#fbd2bc\",\"#fbd0b9\",\"#faceb6\",\"#faccb4\",\"#facab1\",\"#f9c7ae\",\"#f9c5ab\",\"#f9c3a9\",\"#f8c1a6\",\"#f8bfa3\",\"#f8bda1\",\"#f7bb9e\",\"#f7b99b\",\"#f7b799\",\"#f6b496\",\"#f6b293\",\"#f5b090\",\"#f5ae8e\",\"#f5ac8b\",\"#f4aa88\",\"#f4a886\",\"#f4a683\",\"#f3a380\",\"#f2a07e\",\"#f19e7c\",\"#ef9b7a\",\"#ee9878\",\"#ed9676\",\"#ec9374\",\"#eb9072\",\"#ea8e70\",\"#e88b6e\",\"#e7886c\",\"#e6856a\",\"#e58368\",\"#e48065\",\"#e27d63\",\"#e17b61\",\"#e0785f\",\"#df755d\",\"#de725b\",\"#dd7059\",\"#db6d57\",\"#da6a55\",\"#d96853\",\"#d86551\",\"#d7624f\",\"#d6604d\",\"#d45d4b\",\"#d35a4a\",\"#d15749\",\"#d05447\",\"#ce5146\",\"#cd4f45\",\"#cc4c43\",\"#ca4942\",\"#c94641\",\"#c7433f\",\"#c6403e\",\"#c53e3c\",\"#c33b3b\",\"#c2383a\",\"#c03538\",\"#bf3237\",\"#be3036\",\"#bc2d34\",\"#bb2a33\",\"#b92732\",\"#b82431\",\"#b6212f\",\"#b51f2e\",\"#b41c2d\",\"#b2192b\",\"#b0172a\",\"#ad162a\",\"#aa1529\",\"#a71429\",\"#a41328\",\"#a11228\",\"#9e1127\",\"#9b1027\",\"#991027\",\"#960f26\",\"#930e26\",\"#900d25\",\"#8d0c25\",\"#8a0b24\",\"#870a24\",\"#840923\",\"#810823\",\"#7e0722\",\"#7b0622\",\"#780521\",\"#750421\",\"#720320\",\"#6f0220\",\"#6c011f\",\"#69001f\",\"#67001f\"]},\"id\":\"1220\",\"type\":\"LinearColorMapper\"},{\"attributes\":{\"end\":1.000049336116712,\"reset_end\":1.000049336116712,\"reset_start\":-1.00006350358266,\"start\":-1.00006350358266,\"tags\":[[[\"latitude\",\"latitude\",null]]]},\"id\":\"1188\",\"type\":\"Range1d\"},{\"attributes\":{\"color_mapper\":{\"id\":\"1220\"},\"dh\":{\"field\":\"dh\"},\"dw\":{\"field\":\"dw\"},\"global_alpha\":{\"value\":1.0},\"image\":{\"field\":\"image\"},\"x\":{\"field\":\"x\"},\"y\":{\"field\":\"y\"}},\"id\":\"1234\",\"type\":\"Image\"},{\"attributes\":{},\"id\":\"1252\",\"type\":\"NoOverlap\"},{\"attributes\":{\"axis_label\":\"latitude\",\"coordinates\":null,\"formatter\":{\"id\":\"1240\"},\"group\":null,\"major_label_policy\":{\"id\":\"1241\"},\"ticker\":{\"id\":\"1204\"}},\"id\":\"1203\",\"type\":\"LinearAxis\"},{\"attributes\":{\"margin\":[5,5,5,5],\"name\":\"VSpacer01866\",\"sizing_mode\":\"stretch_height\"},\"id\":\"1277\",\"type\":\"Spacer\"},{\"attributes\":{},\"id\":\"1237\",\"type\":\"BasicTickFormatter\"},{\"attributes\":{\"color_mapper\":{\"id\":\"1220\"},\"dh\":{\"field\":\"dh\"},\"dw\":{\"field\":\"dw\"},\"global_alpha\":{\"value\":0.1},\"image\":{\"field\":\"image\"},\"x\":{\"field\":\"x\"},\"y\":{\"field\":\"y\"}},\"id\":\"1226\",\"type\":\"Image\"},{\"attributes\":{\"children\":[{\"id\":\"1275\"},{\"id\":\"1276\"}],\"margin\":[0,0,0,0],\"min_width\":290,\"name\":\"Column01862\",\"width\":290},\"id\":\"1274\",\"type\":\"Column\"},{\"attributes\":{\"callback\":null,\"renderers\":[{\"id\":\"1230\"}],\"tags\":[\"hv_created\"],\"tooltips\":[[\"longitude\",\"$x\"],[\"latitude\",\"$y\"],[\"pred\",\"@image\"]]},\"id\":\"1189\",\"type\":\"HoverTool\"},{\"attributes\":{\"bar_line_color\":\"black\",\"color_mapper\":{\"id\":\"1220\"},\"coordinates\":null,\"group\":null,\"label_standoff\":8,\"location\":[0,0],\"major_label_policy\":{\"id\":\"1252\"},\"major_tick_line_color\":\"black\",\"ticker\":{\"id\":\"1232\"}},\"id\":\"1233\",\"type\":\"ColorBar\"},{\"attributes\":{\"children\":[{\"id\":\"1272\"},{\"id\":\"1273\"},{\"id\":\"1277\"}],\"margin\":[0,0,0,0],\"name\":\"Column01867\"},\"id\":\"1271\",\"type\":\"Column\"},{\"attributes\":{},\"id\":\"1195\",\"type\":\"LinearScale\"},{\"attributes\":{\"color_mapper\":{\"id\":\"1220\"},\"dh\":{\"field\":\"dh\"},\"dw\":{\"field\":\"dw\"},\"global_alpha\":{\"value\":0.2},\"image\":{\"field\":\"image\"},\"x\":{\"field\":\"x\"},\"y\":{\"field\":\"y\"}},\"id\":\"1228\",\"type\":\"Image\"},{\"attributes\":{},\"id\":\"1256\",\"type\":\"UnionRenderers\"}],\"root_ids\":[\"1185\",\"1312\"]},\"title\":\"Bokeh Application\",\"version\":\"2.4.2\"}};\n",
       "    var render_items = [{\"docid\":\"14a0ea6c-0763-41cd-ba1f-c123e09e451f\",\"root_ids\":[\"1185\"],\"roots\":{\"1185\":\"737040a4-5804-4d65-8f08-6a84cdb4ea8d\"}}];\n",
       "    root.Bokeh.embed.embed_items_notebook(docs_json, render_items);\n",
       "  }\n",
       "  if (root.Bokeh !== undefined && root.Bokeh.Panel !== undefined) {\n",
       "    embed_document(root);\n",
       "  } else {\n",
       "    var attempts = 0;\n",
       "    var timer = setInterval(function(root) {\n",
       "      if (root.Bokeh !== undefined && root.Bokeh.Panel !== undefined) {\n",
       "        clearInterval(timer);\n",
       "        embed_document(root);\n",
       "      } else if (document.readyState == \"complete\") {\n",
       "        attempts++;\n",
       "        if (attempts > 200) {\n",
       "          clearInterval(timer);\n",
       "          console.log(\"Bokeh: ERROR: Unable to run BokehJS code because BokehJS library is missing\");\n",
       "        }\n",
       "      }\n",
       "    }, 25, root)\n",
       "  }\n",
       "})(window);</script>"
      ],
      "text/plain": [
       ":DynamicMap   [time]\n",
       "   :Image   [longitude,latitude]   (pred)"
      ]
     },
     "execution_count": 84,
     "metadata": {
      "application/vnd.holoviews_exec.v0+json": {
       "id": "1185"
      }
     },
     "output_type": "execute_result"
    }
   ],
   "source": [
    "ds.pred.hvplot.image(x=\"longitude\", y=\"latitude\", width=500, height=400, cmap=\"RdBu_r\", title=\"Predictions\")"
   ]
  },
  {
   "cell_type": "markdown",
   "id": "d65c576d-fed4-45ed-8281-0548f7b16ff3",
   "metadata": {
    "tags": []
   },
   "source": [
    "## Fields"
   ]
  },
  {
   "cell_type": "code",
   "execution_count": 85,
   "id": "7489cdd7-27e0-40a3-a6eb-28fba3b96dc4",
   "metadata": {},
   "outputs": [],
   "source": [
    "from src.viz import create_movie"
   ]
  },
  {
   "cell_type": "code",
   "execution_count": 86,
   "id": "238f9c06-eaba-47cd-a190-acc3cfd89172",
   "metadata": {},
   "outputs": [],
   "source": [
    "# ds.p.hvplot.image(x=\"Nx\", y=\"Ny\", width=500, height=400, cmap=\"RdBu_r\", title=\"Ground Truth\")"
   ]
  },
  {
   "cell_type": "code",
   "execution_count": 87,
   "id": "71bc3a23-bc60-4af0-b883-4accafa1b1cc",
   "metadata": {},
   "outputs": [
    {
     "name": "stderr",
     "output_type": "stream",
     "text": [
      "/home/johnsonj/miniconda3/envs/jax_cpu_py39/lib/python3.9/site-packages/xmovie/core.py:46: UserWarning: No `vmin` provided. Data limits are calculated from input. Depending on the input this can take long. Pass `vmin` to avoid this step\n",
      "  warnings.warn(\n",
      "/home/johnsonj/miniconda3/envs/jax_cpu_py39/lib/python3.9/site-packages/xmovie/core.py:53: UserWarning: No `vmax` provided. Data limits are calculated from input. Depending on the input this can take long. Pass `vmax` to avoid this step\n",
      "  warnings.warn(\n"
     ]
    },
    {
     "data": {
      "application/vnd.jupyter.widget-view+json": {
       "model_id": "72d801657a3548ba8ed8c87334bda7cb",
       "version_major": 2,
       "version_minor": 0
      },
      "text/plain": [
       "  0%|          | 0/92 [00:00<?, ?it/s]"
      ]
     },
     "metadata": {},
     "output_type": "display_data"
    },
    {
     "name": "stdout",
     "output_type": "stream",
     "text": [
      "Movie created at movie_truth.mp4\n",
      "GIF created at plots/movie_truth.gif\n"
     ]
    },
    {
     "name": "stderr",
     "output_type": "stream",
     "text": [
      "/home/johnsonj/miniconda3/envs/jax_cpu_py39/lib/python3.9/site-packages/xmovie/core.py:46: UserWarning: No `vmin` provided. Data limits are calculated from input. Depending on the input this can take long. Pass `vmin` to avoid this step\n",
      "  warnings.warn(\n",
      "/home/johnsonj/miniconda3/envs/jax_cpu_py39/lib/python3.9/site-packages/xmovie/core.py:53: UserWarning: No `vmax` provided. Data limits are calculated from input. Depending on the input this can take long. Pass `vmax` to avoid this step\n",
      "  warnings.warn(\n"
     ]
    },
    {
     "data": {
      "application/vnd.jupyter.widget-view+json": {
       "model_id": "3096d3f6e1c44a668e25dc0dfd4cba23",
       "version_major": 2,
       "version_minor": 0
      },
      "text/plain": [
       "  0%|          | 0/92 [00:00<?, ?it/s]"
      ]
     },
     "metadata": {},
     "output_type": "display_data"
    },
    {
     "name": "stdout",
     "output_type": "stream",
     "text": [
      "Movie created at movie_pred.mp4\n",
      "GIF created at plots/movie_pred.gif\n"
     ]
    }
   ],
   "source": [
    "create_movie(ds.sla, \"truth\", \"time\")\n",
    "create_movie(ds.pred, \"pred\", \"time\")"
   ]
  },
  {
   "cell_type": "code",
   "execution_count": 88,
   "id": "5bd10a5b-69de-4584-88e5-68154d643820",
   "metadata": {},
   "outputs": [],
   "source": [
    "# ds.pred.hvplot.image(x=\"Nx\", y=\"Ny\", width=500, height=400, cmap=\"RdBu_r\", title=\"Predictions\")"
   ]
  },
  {
   "cell_type": "code",
   "execution_count": 89,
   "id": "ffca16d7-31e3-4b6b-854e-f4a043effbad",
   "metadata": {},
   "outputs": [],
   "source": [
    "wandb.log(\n",
    "    {\n",
    "        \"ground_truth\": wandb.Image(\"plots/movie_truth.gif\"),\n",
    "        \"predictions\": wandb.Image(\"plots/movie_pred.gif\"),\n",
    "    }\n",
    ")"
   ]
  },
  {
   "cell_type": "markdown",
   "id": "228eafcb-41c9-492a-94f1-d57e5da72fd6",
   "metadata": {},
   "source": [
    "|**Ground Truth**| **Predictions** |\n",
    "|:---:|:---|\n",
    "| ![](plots/movie_truth.gif) | ![](plots/movie_pred.gif) |"
   ]
  },
  {
   "cell_type": "markdown",
   "id": "7ffde46f-f939-452f-87ef-440e9b31687b",
   "metadata": {},
   "source": [
    "### Calculate Gradients"
   ]
  },
  {
   "cell_type": "code",
   "execution_count": 90,
   "id": "4c1919f5-4d35-4a1c-9392-1e76d31b1b50",
   "metadata": {},
   "outputs": [],
   "source": [
    "ds[\"sla_grad\"] = calculate_gradient(ds[\"sla\"], \"longitude\", \"latitude\")\n",
    "ds[\"pred_grad\"] = calculate_gradient(ds[\"pred\"], \"longitude\", \"latitude\")"
   ]
  },
  {
   "cell_type": "code",
   "execution_count": 91,
   "id": "863db370-569b-4a2a-bee0-6d9deb9c0472",
   "metadata": {},
   "outputs": [],
   "source": [
    "# ds.sla_grad.hvplot.image(x=\"longitude\", y=\"latitude\", width=500, height=400, cmap=\"RdBu_r\", title=\"Predictions\")"
   ]
  },
  {
   "cell_type": "code",
   "execution_count": 92,
   "id": "83c321e9-68bc-4f00-9654-60320a4a1a9b",
   "metadata": {},
   "outputs": [],
   "source": [
    "# ds.pred_grad.hvplot.image(x=\"longitude\", y=\"latitude\", width=500, height=400, cmap=\"RdBu_r\", title=\"Predictions\")"
   ]
  },
  {
   "cell_type": "code",
   "execution_count": 93,
   "id": "5a484a9c-bc9a-408d-9d88-8a8a7e2aa6cc",
   "metadata": {},
   "outputs": [
    {
     "name": "stderr",
     "output_type": "stream",
     "text": [
      "/home/johnsonj/miniconda3/envs/jax_cpu_py39/lib/python3.9/site-packages/xmovie/core.py:46: UserWarning: No `vmin` provided. Data limits are calculated from input. Depending on the input this can take long. Pass `vmin` to avoid this step\n",
      "  warnings.warn(\n",
      "/home/johnsonj/miniconda3/envs/jax_cpu_py39/lib/python3.9/site-packages/xmovie/core.py:53: UserWarning: No `vmax` provided. Data limits are calculated from input. Depending on the input this can take long. Pass `vmax` to avoid this step\n",
      "  warnings.warn(\n"
     ]
    },
    {
     "data": {
      "application/vnd.jupyter.widget-view+json": {
       "model_id": "a0e31faee30147aeb3abe0ccac16df52",
       "version_major": 2,
       "version_minor": 0
      },
      "text/plain": [
       "  0%|          | 0/92 [00:00<?, ?it/s]"
      ]
     },
     "metadata": {},
     "output_type": "display_data"
    },
    {
     "name": "stdout",
     "output_type": "stream",
     "text": [
      "Movie created at movie_true_grad.mp4\n",
      "GIF created at plots/movie_true_grad.gif\n"
     ]
    },
    {
     "name": "stderr",
     "output_type": "stream",
     "text": [
      "/home/johnsonj/miniconda3/envs/jax_cpu_py39/lib/python3.9/site-packages/xmovie/core.py:46: UserWarning: No `vmin` provided. Data limits are calculated from input. Depending on the input this can take long. Pass `vmin` to avoid this step\n",
      "  warnings.warn(\n",
      "/home/johnsonj/miniconda3/envs/jax_cpu_py39/lib/python3.9/site-packages/xmovie/core.py:53: UserWarning: No `vmax` provided. Data limits are calculated from input. Depending on the input this can take long. Pass `vmax` to avoid this step\n",
      "  warnings.warn(\n"
     ]
    },
    {
     "data": {
      "application/vnd.jupyter.widget-view+json": {
       "model_id": "36439ae718594f5dac59767b23b0a6f5",
       "version_major": 2,
       "version_minor": 0
      },
      "text/plain": [
       "  0%|          | 0/92 [00:00<?, ?it/s]"
      ]
     },
     "metadata": {},
     "output_type": "display_data"
    },
    {
     "name": "stdout",
     "output_type": "stream",
     "text": [
      "Movie created at movie_pred_grad.mp4\n",
      "GIF created at plots/movie_pred_grad.gif\n"
     ]
    }
   ],
   "source": [
    "create_movie(ds.sla_grad, \"true_grad\", \"time\", cmap=\"RdBu_r\")\n",
    "create_movie(ds.pred_grad, \"pred_grad\", \"time\", cmap=\"RdBu_r\")"
   ]
  },
  {
   "cell_type": "code",
   "execution_count": 94,
   "id": "cbcfd868-8d63-4b76-a07b-b37dcc5c5123",
   "metadata": {},
   "outputs": [],
   "source": [
    "wandb.log(\n",
    "    {\n",
    "        \"ground_truth_grad\": wandb.Image(\"plots/movie_true_grad.gif\"),\n",
    "        \"predictions_grad\": wandb.Image(\"plots/movie_pred_grad.gif\"),\n",
    "    }\n",
    ")"
   ]
  },
  {
   "cell_type": "markdown",
   "id": "9d75e653-fd3b-4846-b4a7-dc8adfed101b",
   "metadata": {},
   "source": [
    "|**Ground Truth**| **Predictions** |\n",
    "|:---:|:---|\n",
    "| ![](plots/movie_true_grad.gif) | ![](plots/movie_pred_grad.gif) |"
   ]
  },
  {
   "cell_type": "markdown",
   "id": "38d70c26-483d-4561-abb7-6fbf2bf02660",
   "metadata": {},
   "source": [
    "#### Laplacian"
   ]
  },
  {
   "cell_type": "code",
   "execution_count": 95,
   "id": "a1a6f3e7-d347-42ef-8d68-1ed9e46a3269",
   "metadata": {},
   "outputs": [],
   "source": [
    "ds[\"sla_lap\"] = calculate_laplacian(ds[\"sla\"], \"longitude\", \"latitude\")\n",
    "ds[\"pred_lap\"] = calculate_laplacian(ds[\"pred\"], \"longitude\", \"latitude\")"
   ]
  },
  {
   "cell_type": "code",
   "execution_count": 96,
   "id": "79a0c3c9-35de-4d73-8f8a-ec04230689e0",
   "metadata": {},
   "outputs": [],
   "source": [
    "# ds.sla_lap.hvplot.image(x=\"longitude\", y=\"latitude\", width=500, height=400, cmap=\"RdBu_r\", title=\"Predictions\")"
   ]
  },
  {
   "cell_type": "code",
   "execution_count": 97,
   "id": "423d71a8-cfaa-4961-80f6-29f077d24051",
   "metadata": {},
   "outputs": [],
   "source": [
    "# ds.pred_lap.hvplot.image(x=\"longitude\", y=\"latitude\", width=500, height=400, cmap=\"RdBu_r\", title=\"Predictions\")"
   ]
  },
  {
   "cell_type": "code",
   "execution_count": 98,
   "id": "711b485f-0b41-4327-8f66-64f1287506d1",
   "metadata": {},
   "outputs": [
    {
     "name": "stderr",
     "output_type": "stream",
     "text": [
      "/home/johnsonj/miniconda3/envs/jax_cpu_py39/lib/python3.9/site-packages/xmovie/core.py:46: UserWarning: No `vmin` provided. Data limits are calculated from input. Depending on the input this can take long. Pass `vmin` to avoid this step\n",
      "  warnings.warn(\n",
      "/home/johnsonj/miniconda3/envs/jax_cpu_py39/lib/python3.9/site-packages/xmovie/core.py:53: UserWarning: No `vmax` provided. Data limits are calculated from input. Depending on the input this can take long. Pass `vmax` to avoid this step\n",
      "  warnings.warn(\n"
     ]
    },
    {
     "data": {
      "application/vnd.jupyter.widget-view+json": {
       "model_id": "62014b660cdd4ade97938db3adcc15b6",
       "version_major": 2,
       "version_minor": 0
      },
      "text/plain": [
       "  0%|          | 0/92 [00:00<?, ?it/s]"
      ]
     },
     "metadata": {},
     "output_type": "display_data"
    },
    {
     "name": "stdout",
     "output_type": "stream",
     "text": [
      "Movie created at movie_true_lap.mp4\n",
      "GIF created at plots/movie_true_lap.gif\n"
     ]
    },
    {
     "name": "stderr",
     "output_type": "stream",
     "text": [
      "/home/johnsonj/miniconda3/envs/jax_cpu_py39/lib/python3.9/site-packages/xmovie/core.py:46: UserWarning: No `vmin` provided. Data limits are calculated from input. Depending on the input this can take long. Pass `vmin` to avoid this step\n",
      "  warnings.warn(\n",
      "/home/johnsonj/miniconda3/envs/jax_cpu_py39/lib/python3.9/site-packages/xmovie/core.py:53: UserWarning: No `vmax` provided. Data limits are calculated from input. Depending on the input this can take long. Pass `vmax` to avoid this step\n",
      "  warnings.warn(\n"
     ]
    },
    {
     "data": {
      "application/vnd.jupyter.widget-view+json": {
       "model_id": "2c8af20eab584d73b8d79ee63772f51d",
       "version_major": 2,
       "version_minor": 0
      },
      "text/plain": [
       "  0%|          | 0/92 [00:00<?, ?it/s]"
      ]
     },
     "metadata": {},
     "output_type": "display_data"
    },
    {
     "name": "stdout",
     "output_type": "stream",
     "text": [
      "Movie created at movie_pred_lap.mp4\n",
      "GIF created at plots/movie_pred_lap.gif\n"
     ]
    }
   ],
   "source": [
    "create_movie(ds.sla_lap, \"true_lap\", \"time\", cmap=\"RdBu_r\")\n",
    "create_movie(ds.pred_lap, \"pred_lap\", \"time\", cmap=\"RdBu_r\")"
   ]
  },
  {
   "cell_type": "code",
   "execution_count": 99,
   "id": "e9ed5533-1489-4c08-8d06-ef9e0af6a8d5",
   "metadata": {},
   "outputs": [],
   "source": [
    "wandb.log(\n",
    "    {\n",
    "        \"ground_truth_laplacian\": wandb.Image(\"plots/movie_true_lap.gif\"),\n",
    "        \"predictions_laplacian\": wandb.Image(\"plots/movie_pred_lap.gif\"),\n",
    "    }\n",
    ")"
   ]
  },
  {
   "cell_type": "markdown",
   "id": "92bd9498-eabe-41cc-a1a7-63b5b7570038",
   "metadata": {},
   "source": [
    "|**Ground Truth**| **Predictions** |\n",
    "|:---:|:---|\n",
    "| ![](plots/movie_true_lap.gif) | ![](plots/movie_pred_lap.gif) |"
   ]
  },
  {
   "cell_type": "markdown",
   "id": "6668a79e-6125-4f7e-9586-fa9f1d402471",
   "metadata": {},
   "source": [
    "### Errors"
   ]
  },
  {
   "cell_type": "code",
   "execution_count": 100,
   "id": "bdc17b98-fda8-4451-b9de-62bfd5530dff",
   "metadata": {},
   "outputs": [],
   "source": [
    "ds[\"err_abs\"] = np.abs(ds[\"sla\"] - ds[\"pred\"])\n",
    "ds[\"err_sq\"] = (ds[\"sla\"] - ds[\"pred\"])**2\n",
    "ds[\"err_rsq\"] = np.sqrt((ds[\"sla\"] - ds[\"pred\"])**2)"
   ]
  },
  {
   "cell_type": "code",
   "execution_count": 101,
   "id": "896e1a3f-aa41-4b8f-b31f-aa42b6e89fb0",
   "metadata": {},
   "outputs": [
    {
     "name": "stderr",
     "output_type": "stream",
     "text": [
      "/home/johnsonj/miniconda3/envs/jax_cpu_py39/lib/python3.9/site-packages/xmovie/core.py:46: UserWarning: No `vmin` provided. Data limits are calculated from input. Depending on the input this can take long. Pass `vmin` to avoid this step\n",
      "  warnings.warn(\n",
      "/home/johnsonj/miniconda3/envs/jax_cpu_py39/lib/python3.9/site-packages/xmovie/core.py:53: UserWarning: No `vmax` provided. Data limits are calculated from input. Depending on the input this can take long. Pass `vmax` to avoid this step\n",
      "  warnings.warn(\n"
     ]
    },
    {
     "data": {
      "application/vnd.jupyter.widget-view+json": {
       "model_id": "fbaa9a617e69461db2a091308099d2c0",
       "version_major": 2,
       "version_minor": 0
      },
      "text/plain": [
       "  0%|          | 0/92 [00:00<?, ?it/s]"
      ]
     },
     "metadata": {},
     "output_type": "display_data"
    },
    {
     "name": "stdout",
     "output_type": "stream",
     "text": [
      "Movie created at movie_err_abs.mp4\n",
      "GIF created at plots/movie_err_abs.gif\n"
     ]
    },
    {
     "name": "stderr",
     "output_type": "stream",
     "text": [
      "/home/johnsonj/miniconda3/envs/jax_cpu_py39/lib/python3.9/site-packages/xmovie/core.py:46: UserWarning: No `vmin` provided. Data limits are calculated from input. Depending on the input this can take long. Pass `vmin` to avoid this step\n",
      "  warnings.warn(\n",
      "/home/johnsonj/miniconda3/envs/jax_cpu_py39/lib/python3.9/site-packages/xmovie/core.py:53: UserWarning: No `vmax` provided. Data limits are calculated from input. Depending on the input this can take long. Pass `vmax` to avoid this step\n",
      "  warnings.warn(\n"
     ]
    },
    {
     "data": {
      "application/vnd.jupyter.widget-view+json": {
       "model_id": "8cfddc22a92b4b038e6179080e1ba629",
       "version_major": 2,
       "version_minor": 0
      },
      "text/plain": [
       "  0%|          | 0/92 [00:00<?, ?it/s]"
      ]
     },
     "metadata": {},
     "output_type": "display_data"
    },
    {
     "name": "stdout",
     "output_type": "stream",
     "text": [
      "Movie created at movie_err_sq.mp4\n",
      "GIF created at plots/movie_err_sq.gif\n"
     ]
    },
    {
     "name": "stderr",
     "output_type": "stream",
     "text": [
      "/home/johnsonj/miniconda3/envs/jax_cpu_py39/lib/python3.9/site-packages/xmovie/core.py:46: UserWarning: No `vmin` provided. Data limits are calculated from input. Depending on the input this can take long. Pass `vmin` to avoid this step\n",
      "  warnings.warn(\n",
      "/home/johnsonj/miniconda3/envs/jax_cpu_py39/lib/python3.9/site-packages/xmovie/core.py:53: UserWarning: No `vmax` provided. Data limits are calculated from input. Depending on the input this can take long. Pass `vmax` to avoid this step\n",
      "  warnings.warn(\n"
     ]
    },
    {
     "data": {
      "application/vnd.jupyter.widget-view+json": {
       "model_id": "64c01e66d18e42ed84fac666a4b57e04",
       "version_major": 2,
       "version_minor": 0
      },
      "text/plain": [
       "  0%|          | 0/92 [00:00<?, ?it/s]"
      ]
     },
     "metadata": {},
     "output_type": "display_data"
    },
    {
     "name": "stdout",
     "output_type": "stream",
     "text": [
      "Movie created at movie_err_rsq.mp4\n",
      "GIF created at plots/movie_err_rsq.gif\n"
     ]
    }
   ],
   "source": [
    "create_movie(ds.err_abs, \"err_abs\", \"time\", cmap=\"viridis\")\n",
    "create_movie(ds.err_sq, \"err_sq\", \"time\", cmap=\"viridis\")\n",
    "create_movie(ds.err_rsq, \"err_rsq\", \"time\", cmap=\"viridis\")"
   ]
  },
  {
   "cell_type": "code",
   "execution_count": 102,
   "id": "935fbe9d-0e1c-4337-b9f8-915f2ed34e08",
   "metadata": {},
   "outputs": [],
   "source": [
    "wandb.log(\n",
    "    {\n",
    "        \"err_abs\": wandb.Image(\"plots/movie_err_abs.gif\"),\n",
    "        \"err_sq\": wandb.Image(\"plots/movie_err_sq.gif\"),\n",
    "        \"err_rsq\": wandb.Image(\"plots/movie_err_rsq.gif\"),\n",
    "    }\n",
    ")"
   ]
  },
  {
   "cell_type": "markdown",
   "id": "670c022a-d7c6-4372-81eb-54c9356efdc9",
   "metadata": {},
   "source": [
    "**Errors (Absolute Value)**\n",
    "\n",
    "![](plots/movie_err_abs.gif)\n",
    "# \n",
    "**Errors (Mean Squared)**\n",
    "\n",
    "![](plots/movie_err_sq.gif)\n",
    "\n",
    "**Errors (Root Mean Squared)**\n",
    "\n",
    "![](plots/movie_err_rsq.gif)"
   ]
  },
  {
   "cell_type": "markdown",
   "id": "e560bb0e-1c53-41c8-bbbb-20a6851df6d4",
   "metadata": {
    "tags": []
   },
   "source": [
    "## Interpolation"
   ]
  },
  {
   "cell_type": "code",
   "execution_count": null,
   "id": "c3632477-431d-48b5-b200-5119524c9065",
   "metadata": {},
   "outputs": [],
   "source": []
  },
  {
   "cell_type": "code",
   "execution_count": null,
   "id": "4ea6c5b9-b397-4836-8ec4-4dd8b272cf7a",
   "metadata": {},
   "outputs": [],
   "source": []
  },
  {
   "cell_type": "code",
   "execution_count": null,
   "id": "4ad38f6d-70ff-4051-9ec2-8477a79605bc",
   "metadata": {},
   "outputs": [],
   "source": []
  },
  {
   "cell_type": "code",
   "execution_count": 103,
   "id": "5543b29f-b808-4bea-aa8f-de6296a39457",
   "metadata": {},
   "outputs": [],
   "source": [
    "# ds.err_abs.hvplot.image(x=\"Nx\", y=\"Ny\", width=500, height=400, cmap=\"viridis\", title=\"Error (Absolute)\")"
   ]
  },
  {
   "cell_type": "code",
   "execution_count": 104,
   "id": "a1bf2420-9178-4520-ae53-c8ad86501be7",
   "metadata": {},
   "outputs": [],
   "source": [
    "# ds.err_sq.hvplot.image(x=\"Nx\", y=\"Ny\", width=500, height=400, cmap=\"viridis\", title=\"Error (Absolute)\")"
   ]
  },
  {
   "cell_type": "code",
   "execution_count": 105,
   "id": "c1306cae-e21f-426c-84f9-583fd4ecde45",
   "metadata": {},
   "outputs": [],
   "source": [
    "# ds.err_rsq.hvplot.image(x=\"Nx\", y=\"Ny\", width=500, height=400, cmap=\"viridis\", title=\"Error (Absolute)\")"
   ]
  },
  {
   "cell_type": "code",
   "execution_count": null,
   "id": "a0a3d395-9ee6-4a6b-9388-1b3abaa35d66",
   "metadata": {},
   "outputs": [],
   "source": []
  }
 ],
 "metadata": {
  "kernelspec": {
   "display_name": "Python [conda env:jax_cpu_py39]",
   "language": "python",
   "name": "conda-env-jax_cpu_py39-py"
  },
  "language_info": {
   "codemirror_mode": {
    "name": "ipython",
    "version": 3
   },
   "file_extension": ".py",
   "mimetype": "text/x-python",
   "name": "python",
   "nbconvert_exporter": "python",
   "pygments_lexer": "ipython3",
   "version": "3.9.12"
  }
 },
 "nbformat": 4,
 "nbformat_minor": 5
}

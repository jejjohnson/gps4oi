{
 "cells": [
  {
   "cell_type": "code",
   "execution_count": 30,
   "id": "9c31b97f-1b62-45f7-b283-0095d0ab2771",
   "metadata": {},
   "outputs": [],
   "source": [
    "import sys, os\n",
    "from pyprojroot import here\n",
    "\n",
    "\n",
    "# spyder up to find the root\n",
    "# root = here(project_files=[\".here\"])\n",
    "\n",
    "local = here(project_files=[\".root\"])\n",
    "\n",
    "# append to path\n",
    "# sys.path.append(str(root))\n",
    "sys.path.append(str(local))"
   ]
  },
  {
   "cell_type": "code",
   "execution_count": 31,
   "id": "c29fb9ee-1f7d-479b-a14d-afb5c28f1c86",
   "metadata": {},
   "outputs": [
    {
     "name": "stdout",
     "output_type": "stream",
     "text": [
      "The autoreload extension is already loaded. To reload it, use:\n",
      "  %reload_ext autoreload\n"
     ]
    }
   ],
   "source": [
    "import xarray as xr\n",
    "import numpy as np\n",
    "import requests as rq\n",
    "import matplotlib.pyplot as plt\n",
    "from matplotlib.patches import Rectangle\n",
    "\n",
    "from tqdm.notebook import tqdm, trange\n",
    "from kernellib.types import GeoData, Dimensions\n",
    "from kernellib.kernels import SpatioTemporalKernel\n",
    "from kernellib.data.oi import reformat_oi_output\n",
    "from kernellib.features.oi import create_oi_grid\n",
    "from kernellib.data.l3 import read_l3_data\n",
    "from kernellib.data.l4 import read_l4_data\n",
    "from kernellib.features.interp import interp_on_alongtrack\n",
    "from kernellib.features.config import load_test_aoi\n",
    "import hvplot.xarray\n",
    "from pathlib import Path\n",
    "import wandb\n",
    "\n",
    "%load_ext autoreload\n",
    "%autoreload 2\n",
    "# %load_ext memory_profiler"
   ]
  },
  {
   "cell_type": "markdown",
   "id": "df29e3a9-db2d-46da-bb27-f519b023d39c",
   "metadata": {},
   "source": [
    "## Config"
   ]
  },
  {
   "cell_type": "code",
   "execution_count": 32,
   "id": "fcfed1c6-56ca-468c-8926-6f35a539df93",
   "metadata": {},
   "outputs": [
    {
     "name": "stdout",
     "output_type": "stream",
     "text": [
      "data  logs\n"
     ]
    }
   ],
   "source": [
    "!ls /mnt/meom/workdir/johnsonj\n",
    "# !ls /bettik/johnsonj/data/data_challenges/ssh_mapping_2021/interim"
   ]
  },
  {
   "cell_type": "code",
   "execution_count": 33,
   "id": "ec2c9f17-7c43-44c7-9fb8-93e688123473",
   "metadata": {},
   "outputs": [],
   "source": [
    "from kernellib.data.files import files_factory\n",
    "from kernellib.data.io import load_multiple_data\n",
    "from kernellib.features.aoi import aoi_factory, subset_data\n",
    "from kernellib.features.oi import oi_params_factory, create_oi_grid\n",
    "from kernellib.features.space import correct_lon\n",
    "from kernellib.features.time import add_vtime"
   ]
  },
  {
   "cell_type": "code",
   "execution_count": 34,
   "id": "36c41aa8-a017-4cf7-99ea-fd0d87b16b6d",
   "metadata": {},
   "outputs": [],
   "source": [
    "import hydra\n",
    "import omegaconf"
   ]
  },
  {
   "cell_type": "code",
   "execution_count": 91,
   "id": "f5592774-7018-45bb-8ce0-eabab0271adc",
   "metadata": {},
   "outputs": [],
   "source": [
    "with hydra.initialize(config_path=\"../config/\"):\n",
    "    # \n",
    "    # config = hydra.compose(config_name=\"main.yaml\")\n",
    "    config = hydra.compose(\n",
    "        config_name=\"main.yaml\", \n",
    "        overrides=[\n",
    "            'aoi=smoketest', \n",
    "            \"experiment=baseline\",\n",
    "            \"model.kernel.kernel_fn='rbf'\"\n",
    "        ])"
   ]
  },
  {
   "cell_type": "code",
   "execution_count": 92,
   "id": "a9635e33-9c86-4e91-a4b9-e91e2ff5feb0",
   "metadata": {},
   "outputs": [
    {
     "data": {
      "text/plain": [
       "{'ds_oi_grid': '_null_', 'oi_grid': {'_target_': 'kernellib.features.oi.create_oi_grid', 'lon_min': '${aoi.lon_min}', 'lon_max': '${aoi.lon_max}', 'dlon': '${aoi.dlon}', 'lat_min': '${aoi.lat_min}', 'lat_max': '${aoi.lat_max}', 'dlat': '${aoi.dlat}', 'time_min': '${aoi.time_min}', 'time_max': '${aoi.time_max}', 'dt_step': '${aoi.dt_step}', 'dt_period': '${aoi.dt_period}'}, 'load': {'_target_': 'kernellib.data.io.load_multiple_data', 'filenames': '${server.train_data_dir}'}, 'subset': {'_target_': 'kernellib.features.aoi.subset_data', 'lon_min': '${aoi.lon_min}', 'lon_max': '${aoi.lon_max}', 'dlon': '${aoi.dlon}', 'lat_min': '${aoi.lat_min}', 'lat_max': '${aoi.lat_max}', 'dlat': '${aoi.dlat}', 'time_min': '${aoi.time_min}', 'time_max': '${aoi.time_max}', 'dt_step': '${aoi.dt_step}', 'dt_period': '${aoi.dt_period}', 'Lt': '${oi/Lt}', 'Lx': '${oi/Lx}', 'Ly': '${oi/Ly}', 'noise': '${oi/noise}'}, 'name': 'no_opt', 'project': 'gps4oi', 'entity': 'ige', 'server': {'train_data_dir': '/home/johnsonj/data/dc_2021/raw/train/*.nc', 'test_data_dir': '/home/johnsonj/data/dc_2021/raw/test/', 'test_data_filename': 'dt_gulfstream_c2_phy_l3_20161201-20180131_285-315_23-53.nc', 'ref_data_dir': '/home/johnsonj/data/dc_2021/raw/ref/', 'ref_data_filename': '/home/johnsonj/data/dc_2021/interim', 'results_filename': 'OSE_ssh_mapping.nc', 'stats_dir': '/home/johnsonj/data/dc_2021/interim', 'logs_dir': '/mnt/meom/workdir/johnsonj/logs/wandb/gps4oi/'}, 'aoi': {'lon_min': 295.0, 'lon_max': 305.0, 'dlon': 0.2, 'lat_min': 33.0, 'lat_max': 43.0, 'dlat': 0.2, 'time_min': '2017-01-01', 'time_max': '2017-01-31', 'dt_step': 1, 'dt_period': 'D'}, 'oi': {'Lt': 7.0, 'Lx': 1.0, 'Ly': 1.0, 'noise': 0.05, 'n_samples': 10}, 'model': {'model': 'exact', 'mean_fn': 'constant', 'scale': True, 'n_batches_pred': 100, 'likelihood': {'likelihood': 'gaussian', 'noise': 0.05}, 'kernel': {'kernel_fn': 'rbf', 'lon_kernel': 'matern52', 'lat_kernel': 'matern52', 'temporal_kernel': 'matern52', 'lon_lengthscale': 1.0, 'lat_lengthscale': 1.0, 'temporal_lengthscale': 7.0}}}"
      ]
     },
     "execution_count": 92,
     "metadata": {},
     "output_type": "execute_result"
    }
   ],
   "source": [
    "config\n",
    "# config.server"
   ]
  },
  {
   "cell_type": "code",
   "execution_count": 76,
   "id": "2f72a4e1-f02f-436c-aedf-326e7ed0c804",
   "metadata": {},
   "outputs": [],
   "source": [
    "def config_to_wandb(config):\n",
    "    # convert config to dict\n",
    "    config_ = omegaconf.OmegaConf.to_container(\n",
    "            config, resolve=False, throw_on_missing=True\n",
    "        )\n",
    "    \n",
    "    # remove intermediate dictionaries\n",
    "    config_.pop(\"load\")\n",
    "    config_.pop(\"subset\")\n",
    "    return config_"
   ]
  },
  {
   "cell_type": "code",
   "execution_count": 77,
   "id": "08f0061d-9ab6-4870-9468-43820f47947c",
   "metadata": {},
   "outputs": [],
   "source": [
    "# t = config_to_wandb(config)\n",
    "# t"
   ]
  },
  {
   "cell_type": "code",
   "execution_count": 78,
   "id": "a8555eca-3a3e-46de-b06f-e5c734196a7f",
   "metadata": {},
   "outputs": [
    {
     "data": {
      "text/plain": [
       "{'ds_oi_grid': '_null_', 'oi_grid': {'_target_': 'kernellib.features.oi.create_oi_grid', 'lon_min': '${aoi.lon_min}', 'lon_max': '${aoi.lon_max}', 'dlon': '${aoi.dlon}', 'lat_min': '${aoi.lat_min}', 'lat_max': '${aoi.lat_max}', 'dlat': '${aoi.dlat}', 'time_min': '${aoi.time_min}', 'time_max': '${aoi.time_max}', 'dt_step': '${aoi.dt_step}', 'dt_period': '${aoi.dt_period}'}, 'load': {'_target_': 'kernellib.data.io.load_multiple_data', 'filenames': '${server.train_data_dir}'}, 'subset': {'_target_': 'kernellib.features.aoi.subset_data', 'lon_min': '${aoi.lon_min}', 'lon_max': '${aoi.lon_max}', 'dlon': '${aoi.dlon}', 'lat_min': '${aoi.lat_min}', 'lat_max': '${aoi.lat_max}', 'dlat': '${aoi.dlat}', 'time_min': '${aoi.time_min}', 'time_max': '${aoi.time_max}', 'dt_step': '${aoi.dt_step}', 'dt_period': '${aoi.dt_period}', 'Lt': '${oi/Lt}', 'Lx': '${oi/Lx}', 'Ly': '${oi/Ly}', 'noise': '${oi/noise}'}, 'name': 'no_opt', 'project': 'gps4oi', 'entity': 'ige', 'server': {'train_data_dir': '/home/johnsonj/data/dc_2021/raw/train/*.nc', 'test_data_dir': '/home/johnsonj/data/dc_2021/raw/test/', 'test_data_filename': 'dt_gulfstream_c2_phy_l3_20161201-20180131_285-315_23-53.nc', 'ref_data_dir': '/home/johnsonj/data/dc_2021/raw/ref/', 'ref_data_filename': '/home/johnsonj/data/dc_2021/interim', 'results_filename': 'OSE_ssh_mapping.nc', 'stats_dir': '/home/johnsonj/data/dc_2021/interim', 'logs_dir': '/mnt/meom/workdir/johnsonj/logs/wandb/gps4oi/'}, 'aoi': {'lon_min': 295.0, 'lon_max': 305.0, 'dlon': 0.2, 'lat_min': 33.0, 'lat_max': 43.0, 'dlat': 0.2, 'time_min': '2017-01-01', 'time_max': '2017-01-31', 'dt_step': 1, 'dt_period': 'D'}, 'oi': {'Lt': 7.0, 'Lx': 1.0, 'Ly': 1.0, 'noise': 0.05, 'n_samples': 10}, 'model': {'model': 'exact', 'mean_fn': 'constant', 'scale': True, 'n_batches_pred': 100, 'likelihood': {'likelihood': 'gaussian', 'noise': 0.05}, 'kernel': {'kernel_fn': 'matern52', 'lon_kernel': 'matern52', 'lat_kernel': 'matern52', 'temporal_kernel': 'matern52', 'lon_lengthscale': 1.0, 'lat_lengthscale': 1.0, 'temporal_lengthscale': 7.0}}}"
      ]
     },
     "execution_count": 78,
     "metadata": {},
     "output_type": "execute_result"
    }
   ],
   "source": [
    "config"
   ]
  },
  {
   "cell_type": "code",
   "execution_count": 39,
   "id": "5c33c0ae-3694-467b-80f5-55c76d748df8",
   "metadata": {},
   "outputs": [
    {
     "data": {
      "text/plain": [
       "{'lon_min': 295.0, 'lon_max': 305.0, 'dlon': 0.2, 'lat_min': 33.0, 'lat_max': 43.0, 'dlat': 0.2, 'time_min': '2017-01-01', 'time_max': '2017-01-31', 'dt_step': 1, 'dt_period': 'D'}"
      ]
     },
     "execution_count": 39,
     "metadata": {},
     "output_type": "execute_result"
    }
   ],
   "source": [
    "config.aoi"
   ]
  },
  {
   "cell_type": "code",
   "execution_count": 42,
   "id": "c176d745-c559-49d8-bda2-001bf687837a",
   "metadata": {},
   "outputs": [],
   "source": [
    "# wandb.init(config=file_params)\n",
    "import omegaconf"
   ]
  },
  {
   "cell_type": "code",
   "execution_count": 46,
   "id": "7f0156f1-6171-4f75-8a65-6877ae21dec0",
   "metadata": {},
   "outputs": [
    {
     "name": "stderr",
     "output_type": "stream",
     "text": [
      "Failed to detect the name of this notebook, you can set it manually with the WANDB_NOTEBOOK_NAME environment variable to enable code saving.\n",
      "\u001b[34m\u001b[1mwandb\u001b[0m: Currently logged in as: \u001b[33memanjohnson91\u001b[0m (use `wandb login --relogin` to force relogin)\n"
     ]
    },
    {
     "data": {
      "text/html": [
       "Tracking run with wandb version 0.12.11"
      ],
      "text/plain": [
       "<IPython.core.display.HTML object>"
      ]
     },
     "metadata": {},
     "output_type": "display_data"
    },
    {
     "data": {
      "text/html": [
       "Run data is saved locally in <code>/mnt/meom/workdir/johnsonj/logs/wandb/gps4oi/wandb/run-20220325_191507-mw9d82rp</code>"
      ],
      "text/plain": [
       "<IPython.core.display.HTML object>"
      ]
     },
     "metadata": {},
     "output_type": "display_data"
    },
    {
     "data": {
      "text/html": [
       "Syncing run <strong><a href=\"https://wandb.ai/ige/gps4oi/runs/mw9d82rp\" target=\"_blank\">earnest-capybara-10</a></strong> to <a href=\"https://wandb.ai/ige/gps4oi\" target=\"_blank\">Weights & Biases</a> (<a href=\"https://wandb.me/run\" target=\"_blank\">docs</a>)<br/>"
      ],
      "text/plain": [
       "<IPython.core.display.HTML object>"
      ]
     },
     "metadata": {},
     "output_type": "display_data"
    },
    {
     "data": {
      "text/html": [
       "<button onClick=\"this.nextSibling.style.display='block';this.style.display='none';\">Display W&B run</button><iframe src=\"https://wandb.ai/ige/gps4oi/runs/mw9d82rp?jupyter=true\" style=\"border:none;width:100%;height:420px;display:none;\"></iframe>"
      ],
      "text/plain": [
       "<wandb.sdk.wandb_run.Run at 0x7f197bce91f0>"
      ]
     },
     "execution_count": 46,
     "metadata": {},
     "output_type": "execute_result"
    }
   ],
   "source": [
    "wandb.init(project=config.project, entity=config.entity, dir=config.server.logs_dir, config=config_to_wandb(config))\n",
    "# wandb.config.update(oi_params)\n",
    "# wandb.config.update(aoi_params)\n",
    "# wandb.config.update(gp_params)"
   ]
  },
  {
   "cell_type": "code",
   "execution_count": 47,
   "id": "e5e4d459-c713-4bf4-9f76-08b0ebbad73f",
   "metadata": {},
   "outputs": [],
   "source": [
    "from kernellib.features.aoi import AOIParams\n",
    "from kernellib.features.oi import OIParams"
   ]
  },
  {
   "cell_type": "code",
   "execution_count": 48,
   "id": "b13b1783-c4bf-4cea-8c1a-907e052b9bd7",
   "metadata": {},
   "outputs": [
    {
     "name": "stderr",
     "output_type": "stream",
     "text": [
      "/home/johnsonj/miniconda3/envs/oi_torch_py39/lib/python3.9/site-packages/xarray/core/indexing.py:1227: PerformanceWarning: Slicing with an out-of-order index is generating 13321 times more chunks\n",
      "  return self.array[key]\n",
      "/home/johnsonj/miniconda3/envs/oi_torch_py39/lib/python3.9/site-packages/xarray/core/indexing.py:1227: PerformanceWarning: Slicing with an out-of-order index is generating 13321 times more chunks\n",
      "  return self.array[key]\n",
      "/home/johnsonj/miniconda3/envs/oi_torch_py39/lib/python3.9/site-packages/xarray/core/indexing.py:1227: PerformanceWarning: Slicing with an out-of-order index is generating 13321 times more chunks\n",
      "  return self.array[key]\n",
      "/home/johnsonj/miniconda3/envs/oi_torch_py39/lib/python3.9/site-packages/xarray/core/indexing.py:1227: PerformanceWarning: Slicing with an out-of-order index is generating 13321 times more chunks\n",
      "  return self.array[key]\n",
      "/home/johnsonj/miniconda3/envs/oi_torch_py39/lib/python3.9/site-packages/xarray/core/indexing.py:1227: PerformanceWarning: Slicing with an out-of-order index is generating 13321 times more chunks\n",
      "  return self.array[key]\n",
      "/home/johnsonj/miniconda3/envs/oi_torch_py39/lib/python3.9/site-packages/xarray/core/indexing.py:1227: PerformanceWarning: Slicing with an out-of-order index is generating 13321 times more chunks\n",
      "  return self.array[key]\n",
      "/home/johnsonj/miniconda3/envs/oi_torch_py39/lib/python3.9/site-packages/xarray/core/indexing.py:1227: PerformanceWarning: Slicing with an out-of-order index is generating 13321 times more chunks\n",
      "  return self.array[key]\n",
      "/home/johnsonj/miniconda3/envs/oi_torch_py39/lib/python3.9/site-packages/xarray/core/indexing.py:1227: PerformanceWarning: Slicing with an out-of-order index is generating 13321 times more chunks\n",
      "  return self.array[key]\n",
      "/home/johnsonj/miniconda3/envs/oi_torch_py39/lib/python3.9/site-packages/xarray/core/indexing.py:1227: PerformanceWarning: Slicing with an out-of-order index is generating 13321 times more chunks\n",
      "  return self.array[key]\n",
      "/home/johnsonj/miniconda3/envs/oi_torch_py39/lib/python3.9/site-packages/xarray/core/indexing.py:1227: PerformanceWarning: Slicing with an out-of-order index is generating 13321 times more chunks\n",
      "  return self.array[key]\n"
     ]
    },
    {
     "name": "stdout",
     "output_type": "stream",
     "text": [
      "CPU times: user 46.3 s, sys: 1.69 s, total: 48 s\n",
      "Wall time: 50 s\n"
     ]
    }
   ],
   "source": [
    "%%time\n",
    "n_samples = 10\n",
    "aoi_params = AOIParams().init_from_config(config.aoi)\n",
    "oi_params = OIParams().init_from_config(config.oi)\n",
    "\n",
    "ds_oi_grid = create_oi_grid(aoi_params, config.oi.n_samples)\n",
    "\n",
    "# load data\n",
    "ds_obs = load_multiple_data(config.server.train_data_dir)\n",
    "\n",
    "# subset data\n",
    "ds_obs = subset_data(ds_obs, aoi_params, oi_params)\n"
   ]
  },
  {
   "cell_type": "code",
   "execution_count": 49,
   "id": "33178679-8260-4425-91a7-e84082477989",
   "metadata": {},
   "outputs": [],
   "source": [
    "ds_obs = add_vtime(ds_obs, aoi_params.time_min)"
   ]
  },
  {
   "cell_type": "markdown",
   "id": "4e991bbc-5761-4945-9f74-ff1f3ca9eac8",
   "metadata": {},
   "source": [
    "## Models"
   ]
  },
  {
   "cell_type": "code",
   "execution_count": 93,
   "id": "7b647a8d-cce5-4e0f-9639-1b86cdb98782",
   "metadata": {},
   "outputs": [],
   "source": [
    "import torch\n",
    "import gpytorch\n",
    "from kernellib.models.kernels import kernel_fn_factory, KernelParams\n",
    "from kernellib.models.gps import gp_model_factory\n",
    "from kernellib.models.utils import gp_batch_predict, gp_samples"
   ]
  },
  {
   "cell_type": "code",
   "execution_count": 94,
   "id": "8fb7895b-429e-44c2-8f9f-977876a8582d",
   "metadata": {},
   "outputs": [],
   "source": [
    "# init kernel params\n",
    "kernel_params = KernelParams().init_from_config(config.model.kernel)\n",
    "\n",
    "kernel = kernel_fn_factory(kernel_params.kernel_fn, kernel_params)\n",
    "\n",
    "# init gp params\n",
    "model, likelihood = gp_model_factory(config.model, kernel)\n"
   ]
  },
  {
   "cell_type": "code",
   "execution_count": 95,
   "id": "e6cd34f3-f0c1-4ce4-89d3-6785ce80de84",
   "metadata": {},
   "outputs": [
    {
     "name": "stdout",
     "output_type": "stream",
     "text": [
      "Starting Loop\n"
     ]
    }
   ],
   "source": [
    "n_batches_pred = 100\n",
    "\n",
    "print(\"Starting Loop\")"
   ]
  },
  {
   "cell_type": "code",
   "execution_count": 101,
   "id": "f1fa271e-0c9a-4517-bb3e-8b8d3e8c4829",
   "metadata": {},
   "outputs": [],
   "source": [
    "def step(pbar):\n",
    "    \n",
    "    ind1 = np.where(\n",
    "        (np.abs(ds_obs.time.values - ds_oi_grid.gtime.values[i_time]) < 2.0 * oi_params.Lt)\n",
    "    )[0]\n",
    "    \n",
    "    # get observation data\n",
    "    obs_data = GeoData(\n",
    "        lat=ds_obs.latitude.values[ind1],\n",
    "        lon=ds_obs.longitude.values[ind1],\n",
    "        time=ds_obs.time.values[ind1],\n",
    "        data=ds_obs.sla_unfiltered.values[ind1],\n",
    "    )\n",
    "    \n",
    "    # get state data\n",
    "    state_data = Dimensions(\n",
    "        lat=ds_oi_grid.fglat.values,\n",
    "        lon=ds_oi_grid.fglon.values,\n",
    "        time=ds_oi_grid.gtime.values[i_time],\n",
    "    )\n",
    "    \n",
    "\n",
    "    state_coords = state_data.coord_vector()\n",
    "    obs_coords = obs_data.coord_vector()\n",
    "\n",
    "    # ML MODEL\n",
    "    train_x = torch.Tensor(obs_coords)[:1000]\n",
    "    train_y = torch.Tensor(obs_data.data)[:1000]\n",
    "    test_x = torch.Tensor(state_coords)#[:1000]\n",
    "    \n",
    "    pbar.set_description(\"Fitting GP Model...\")\n",
    "    model_fitted = model(train_x, train_y)\n",
    "\n",
    "    pbar.set_description(\"Predictions...\")\n",
    "    y_mu, y_var = gp_batch_predict(model_fitted, likelihood, test_x, config.model.n_batches_pred)\n",
    "    \n",
    "    # samples\n",
    "    pbar.set_description(\"Drawing Samples...\")\n",
    "    y_samples = gp_samples(model_fitted, likelihood, test_x, config.oi.n_samples)\n",
    "    \n",
    "    \n",
    "    return y_mu, y_var, y_samples"
   ]
  },
  {
   "cell_type": "code",
   "execution_count": 102,
   "id": "8022f2dc-4a65-4a4e-9611-a0ca81474c31",
   "metadata": {},
   "outputs": [
    {
     "data": {
      "application/vnd.jupyter.widget-view+json": {
       "model_id": "dc259295936542289724ffd2e99ef2f6",
       "version_major": 2,
       "version_minor": 0
      },
      "text/plain": [
       "  0%|          | 0/31 [00:00<?, ?it/s]"
      ]
     },
     "metadata": {},
     "output_type": "display_data"
    }
   ],
   "source": [
    "for i_time in (pbar := trange(len(ds_oi_grid.gtime))):\n",
    "    pbar.set_description_str(f\"time: {i_time}\")\n",
    "\n",
    "    # get indices where there are observations\n",
    "    pbar.set_description(\"Subsetting Data...\")\n",
    "    \n",
    "    y_mu, y_std, y_samples = step(pbar)\n",
    "\n",
    "#     ind1 = np.where(\n",
    "#         (np.abs(ds_obs.time.values - ds_oi_grid.gtime.values[i_time]) < 2.0 * oi_params.Lt)\n",
    "#     )[0]\n",
    "\n",
    "#     n_obs = len(ind1)\n",
    "\n",
    "#     # get observation data\n",
    "#     obs_data = GeoData(\n",
    "#         lat=ds_obs.latitude.values[ind1],\n",
    "#         lon=ds_obs.longitude.values[ind1],\n",
    "#         time=ds_obs.time.values[ind1],\n",
    "#         data=ds_obs.sla_unfiltered.values[ind1],\n",
    "#     )\n",
    "\n",
    "#     # get state data\n",
    "#     state_data = Dimensions(\n",
    "#         lat=ds_oi_grid.fglat.values,\n",
    "#         lon=ds_oi_grid.fglon.values,\n",
    "#         time=ds_oi_grid.gtime.values[i_time],\n",
    "#     )\n",
    "\n",
    "#     # DATA KERNEL\n",
    "\n",
    "#     state_coords = state_data.coord_vector()\n",
    "#     obs_coords = obs_data.coord_vector()\n",
    "\n",
    "#     # ML MODEL\n",
    "#     train_x = torch.Tensor(obs_coords)[:1000]\n",
    "#     train_y = torch.Tensor(obs_data.data)[:1000]\n",
    "#     test_x = torch.Tensor(state_coords)#[:1000]\n",
    "    \n",
    "\n",
    "#     pbar.set_description(\"Fitting GP Model...\")\n",
    "#     model_fitted = model(train_x, train_y)\n",
    "\n",
    "#     pbar.set_description(\"Predictions...\")\n",
    "#     y_mu, y_var = gp_batch_predict(model_fitted, likelihood, test_x, config.model.n_batches_pred)\n",
    "\n",
    "#     # samples\n",
    "#     pbar.set_description(\"Drawing Samples...\")\n",
    "#     y_samples = gp_samples(model_fitted, likelihood, test_x, config.oi.n_samples)\n",
    "\n",
    "    # save into data arrays\n",
    "    pbar.set_description(\"Putting in Data...\")\n",
    "    ds_oi_grid.gssh_mu[i_time, :, :] = y_mu.reshape(\n",
    "        ds_oi_grid.lat.size, ds_oi_grid.lon.size\n",
    "    )\n",
    "    ds_oi_grid.gssh_var[i_time, :, :] = y_var.reshape(\n",
    "        ds_oi_grid.lat.size, ds_oi_grid.lon.size\n",
    "    )\n",
    "    ds_oi_grid.gssh_samples[:, i_time, :, :] = y_samples.reshape(\n",
    "        n_samples, ds_oi_grid.lat.size, ds_oi_grid.lon.size\n",
    "    )\n",
    "    ds_oi_grid.nobs[i_time] = n_obs\n",
    "\n"
   ]
  },
  {
   "cell_type": "code",
   "execution_count": 90,
   "id": "646511e4-eb8d-450a-a563-dadf562d489c",
   "metadata": {},
   "outputs": [
    {
     "data": {},
     "metadata": {},
     "output_type": "display_data"
    },
    {
     "data": {
      "application/vnd.holoviews_exec.v0+json": "",
      "text/html": [
       "<div id='1798'>\n",
       "\n",
       "\n",
       "\n",
       "\n",
       "\n",
       "  <div class=\"bk-root\" id=\"4203e60a-2cf8-4a24-a451-db263a3e2913\" data-root-id=\"1798\"></div>\n",
       "</div>\n",
       "<script type=\"application/javascript\">(function(root) {\n",
       "  function embed_document(root) {\n",
       "    var docs_json = {\"772e5d51-a585-4df9-afeb-7b4a11a04c7a\":{\"defs\":[{\"extends\":null,\"module\":null,\"name\":\"ReactiveHTML1\",\"overrides\":[],\"properties\":[]},{\"extends\":null,\"module\":null,\"name\":\"FlexBox1\",\"overrides\":[],\"properties\":[{\"default\":\"flex-start\",\"kind\":null,\"name\":\"align_content\"},{\"default\":\"flex-start\",\"kind\":null,\"name\":\"align_items\"},{\"default\":\"row\",\"kind\":null,\"name\":\"flex_direction\"},{\"default\":\"wrap\",\"kind\":null,\"name\":\"flex_wrap\"},{\"default\":\"flex-start\",\"kind\":null,\"name\":\"justify_content\"}]},{\"extends\":null,\"module\":null,\"name\":\"TemplateActions1\",\"overrides\":[],\"properties\":[{\"default\":0,\"kind\":null,\"name\":\"open_modal\"},{\"default\":0,\"kind\":null,\"name\":\"close_modal\"}]},{\"extends\":null,\"module\":null,\"name\":\"MaterialTemplateActions1\",\"overrides\":[],\"properties\":[{\"default\":0,\"kind\":null,\"name\":\"open_modal\"},{\"default\":0,\"kind\":null,\"name\":\"close_modal\"}]}],\"roots\":{\"references\":[{\"attributes\":{},\"id\":\"1865\",\"type\":\"NoOverlap\"},{\"attributes\":{\"children\":[{\"id\":\"1888\"},{\"id\":\"1889\"}],\"margin\":[0,0,0,0],\"min_width\":290,\"name\":\"Column03579\",\"width\":290},\"id\":\"1887\",\"type\":\"Column\"},{\"attributes\":{},\"id\":\"1817\",\"type\":\"BasicTicker\"},{\"attributes\":{},\"id\":\"1853\",\"type\":\"BasicTickFormatter\"},{\"attributes\":{\"axis\":{\"id\":\"1812\"},\"coordinates\":null,\"grid_line_color\":null,\"group\":null,\"ticker\":null},\"id\":\"1815\",\"type\":\"Grid\"},{\"attributes\":{\"args\":{\"bidirectional\":false,\"properties\":{},\"source\":{\"id\":\"1889\"},\"target\":{\"id\":\"1888\"}},\"code\":\"try { \\n    var labels = ['time: <b>2017-01-01 00:00:00</b>', 'time: <b>2017-01-02 00:00:00</b>', 'time: <b>2017-01-03 00:00:00</b>', 'time: <b>2017-01-04 00:00:00</b>', 'time: <b>2017-01-05 00:00:00</b>', 'time: <b>2017-01-06 00:00:00</b>', 'time: <b>2017-01-07 00:00:00</b>', 'time: <b>2017-01-08 00:00:00</b>', 'time: <b>2017-01-09 00:00:00</b>', 'time: <b>2017-01-10 00:00:00</b>', 'time: <b>2017-01-11 00:00:00</b>', 'time: <b>2017-01-12 00:00:00</b>', 'time: <b>2017-01-13 00:00:00</b>', 'time: <b>2017-01-14 00:00:00</b>', 'time: <b>2017-01-15 00:00:00</b>', 'time: <b>2017-01-16 00:00:00</b>', 'time: <b>2017-01-17 00:00:00</b>', 'time: <b>2017-01-18 00:00:00</b>', 'time: <b>2017-01-19 00:00:00</b>', 'time: <b>2017-01-20 00:00:00</b>', 'time: <b>2017-01-21 00:00:00</b>', 'time: <b>2017-01-22 00:00:00</b>', 'time: <b>2017-01-23 00:00:00</b>', 'time: <b>2017-01-24 00:00:00</b>', 'time: <b>2017-01-25 00:00:00</b>', 'time: <b>2017-01-26 00:00:00</b>', 'time: <b>2017-01-27 00:00:00</b>', 'time: <b>2017-01-28 00:00:00</b>', 'time: <b>2017-01-29 00:00:00</b>', 'time: <b>2017-01-30 00:00:00</b>', 'time: <b>2017-01-31 00:00:00</b>']\\n    target.text = labels[source.value]\\n     } catch(err) { console.log(err) }\",\"tags\":[139745826087552]},\"id\":\"1902\",\"type\":\"CustomJS\"},{\"attributes\":{},\"id\":\"1810\",\"type\":\"LinearScale\"},{\"attributes\":{},\"id\":\"1854\",\"type\":\"AllLabels\"},{\"attributes\":{\"high\":0.1031917929649353,\"low\":-0.1031917929649353,\"nan_color\":\"rgba(0, 0, 0, 0)\",\"palette\":[\"#053061\",\"#063263\",\"#073466\",\"#083669\",\"#09386c\",\"#0a3a6f\",\"#0b3c72\",\"#0c3e75\",\"#0d4078\",\"#0e437b\",\"#0f457e\",\"#114781\",\"#124984\",\"#134b87\",\"#144d8a\",\"#154f8d\",\"#165190\",\"#175493\",\"#185695\",\"#195898\",\"#1a5a9b\",\"#1c5c9e\",\"#1d5ea1\",\"#1e60a4\",\"#1f62a7\",\"#2064aa\",\"#2166ac\",\"#2368ad\",\"#246aae\",\"#256caf\",\"#276db0\",\"#286fb0\",\"#2971b1\",\"#2b73b2\",\"#2c75b3\",\"#2d76b4\",\"#2f78b5\",\"#307ab6\",\"#317cb7\",\"#337db8\",\"#347fb9\",\"#3581b9\",\"#3783ba\",\"#3884bb\",\"#3986bc\",\"#3b88bd\",\"#3c8abe\",\"#3d8bbf\",\"#3f8dc0\",\"#408fc1\",\"#4191c2\",\"#4393c3\",\"#4694c4\",\"#4996c5\",\"#4c98c6\",\"#4f9ac7\",\"#529cc8\",\"#559ec9\",\"#58a0ca\",\"#5ba2cb\",\"#5ea4cc\",\"#61a6cd\",\"#65a8ce\",\"#68aacf\",\"#6bacd0\",\"#6eaed1\",\"#71b0d2\",\"#74b2d3\",\"#77b4d5\",\"#7ab6d6\",\"#7db8d7\",\"#80bad8\",\"#84bcd9\",\"#87beda\",\"#8ac0db\",\"#8dc2dc\",\"#90c4dd\",\"#93c5de\",\"#95c6df\",\"#98c8df\",\"#9ac9e0\",\"#9dcae1\",\"#9fcbe1\",\"#a2cde2\",\"#a4cee3\",\"#a7cfe4\",\"#a9d0e4\",\"#abd2e5\",\"#aed3e6\",\"#b0d4e6\",\"#b3d5e7\",\"#b5d7e8\",\"#b8d8e8\",\"#bad9e9\",\"#bddaea\",\"#bfdceb\",\"#c2ddeb\",\"#c4deec\",\"#c7dfed\",\"#c9e1ed\",\"#cce2ee\",\"#cee3ef\",\"#d1e5f0\",\"#d2e5f0\",\"#d3e6f0\",\"#d5e7f0\",\"#d6e7f1\",\"#d8e8f1\",\"#d9e9f1\",\"#dbe9f1\",\"#dceaf2\",\"#deebf2\",\"#dfecf2\",\"#e1ecf3\",\"#e2edf3\",\"#e4eef3\",\"#e5eef3\",\"#e7eff4\",\"#e8f0f4\",\"#eaf1f4\",\"#ebf1f4\",\"#edf2f5\",\"#eef3f5\",\"#f0f3f5\",\"#f1f4f6\",\"#f3f5f6\",\"#f4f5f6\",\"#f6f6f6\",\"#f7f6f6\",\"#f7f5f4\",\"#f7f4f2\",\"#f7f3f0\",\"#f8f2ee\",\"#f8f0ec\",\"#f8efea\",\"#f8eee8\",\"#f9ede7\",\"#f9ece5\",\"#f9ebe3\",\"#f9eae1\",\"#f9e9df\",\"#fae8dd\",\"#fae7db\",\"#fae5d9\",\"#fae4d7\",\"#fbe3d6\",\"#fbe2d4\",\"#fbe1d2\",\"#fbe0d0\",\"#fcdfce\",\"#fcdecc\",\"#fcddca\",\"#fcdcc8\",\"#fddbc7\",\"#fcd8c4\",\"#fcd6c1\",\"#fbd4be\",\"#fbd2bc\",\"#fbd0b9\",\"#faceb6\",\"#faccb4\",\"#facab1\",\"#f9c7ae\",\"#f9c5ab\",\"#f9c3a9\",\"#f8c1a6\",\"#f8bfa3\",\"#f8bda1\",\"#f7bb9e\",\"#f7b99b\",\"#f7b799\",\"#f6b496\",\"#f6b293\",\"#f5b090\",\"#f5ae8e\",\"#f5ac8b\",\"#f4aa88\",\"#f4a886\",\"#f4a683\",\"#f3a380\",\"#f2a07e\",\"#f19e7c\",\"#ef9b7a\",\"#ee9878\",\"#ed9676\",\"#ec9374\",\"#eb9072\",\"#ea8e70\",\"#e88b6e\",\"#e7886c\",\"#e6856a\",\"#e58368\",\"#e48065\",\"#e27d63\",\"#e17b61\",\"#e0785f\",\"#df755d\",\"#de725b\",\"#dd7059\",\"#db6d57\",\"#da6a55\",\"#d96853\",\"#d86551\",\"#d7624f\",\"#d6604d\",\"#d45d4b\",\"#d35a4a\",\"#d15749\",\"#d05447\",\"#ce5146\",\"#cd4f45\",\"#cc4c43\",\"#ca4942\",\"#c94641\",\"#c7433f\",\"#c6403e\",\"#c53e3c\",\"#c33b3b\",\"#c2383a\",\"#c03538\",\"#bf3237\",\"#be3036\",\"#bc2d34\",\"#bb2a33\",\"#b92732\",\"#b82431\",\"#b6212f\",\"#b51f2e\",\"#b41c2d\",\"#b2192b\",\"#b0172a\",\"#ad162a\",\"#aa1529\",\"#a71429\",\"#a41328\",\"#a11228\",\"#9e1127\",\"#9b1027\",\"#991027\",\"#960f26\",\"#930e26\",\"#900d25\",\"#8d0c25\",\"#8a0b24\",\"#870a24\",\"#840923\",\"#810823\",\"#7e0722\",\"#7b0622\",\"#780521\",\"#750421\",\"#720320\",\"#6f0220\",\"#6c011f\",\"#69001f\",\"#67001f\"]},\"id\":\"1833\",\"type\":\"LinearColorMapper\"},{\"attributes\":{},\"id\":\"1850\",\"type\":\"BasicTickFormatter\"},{\"attributes\":{\"source\":{\"id\":\"1834\"}},\"id\":\"1844\",\"type\":\"CDSView\"},{\"attributes\":{\"margin\":[5,5,5,5],\"name\":\"HSpacer03585\",\"sizing_mode\":\"stretch_width\"},\"id\":\"1799\",\"type\":\"Spacer\"},{\"attributes\":{\"coordinates\":null,\"data_source\":{\"id\":\"1834\"},\"glyph\":{\"id\":\"1837\"},\"group\":null,\"hover_glyph\":null,\"muted_glyph\":{\"id\":\"1841\"},\"nonselection_glyph\":{\"id\":\"1839\"},\"selection_glyph\":{\"id\":\"1847\"},\"view\":{\"id\":\"1844\"}},\"id\":\"1843\",\"type\":\"GlyphRenderer\"},{\"attributes\":{},\"id\":\"1820\",\"type\":\"SaveTool\"},{\"attributes\":{\"client_comm_id\":\"5630cc90f40f49ef8b95186ac6a95e8c\",\"comm_id\":\"9df9a28047b441a5901939d9c33b8dec\",\"plot_id\":\"1798\"},\"id\":\"1925\",\"type\":\"panel.models.comm_manager.CommManager\"},{\"attributes\":{\"axis_label\":\"lat\",\"coordinates\":null,\"formatter\":{\"id\":\"1853\"},\"group\":null,\"major_label_policy\":{\"id\":\"1854\"},\"ticker\":{\"id\":\"1817\"}},\"id\":\"1816\",\"type\":\"LinearAxis\"},{\"attributes\":{\"tools\":[{\"id\":\"1802\"},{\"id\":\"1820\"},{\"id\":\"1821\"},{\"id\":\"1822\"},{\"id\":\"1823\"},{\"id\":\"1824\"}]},\"id\":\"1826\",\"type\":\"Toolbar\"},{\"attributes\":{\"children\":[{\"id\":\"1799\"},{\"id\":\"1803\"},{\"id\":\"1883\"},{\"id\":\"1884\"}],\"margin\":[0,0,0,0],\"name\":\"Row03569\"},\"id\":\"1798\",\"type\":\"Row\"},{\"attributes\":{},\"id\":\"1835\",\"type\":\"Selection\"},{\"attributes\":{},\"id\":\"1824\",\"type\":\"ResetTool\"},{\"attributes\":{},\"id\":\"1813\",\"type\":\"BasicTicker\"},{\"attributes\":{},\"id\":\"1808\",\"type\":\"LinearScale\"},{\"attributes\":{\"end\":43.300000000000146,\"reset_end\":43.300000000000146,\"reset_start\":32.9,\"start\":32.9,\"tags\":[[[\"lat\",\"lat\",null]]]},\"id\":\"1801\",\"type\":\"Range1d\"},{\"attributes\":{\"data\":{\"dh\":[10.400000000000148],\"dw\":[10.199999999999477],\"image\":[{\"__ndarray__\":\"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\",\"dtype\":\"float64\",\"order\":\"little\",\"shape\":[52,51]}],\"x\":[294.9],\"y\":[32.9]},\"selected\":{\"id\":\"1835\"},\"selection_policy\":{\"id\":\"1869\"}},\"id\":\"1834\",\"type\":\"ColumnDataSource\"},{\"attributes\":{\"bar_line_color\":\"black\",\"color_mapper\":{\"id\":\"1833\"},\"coordinates\":null,\"group\":null,\"label_standoff\":8,\"location\":[0,0],\"major_label_policy\":{\"id\":\"1865\"},\"major_tick_line_color\":\"black\",\"ticker\":{\"id\":\"1845\"}},\"id\":\"1846\",\"type\":\"ColorBar\"},{\"attributes\":{\"end\":305.09999999999945,\"reset_end\":305.09999999999945,\"reset_start\":294.9,\"start\":294.9,\"tags\":[[[\"lon\",\"lon\",null]]]},\"id\":\"1800\",\"type\":\"Range1d\"},{\"attributes\":{\"axis_label\":\"lon\",\"coordinates\":null,\"formatter\":{\"id\":\"1850\"},\"group\":null,\"major_label_policy\":{\"id\":\"1851\"},\"ticker\":{\"id\":\"1813\"}},\"id\":\"1812\",\"type\":\"LinearAxis\"},{\"attributes\":{\"color_mapper\":{\"id\":\"1833\"},\"dh\":{\"field\":\"dh\"},\"dw\":{\"field\":\"dw\"},\"global_alpha\":{\"value\":1.0},\"image\":{\"field\":\"image\"},\"x\":{\"field\":\"x\"},\"y\":{\"field\":\"y\"}},\"id\":\"1847\",\"type\":\"Image\"},{\"attributes\":{},\"id\":\"1845\",\"type\":\"BasicTicker\"},{\"attributes\":{\"color_mapper\":{\"id\":\"1833\"},\"dh\":{\"field\":\"dh\"},\"dw\":{\"field\":\"dw\"},\"image\":{\"field\":\"image\"},\"x\":{\"field\":\"x\"},\"y\":{\"field\":\"y\"}},\"id\":\"1837\",\"type\":\"Image\"},{\"attributes\":{\"margin\":[20,0,0,20],\"name\":\"\",\"style\":{\"white-space\":\"nowrap\"},\"text\":\"time: <b>2017-01-01 00:00:00</b>\",\"width\":250},\"id\":\"1888\",\"type\":\"Div\"},{\"attributes\":{},\"id\":\"1821\",\"type\":\"PanTool\"},{\"attributes\":{\"color_mapper\":{\"id\":\"1833\"},\"dh\":{\"field\":\"dh\"},\"dw\":{\"field\":\"dw\"},\"global_alpha\":{\"value\":0.1},\"image\":{\"field\":\"image\"},\"x\":{\"field\":\"x\"},\"y\":{\"field\":\"y\"}},\"id\":\"1839\",\"type\":\"Image\"},{\"attributes\":{\"overlay\":{\"id\":\"1825\"}},\"id\":\"1823\",\"type\":\"BoxZoomTool\"},{\"attributes\":{},\"id\":\"1851\",\"type\":\"AllLabels\"},{\"attributes\":{\"end\":30,\"js_property_callbacks\":{\"change:value\":[{\"id\":\"1902\"}]},\"margin\":[0,20,20,20],\"min_width\":250,\"show_value\":false,\"start\":0,\"tooltips\":false,\"value\":0,\"width\":250},\"id\":\"1889\",\"type\":\"Slider\"},{\"attributes\":{\"axis\":{\"id\":\"1816\"},\"coordinates\":null,\"dimension\":1,\"grid_line_color\":null,\"group\":null,\"ticker\":null},\"id\":\"1819\",\"type\":\"Grid\"},{\"attributes\":{\"callback\":null,\"renderers\":[{\"id\":\"1843\"}],\"tags\":[\"hv_created\"],\"tooltips\":[[\"lon\",\"$x\"],[\"lat\",\"$y\"],[\"gssh_mu\",\"@image\"]]},\"id\":\"1802\",\"type\":\"HoverTool\"},{\"attributes\":{\"children\":[{\"id\":\"1887\"}],\"css_classes\":[\"panel-widget-box\"],\"margin\":[5,5,5,5],\"name\":\"WidgetBox03570\"},\"id\":\"1886\",\"type\":\"Column\"},{\"attributes\":{\"bottom_units\":\"screen\",\"coordinates\":null,\"fill_alpha\":0.5,\"fill_color\":\"lightgrey\",\"group\":null,\"left_units\":\"screen\",\"level\":\"overlay\",\"line_alpha\":1.0,\"line_color\":\"black\",\"line_dash\":[4,4],\"line_width\":2,\"right_units\":\"screen\",\"syncable\":false,\"top_units\":\"screen\"},\"id\":\"1825\",\"type\":\"BoxAnnotation\"},{\"attributes\":{\"below\":[{\"id\":\"1812\"}],\"center\":[{\"id\":\"1815\"},{\"id\":\"1819\"}],\"height\":400,\"left\":[{\"id\":\"1816\"}],\"margin\":[5,5,5,5],\"min_border_bottom\":10,\"min_border_left\":10,\"min_border_right\":10,\"min_border_top\":10,\"renderers\":[{\"id\":\"1843\"}],\"right\":[{\"id\":\"1846\"}],\"sizing_mode\":\"fixed\",\"title\":{\"id\":\"1804\"},\"toolbar\":{\"id\":\"1826\"},\"width\":500,\"x_range\":{\"id\":\"1800\"},\"x_scale\":{\"id\":\"1808\"},\"y_range\":{\"id\":\"1801\"},\"y_scale\":{\"id\":\"1810\"}},\"id\":\"1803\",\"subtype\":\"Figure\",\"type\":\"Plot\"},{\"attributes\":{\"margin\":[5,5,5,5],\"name\":\"HSpacer03586\",\"sizing_mode\":\"stretch_width\"},\"id\":\"1883\",\"type\":\"Spacer\"},{\"attributes\":{\"children\":[{\"id\":\"1885\"},{\"id\":\"1886\"},{\"id\":\"1890\"}],\"margin\":[0,0,0,0],\"name\":\"Column03584\"},\"id\":\"1884\",\"type\":\"Column\"},{\"attributes\":{\"coordinates\":null,\"group\":null,\"text\":\"time: 2017-01-01 00:00:00\",\"text_color\":\"black\",\"text_font_size\":\"12pt\"},\"id\":\"1804\",\"type\":\"Title\"},{\"attributes\":{\"margin\":[5,5,5,5],\"name\":\"VSpacer03583\",\"sizing_mode\":\"stretch_height\"},\"id\":\"1890\",\"type\":\"Spacer\"},{\"attributes\":{},\"id\":\"1869\",\"type\":\"UnionRenderers\"},{\"attributes\":{\"margin\":[5,5,5,5],\"name\":\"VSpacer03582\",\"sizing_mode\":\"stretch_height\"},\"id\":\"1885\",\"type\":\"Spacer\"},{\"attributes\":{},\"id\":\"1822\",\"type\":\"WheelZoomTool\"},{\"attributes\":{\"color_mapper\":{\"id\":\"1833\"},\"dh\":{\"field\":\"dh\"},\"dw\":{\"field\":\"dw\"},\"global_alpha\":{\"value\":0.2},\"image\":{\"field\":\"image\"},\"x\":{\"field\":\"x\"},\"y\":{\"field\":\"y\"}},\"id\":\"1841\",\"type\":\"Image\"}],\"root_ids\":[\"1798\",\"1925\"]},\"title\":\"Bokeh Application\",\"version\":\"2.4.2\"}};\n",
       "    var render_items = [{\"docid\":\"772e5d51-a585-4df9-afeb-7b4a11a04c7a\",\"root_ids\":[\"1798\"],\"roots\":{\"1798\":\"4203e60a-2cf8-4a24-a451-db263a3e2913\"}}];\n",
       "    root.Bokeh.embed.embed_items_notebook(docs_json, render_items);\n",
       "  }\n",
       "  if (root.Bokeh !== undefined && root.Bokeh.Panel !== undefined) {\n",
       "    embed_document(root);\n",
       "  } else {\n",
       "    var attempts = 0;\n",
       "    var timer = setInterval(function(root) {\n",
       "      if (root.Bokeh !== undefined && root.Bokeh.Panel !== undefined) {\n",
       "        clearInterval(timer);\n",
       "        embed_document(root);\n",
       "      } else if (document.readyState == \"complete\") {\n",
       "        attempts++;\n",
       "        if (attempts > 200) {\n",
       "          clearInterval(timer);\n",
       "          console.log(\"Bokeh: ERROR: Unable to run BokehJS code because BokehJS library is missing\");\n",
       "        }\n",
       "      }\n",
       "    }, 25, root)\n",
       "  }\n",
       "})(window);</script>"
      ],
      "text/plain": [
       ":DynamicMap   [time]\n",
       "   :Image   [lon,lat]   (gssh_mu)"
      ]
     },
     "execution_count": 90,
     "metadata": {
      "application/vnd.holoviews_exec.v0+json": {
       "id": "1798"
      }
     },
     "output_type": "execute_result"
    }
   ],
   "source": [
    "ds_oi_grid.gssh_mu.hvplot.image(width=500, height=400, cmap=\"RdBu_r\")"
   ]
  },
  {
   "cell_type": "markdown",
   "id": "41427664-4176-4a7f-96eb-6b1e49a31687",
   "metadata": {},
   "source": [
    "## GP Model"
   ]
  },
  {
   "cell_type": "code",
   "execution_count": null,
   "id": "01050ea7-f600-4f08-9a3f-bb0a298d0dd3",
   "metadata": {},
   "outputs": [],
   "source": [
    "# initialize kernel\n",
    "\n",
    "\n",
    "# initialize mean functions\n",
    "\n",
    "\n",
    "# initialize covariance function\n",
    "\n",
    "\n",
    "\n",
    "# initialize gp model\n",
    "\n",
    "\n",
    "\n",
    "# initialize gp model with training data\n",
    "\n",
    "\n"
   ]
  },
  {
   "cell_type": "markdown",
   "id": "f08fd4de-2337-4d9d-a636-845b1936d7d5",
   "metadata": {},
   "source": [
    "### Model I - ARD Kernel"
   ]
  },
  {
   "cell_type": "code",
   "execution_count": 15,
   "id": "9747d4ea-3df9-47a1-bda8-ff7075171aeb",
   "metadata": {},
   "outputs": [
    {
     "name": "stdout",
     "output_type": "stream",
     "text": [
      "RBFKernel(\n",
      "  (raw_lengthscale_constraint): Positive()\n",
      ")\n"
     ]
    },
    {
     "data": {
      "text/plain": [
       "(GPRegressionModel(\n",
       "   (likelihood): GaussianLikelihood(\n",
       "     (noise_covar): HomoskedasticNoise(\n",
       "       (raw_noise_constraint): GreaterThan(1.000E-04)\n",
       "     )\n",
       "   )\n",
       "   (mean_module): ConstantMean()\n",
       "   (covar_module): RBFKernel(\n",
       "     (raw_lengthscale_constraint): Positive()\n",
       "     (distance_module): Distance()\n",
       "   )\n",
       " ),\n",
       " GaussianLikelihood(\n",
       "   (noise_covar): HomoskedasticNoise(\n",
       "     (raw_noise_constraint): GreaterThan(1.000E-04)\n",
       "   )\n",
       " ))"
      ]
     },
     "execution_count": 15,
     "metadata": {},
     "output_type": "execute_result"
    }
   ],
   "source": [
    "gp_params = gp_model_factory(model=\"exact\")\n",
    "gp_params.length_scale = [oi_params.Lt, oi_params.Lx, oi_params.Ly]\n",
    "model, likelihood = init_exact_gp(gp_params)\n",
    "\n",
    "model = model(train_x, train_y)\n",
    "with torch.no_grad():\n",
    "    dist = model(train_x)\n",
    "    cov_ard = dist.covariance_matrix.numpy()\n",
    "model, likelihood"
   ]
  },
  {
   "cell_type": "code",
   "execution_count": 16,
   "id": "2311d6da-c799-494a-955e-ca1e266b0e3b",
   "metadata": {},
   "outputs": [
    {
     "data": {
      "image/png": "[encoded data removed]",
      "text/plain": [
       "<Figure size 432x288 with 2 Axes>"
      ]
     },
     "metadata": {
      "needs_background": "light"
     },
     "output_type": "display_data"
    }
   ],
   "source": [
    "fig, ax = plt.subplots()\n",
    "\n",
    "img = ax.imshow(cov_ard, cmap=\"Reds\")\n",
    "plt.colorbar(img)\n",
    "plt.tight_layout()\n",
    "plt.show()"
   ]
  },
  {
   "cell_type": "markdown",
   "id": "cf1616da-06df-4286-b8f4-7eacf6a13e97",
   "metadata": {},
   "source": [
    "### Model II - Spatio-Temporal Kernel (Product)"
   ]
  },
  {
   "cell_type": "code",
   "execution_count": 37,
   "id": "e9583071-fbcf-4a3f-9fd0-5ff8a487e16c",
   "metadata": {},
   "outputs": [
    {
     "data": {
      "text/plain": [
       "(GPRegressionModel(\n",
       "   (likelihood): GaussianLikelihood(\n",
       "     (noise_covar): HomoskedasticNoise(\n",
       "       (raw_noise_constraint): GreaterThan(1.000E-04)\n",
       "     )\n",
       "   )\n",
       "   (mean_module): ConstantMean()\n",
       "   (covar_module): ProductKernel(\n",
       "     (kernels): ModuleList(\n",
       "       (0): RBFKernel(\n",
       "         (raw_lengthscale_constraint): Positive()\n",
       "         (distance_module): Distance()\n",
       "       )\n",
       "       (1): RBFKernel(\n",
       "         (raw_lengthscale_constraint): Positive()\n",
       "         (distance_module): Distance()\n",
       "       )\n",
       "     )\n",
       "   )\n",
       " ),\n",
       " GaussianLikelihood(\n",
       "   (noise_covar): HomoskedasticNoise(\n",
       "     (raw_noise_constraint): GreaterThan(1.000E-04)\n",
       "   )\n",
       " ))"
      ]
     },
     "execution_count": 37,
     "metadata": {},
     "output_type": "execute_result"
    }
   ],
   "source": [
    "gp_params = gp_model_factory(model=\"exact\")\n",
    "gp_params.length_scale = [oi_params.Lt, oi_params.Lx, oi_params.Ly]\n",
    "# model, likelihood = init_exact_gp(gp_params)\n",
    "model, likelihood = init_exact_spatiotemp_gp(gp_params)\n",
    "model = model(train_x, train_y)\n",
    "\n",
    "with torch.no_grad():\n",
    "    dist = model(train_x)\n",
    "    cov_spatemp = dist.covariance_matrix.numpy()\n",
    "model, likelihood"
   ]
  },
  {
   "cell_type": "code",
   "execution_count": 38,
   "id": "fed4097d-b5f0-4269-9141-b86297ec1253",
   "metadata": {},
   "outputs": [
    {
     "data": {
      "image/png": "[encoded data removed]",
      "text/plain": [
       "<Figure size 432x288 with 2 Axes>"
      ]
     },
     "metadata": {
      "needs_background": "light"
     },
     "output_type": "display_data"
    }
   ],
   "source": [
    "fig, ax = plt.subplots()\n",
    "\n",
    "img = ax.imshow(cov_spatemp, cmap=\"Reds\")\n",
    "plt.colorbar(img)\n",
    "plt.tight_layout()\n",
    "plt.show()"
   ]
  },
  {
   "cell_type": "markdown",
   "id": "67ba23b3-3f9b-4a2d-975b-94972e147851",
   "metadata": {},
   "source": [
    "### Model III - Spatio-Temporal Kernel (All Products)"
   ]
  },
  {
   "cell_type": "code",
   "execution_count": null,
   "id": "5f535aa8-0e01-40c9-8930-c56bdf202f57",
   "metadata": {},
   "outputs": [],
   "source": [
    "gp_params = gp_model_factory(model=\"exact\")\n",
    "gp_params.length_scale = [oi_params.Lt, oi_params.Lx, oi_params.Ly]\n",
    "model, likelihood = init_exact_prod_gp(gp_params)\n",
    "model = model(train_x, train_y)\n",
    "\n",
    "with torch.no_grad():\n",
    "    dist = model(train_x)\n",
    "    cov_prod = dist.covariance_matrix.numpy()\n",
    "model, likelihood"
   ]
  },
  {
   "cell_type": "code",
   "execution_count": 60,
   "id": "499fe7d9-5161-40b9-9d4a-5f7568a8a75e",
   "metadata": {},
   "outputs": [
    {
     "name": "stdout",
     "output_type": "stream",
     "text": [
      "ERROR! Session/line number was not unique in database. History logging moved to new session 41\n"
     ]
    },
    {
     "ename": "NameError",
     "evalue": "name 'cov_prod' is not defined",
     "output_type": "error",
     "traceback": [
      "\u001b[0;31m---------------------------------------------------------------------------\u001b[0m",
      "\u001b[0;31mNameError\u001b[0m                                 Traceback (most recent call last)",
      "Input \u001b[0;32mIn [60]\u001b[0m, in \u001b[0;36m<cell line: 3>\u001b[0;34m()\u001b[0m\n\u001b[1;32m      1\u001b[0m fig, ax \u001b[38;5;241m=\u001b[39m plt\u001b[38;5;241m.\u001b[39msubplots()\n\u001b[0;32m----> 3\u001b[0m img \u001b[38;5;241m=\u001b[39m ax\u001b[38;5;241m.\u001b[39mimshow(\u001b[43mcov_prod\u001b[49m, cmap\u001b[38;5;241m=\u001b[39m\u001b[38;5;124m\"\u001b[39m\u001b[38;5;124mReds\u001b[39m\u001b[38;5;124m\"\u001b[39m)\n\u001b[1;32m      4\u001b[0m plt\u001b[38;5;241m.\u001b[39mcolorbar(img)\n\u001b[1;32m      5\u001b[0m plt\u001b[38;5;241m.\u001b[39mtight_layout()\n",
      "\u001b[0;31mNameError\u001b[0m: name 'cov_prod' is not defined"
     ]
    },
    {
     "data": {
      "image/png": "[encoded data removed]",
      "text/plain": [
       "<Figure size 432x288 with 1 Axes>"
      ]
     },
     "metadata": {
      "needs_background": "light"
     },
     "output_type": "display_data"
    }
   ],
   "source": [
    "fig, ax = plt.subplots()\n",
    "\n",
    "img = ax.imshow(cov_prod, cmap=\"Reds\")\n",
    "plt.colorbar(img)\n",
    "plt.tight_layout()\n",
    "plt.show()"
   ]
  },
  {
   "cell_type": "code",
   "execution_count": 39,
   "id": "6f970998-058f-4b51-83b9-69342487c3f4",
   "metadata": {},
   "outputs": [
    {
     "data": {
      "text/plain": [
       "tensor([[1.0000, 0.9983, 0.9933,  ..., 0.0550, 0.0634, 0.0729],\n",
       "        [0.9983, 1.0000, 0.9983,  ..., 0.0631, 0.0725, 0.0829],\n",
       "        [0.9933, 0.9983, 1.0000,  ..., 0.0721, 0.0825, 0.0941],\n",
       "        ...,\n",
       "        [0.0550, 0.0631, 0.0721,  ..., 1.0000, 0.9980, 0.9920],\n",
       "        [0.0634, 0.0725, 0.0825,  ..., 0.9980, 1.0000, 0.9980],\n",
       "        [0.0729, 0.0829, 0.0941,  ..., 0.9920, 0.9980, 1.0000]],\n",
       "       grad_fn=<MulBackward0>)"
      ]
     },
     "execution_count": 39,
     "metadata": {},
     "output_type": "execute_result"
    }
   ],
   "source": [
    "dist.covariance_matrix"
   ]
  },
  {
   "cell_type": "code",
   "execution_count": 61,
   "id": "0ef0b455-f41a-4a00-822f-7b8b4f9cec54",
   "metadata": {},
   "outputs": [
    {
     "data": {},
     "metadata": {},
     "output_type": "display_data"
    },
    {
     "data": {
      "application/vnd.holoviews_exec.v0+json": "",
      "text/html": [
       "<div id='1002'>\n",
       "\n",
       "\n",
       "\n",
       "\n",
       "\n",
       "  <div class=\"bk-root\" id=\"87953e17-2858-46eb-8875-b59594eeb043\" data-root-id=\"1002\"></div>\n",
       "</div>\n",
       "<script type=\"application/javascript\">(function(root) {\n",
       "  function embed_document(root) {\n",
       "    var docs_json = {\"2736dbc9-9a9a-418e-a036-7c2562a836bc\":{\"defs\":[{\"extends\":null,\"module\":null,\"name\":\"ReactiveHTML1\",\"overrides\":[],\"properties\":[]},{\"extends\":null,\"module\":null,\"name\":\"FlexBox1\",\"overrides\":[],\"properties\":[{\"default\":\"flex-start\",\"kind\":null,\"name\":\"align_content\"},{\"default\":\"flex-start\",\"kind\":null,\"name\":\"align_items\"},{\"default\":\"row\",\"kind\":null,\"name\":\"flex_direction\"},{\"default\":\"wrap\",\"kind\":null,\"name\":\"flex_wrap\"},{\"default\":\"flex-start\",\"kind\":null,\"name\":\"justify_content\"}]},{\"extends\":null,\"module\":null,\"name\":\"TemplateActions1\",\"overrides\":[],\"properties\":[{\"default\":0,\"kind\":null,\"name\":\"open_modal\"},{\"default\":0,\"kind\":null,\"name\":\"close_modal\"}]},{\"extends\":null,\"module\":null,\"name\":\"MaterialTemplateActions1\",\"overrides\":[],\"properties\":[{\"default\":0,\"kind\":null,\"name\":\"open_modal\"},{\"default\":0,\"kind\":null,\"name\":\"close_modal\"}]}],\"roots\":{\"references\":[{\"attributes\":{},\"id\":\"1028\",\"type\":\"ResetTool\"},{\"attributes\":{\"args\":{\"bidirectional\":false,\"properties\":{},\"source\":{\"id\":\"1093\"},\"target\":{\"id\":\"1092\"}},\"code\":\"try { \\n    var labels = ['time: <b>2017-01-01 00:00:00</b>', 'time: <b>2017-01-02 00:00:00</b>', 'time: <b>2017-01-03 00:00:00</b>', 'time: <b>2017-01-04 00:00:00</b>', 'time: <b>2017-01-05 00:00:00</b>', 'time: <b>2017-01-06 00:00:00</b>', 'time: <b>2017-01-07 00:00:00</b>', 'time: <b>2017-01-08 00:00:00</b>', 'time: <b>2017-01-09 00:00:00</b>', 'time: <b>2017-01-10 00:00:00</b>', 'time: <b>2017-01-11 00:00:00</b>', 'time: <b>2017-01-12 00:00:00</b>', 'time: <b>2017-01-13 00:00:00</b>', 'time: <b>2017-01-14 00:00:00</b>', 'time: <b>2017-01-15 00:00:00</b>', 'time: <b>2017-01-16 00:00:00</b>', 'time: <b>2017-01-17 00:00:00</b>', 'time: <b>2017-01-18 00:00:00</b>', 'time: <b>2017-01-19 00:00:00</b>', 'time: <b>2017-01-20 00:00:00</b>', 'time: <b>2017-01-21 00:00:00</b>', 'time: <b>2017-01-22 00:00:00</b>', 'time: <b>2017-01-23 00:00:00</b>', 'time: <b>2017-01-24 00:00:00</b>', 'time: <b>2017-01-25 00:00:00</b>', 'time: <b>2017-01-26 00:00:00</b>', 'time: <b>2017-01-27 00:00:00</b>', 'time: <b>2017-01-28 00:00:00</b>', 'time: <b>2017-01-29 00:00:00</b>', 'time: <b>2017-01-30 00:00:00</b>', 'time: <b>2017-01-31 00:00:00</b>']\\n    target.text = labels[source.value]\\n     } catch(err) { console.log(err) }\",\"tags\":[139745867913296]},\"id\":\"1106\",\"type\":\"CustomJS\"},{\"attributes\":{},\"id\":\"1021\",\"type\":\"BasicTicker\"},{\"attributes\":{},\"id\":\"1039\",\"type\":\"Selection\"},{\"attributes\":{\"bottom_units\":\"screen\",\"coordinates\":null,\"fill_alpha\":0.5,\"fill_color\":\"lightgrey\",\"group\":null,\"left_units\":\"screen\",\"level\":\"overlay\",\"line_alpha\":1.0,\"line_color\":\"black\",\"line_dash\":[4,4],\"line_width\":2,\"right_units\":\"screen\",\"syncable\":false,\"top_units\":\"screen\"},\"id\":\"1029\",\"type\":\"BoxAnnotation\"},{\"attributes\":{\"color_mapper\":{\"id\":\"1037\"},\"dh\":{\"field\":\"dh\"},\"dw\":{\"field\":\"dw\"},\"global_alpha\":{\"value\":0.1},\"image\":{\"field\":\"image\"},\"x\":{\"field\":\"x\"},\"y\":{\"field\":\"y\"}},\"id\":\"1043\",\"type\":\"Image\"},{\"attributes\":{\"bar_line_color\":\"black\",\"color_mapper\":{\"id\":\"1037\"},\"coordinates\":null,\"group\":null,\"label_standoff\":8,\"location\":[0,0],\"major_label_policy\":{\"id\":\"1069\"},\"major_tick_line_color\":\"black\",\"ticker\":{\"id\":\"1049\"}},\"id\":\"1050\",\"type\":\"ColorBar\"},{\"attributes\":{\"axis_label\":\"lon\",\"coordinates\":null,\"formatter\":{\"id\":\"1054\"},\"group\":null,\"major_label_policy\":{\"id\":\"1055\"},\"ticker\":{\"id\":\"1017\"}},\"id\":\"1016\",\"type\":\"LinearAxis\"},{\"attributes\":{\"high\":0.09780237823724747,\"low\":-0.1031917929649353,\"nan_color\":\"rgba(0, 0, 0, 0)\",\"palette\":[\"#053061\",\"#063263\",\"#073466\",\"#083669\",\"#09386c\",\"#0a3a6f\",\"#0b3c72\",\"#0c3e75\",\"#0d4078\",\"#0e437b\",\"#0f457e\",\"#114781\",\"#124984\",\"#134b87\",\"#144d8a\",\"#154f8d\",\"#165190\",\"#175493\",\"#185695\",\"#195898\",\"#1a5a9b\",\"#1c5c9e\",\"#1d5ea1\",\"#1e60a4\",\"#1f62a7\",\"#2064aa\",\"#2166ac\",\"#2368ad\",\"#246aae\",\"#256caf\",\"#276db0\",\"#286fb0\",\"#2971b1\",\"#2b73b2\",\"#2c75b3\",\"#2d76b4\",\"#2f78b5\",\"#307ab6\",\"#317cb7\",\"#337db8\",\"#347fb9\",\"#3581b9\",\"#3783ba\",\"#3884bb\",\"#3986bc\",\"#3b88bd\",\"#3c8abe\",\"#3d8bbf\",\"#3f8dc0\",\"#408fc1\",\"#4191c2\",\"#4393c3\",\"#4694c4\",\"#4996c5\",\"#4c98c6\",\"#4f9ac7\",\"#529cc8\",\"#559ec9\",\"#58a0ca\",\"#5ba2cb\",\"#5ea4cc\",\"#61a6cd\",\"#65a8ce\",\"#68aacf\",\"#6bacd0\",\"#6eaed1\",\"#71b0d2\",\"#74b2d3\",\"#77b4d5\",\"#7ab6d6\",\"#7db8d7\",\"#80bad8\",\"#84bcd9\",\"#87beda\",\"#8ac0db\",\"#8dc2dc\",\"#90c4dd\",\"#93c5de\",\"#95c6df\",\"#98c8df\",\"#9ac9e0\",\"#9dcae1\",\"#9fcbe1\",\"#a2cde2\",\"#a4cee3\",\"#a7cfe4\",\"#a9d0e4\",\"#abd2e5\",\"#aed3e6\",\"#b0d4e6\",\"#b3d5e7\",\"#b5d7e8\",\"#b8d8e8\",\"#bad9e9\",\"#bddaea\",\"#bfdceb\",\"#c2ddeb\",\"#c4deec\",\"#c7dfed\",\"#c9e1ed\",\"#cce2ee\",\"#cee3ef\",\"#d1e5f0\",\"#d2e5f0\",\"#d3e6f0\",\"#d5e7f0\",\"#d6e7f1\",\"#d8e8f1\",\"#d9e9f1\",\"#dbe9f1\",\"#dceaf2\",\"#deebf2\",\"#dfecf2\",\"#e1ecf3\",\"#e2edf3\",\"#e4eef3\",\"#e5eef3\",\"#e7eff4\",\"#e8f0f4\",\"#eaf1f4\",\"#ebf1f4\",\"#edf2f5\",\"#eef3f5\",\"#f0f3f5\",\"#f1f4f6\",\"#f3f5f6\",\"#f4f5f6\",\"#f6f6f6\",\"#f7f6f6\",\"#f7f5f4\",\"#f7f4f2\",\"#f7f3f0\",\"#f8f2ee\",\"#f8f0ec\",\"#f8efea\",\"#f8eee8\",\"#f9ede7\",\"#f9ece5\",\"#f9ebe3\",\"#f9eae1\",\"#f9e9df\",\"#fae8dd\",\"#fae7db\",\"#fae5d9\",\"#fae4d7\",\"#fbe3d6\",\"#fbe2d4\",\"#fbe1d2\",\"#fbe0d0\",\"#fcdfce\",\"#fcdecc\",\"#fcddca\",\"#fcdcc8\",\"#fddbc7\",\"#fcd8c4\",\"#fcd6c1\",\"#fbd4be\",\"#fbd2bc\",\"#fbd0b9\",\"#faceb6\",\"#faccb4\",\"#facab1\",\"#f9c7ae\",\"#f9c5ab\",\"#f9c3a9\",\"#f8c1a6\",\"#f8bfa3\",\"#f8bda1\",\"#f7bb9e\",\"#f7b99b\",\"#f7b799\",\"#f6b496\",\"#f6b293\",\"#f5b090\",\"#f5ae8e\",\"#f5ac8b\",\"#f4aa88\",\"#f4a886\",\"#f4a683\",\"#f3a380\",\"#f2a07e\",\"#f19e7c\",\"#ef9b7a\",\"#ee9878\",\"#ed9676\",\"#ec9374\",\"#eb9072\",\"#ea8e70\",\"#e88b6e\",\"#e7886c\",\"#e6856a\",\"#e58368\",\"#e48065\",\"#e27d63\",\"#e17b61\",\"#e0785f\",\"#df755d\",\"#de725b\",\"#dd7059\",\"#db6d57\",\"#da6a55\",\"#d96853\",\"#d86551\",\"#d7624f\",\"#d6604d\",\"#d45d4b\",\"#d35a4a\",\"#d15749\",\"#d05447\",\"#ce5146\",\"#cd4f45\",\"#cc4c43\",\"#ca4942\",\"#c94641\",\"#c7433f\",\"#c6403e\",\"#c53e3c\",\"#c33b3b\",\"#c2383a\",\"#c03538\",\"#bf3237\",\"#be3036\",\"#bc2d34\",\"#bb2a33\",\"#b92732\",\"#b82431\",\"#b6212f\",\"#b51f2e\",\"#b41c2d\",\"#b2192b\",\"#b0172a\",\"#ad162a\",\"#aa1529\",\"#a71429\",\"#a41328\",\"#a11228\",\"#9e1127\",\"#9b1027\",\"#991027\",\"#960f26\",\"#930e26\",\"#900d25\",\"#8d0c25\",\"#8a0b24\",\"#870a24\",\"#840923\",\"#810823\",\"#7e0722\",\"#7b0622\",\"#780521\",\"#750421\",\"#720320\",\"#6f0220\",\"#6c011f\",\"#69001f\",\"#67001f\"]},\"id\":\"1037\",\"type\":\"LinearColorMapper\"},{\"attributes\":{},\"id\":\"1012\",\"type\":\"LinearScale\"},{\"attributes\":{\"axis\":{\"id\":\"1016\"},\"coordinates\":null,\"grid_line_color\":null,\"group\":null,\"ticker\":null},\"id\":\"1019\",\"type\":\"Grid\"},{\"attributes\":{\"client_comm_id\":\"8358da7cd72f42b9a0d9147b69988cfd\",\"comm_id\":\"00c77973f5f54d659c355ea78d3cb854\",\"plot_id\":\"1002\"},\"id\":\"1129\",\"type\":\"panel.models.comm_manager.CommManager\"},{\"attributes\":{},\"id\":\"1058\",\"type\":\"AllLabels\"},{\"attributes\":{},\"id\":\"1024\",\"type\":\"SaveTool\"},{\"attributes\":{\"end\":30,\"js_property_callbacks\":{\"change:value\":[{\"id\":\"1106\"}]},\"margin\":[0,20,20,20],\"min_width\":250,\"show_value\":false,\"start\":0,\"tooltips\":false,\"value\":0,\"width\":250},\"id\":\"1093\",\"type\":\"Slider\"},{\"attributes\":{\"color_mapper\":{\"id\":\"1037\"},\"dh\":{\"field\":\"dh\"},\"dw\":{\"field\":\"dw\"},\"global_alpha\":{\"value\":0.2},\"image\":{\"field\":\"image\"},\"x\":{\"field\":\"x\"},\"y\":{\"field\":\"y\"}},\"id\":\"1045\",\"type\":\"Image\"},{\"attributes\":{},\"id\":\"1069\",\"type\":\"NoOverlap\"},{\"attributes\":{\"axis_label\":\"lat\",\"coordinates\":null,\"formatter\":{\"id\":\"1057\"},\"group\":null,\"major_label_policy\":{\"id\":\"1058\"},\"ticker\":{\"id\":\"1021\"}},\"id\":\"1020\",\"type\":\"LinearAxis\"},{\"attributes\":{},\"id\":\"1055\",\"type\":\"AllLabels\"},{\"attributes\":{\"end\":305.09999999999945,\"reset_end\":305.09999999999945,\"reset_start\":294.9,\"start\":294.9,\"tags\":[[[\"lon\",\"lon\",null]]]},\"id\":\"1004\",\"type\":\"Range1d\"},{\"attributes\":{},\"id\":\"1026\",\"type\":\"WheelZoomTool\"},{\"attributes\":{},\"id\":\"1057\",\"type\":\"BasicTickFormatter\"},{\"attributes\":{\"data\":{\"dh\":[10.400000000000148],\"dw\":[10.199999999999477],\"image\":[{\"__ndarray__\":\"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\",\"dtype\":\"float64\",\"order\":\"little\",\"shape\":[52,51]}],\"x\":[294.9],\"y\":[32.9]},\"selected\":{\"id\":\"1039\"},\"selection_policy\":{\"id\":\"1073\"}},\"id\":\"1038\",\"type\":\"ColumnDataSource\"},{\"attributes\":{},\"id\":\"1049\",\"type\":\"BasicTicker\"},{\"attributes\":{},\"id\":\"1025\",\"type\":\"PanTool\"},{\"attributes\":{\"margin\":[5,5,5,5],\"name\":\"VSpacer01591\",\"sizing_mode\":\"stretch_height\"},\"id\":\"1094\",\"type\":\"Spacer\"},{\"attributes\":{},\"id\":\"1073\",\"type\":\"UnionRenderers\"},{\"attributes\":{\"source\":{\"id\":\"1038\"}},\"id\":\"1048\",\"type\":\"CDSView\"},{\"attributes\":{\"callback\":null,\"renderers\":[{\"id\":\"1047\"}],\"tags\":[\"hv_created\"],\"tooltips\":[[\"lon\",\"$x\"],[\"lat\",\"$y\"],[\"gssh_mu\",\"@image\"]]},\"id\":\"1006\",\"type\":\"HoverTool\"},{\"attributes\":{\"color_mapper\":{\"id\":\"1037\"},\"dh\":{\"field\":\"dh\"},\"dw\":{\"field\":\"dw\"},\"image\":{\"field\":\"image\"},\"x\":{\"field\":\"x\"},\"y\":{\"field\":\"y\"}},\"id\":\"1041\",\"type\":\"Image\"},{\"attributes\":{\"axis\":{\"id\":\"1020\"},\"coordinates\":null,\"dimension\":1,\"grid_line_color\":null,\"group\":null,\"ticker\":null},\"id\":\"1023\",\"type\":\"Grid\"},{\"attributes\":{\"coordinates\":null,\"data_source\":{\"id\":\"1038\"},\"glyph\":{\"id\":\"1041\"},\"group\":null,\"hover_glyph\":null,\"muted_glyph\":{\"id\":\"1045\"},\"nonselection_glyph\":{\"id\":\"1043\"},\"selection_glyph\":{\"id\":\"1051\"},\"view\":{\"id\":\"1048\"}},\"id\":\"1047\",\"type\":\"GlyphRenderer\"},{\"attributes\":{},\"id\":\"1054\",\"type\":\"BasicTickFormatter\"},{\"attributes\":{\"overlay\":{\"id\":\"1029\"}},\"id\":\"1027\",\"type\":\"BoxZoomTool\"},{\"attributes\":{\"margin\":[5,5,5,5],\"name\":\"VSpacer01590\",\"sizing_mode\":\"stretch_height\"},\"id\":\"1089\",\"type\":\"Spacer\"},{\"attributes\":{\"children\":[{\"id\":\"1089\"},{\"id\":\"1090\"},{\"id\":\"1094\"}],\"margin\":[0,0,0,0],\"name\":\"Column01592\"},\"id\":\"1088\",\"type\":\"Column\"},{\"attributes\":{},\"id\":\"1014\",\"type\":\"LinearScale\"},{\"attributes\":{\"end\":43.300000000000146,\"reset_end\":43.300000000000146,\"reset_start\":32.9,\"start\":32.9,\"tags\":[[[\"lat\",\"lat\",null]]]},\"id\":\"1005\",\"type\":\"Range1d\"},{\"attributes\":{\"margin\":[5,5,5,5],\"name\":\"HSpacer01593\",\"sizing_mode\":\"stretch_width\"},\"id\":\"1003\",\"type\":\"Spacer\"},{\"attributes\":{\"children\":[{\"id\":\"1092\"},{\"id\":\"1093\"}],\"margin\":[0,0,0,0],\"min_width\":290,\"name\":\"Column01587\",\"width\":290},\"id\":\"1091\",\"type\":\"Column\"},{\"attributes\":{\"margin\":[5,5,5,5],\"name\":\"HSpacer01594\",\"sizing_mode\":\"stretch_width\"},\"id\":\"1087\",\"type\":\"Spacer\"},{\"attributes\":{\"margin\":[20,0,0,20],\"name\":\"\",\"style\":{\"white-space\":\"nowrap\"},\"text\":\"time: <b>2017-01-01 00:00:00</b>\",\"width\":250},\"id\":\"1092\",\"type\":\"Div\"},{\"attributes\":{\"color_mapper\":{\"id\":\"1037\"},\"dh\":{\"field\":\"dh\"},\"dw\":{\"field\":\"dw\"},\"global_alpha\":{\"value\":1.0},\"image\":{\"field\":\"image\"},\"x\":{\"field\":\"x\"},\"y\":{\"field\":\"y\"}},\"id\":\"1051\",\"type\":\"Image\"},{\"attributes\":{\"coordinates\":null,\"group\":null,\"text\":\"time: 2017-01-01 00:00:00\",\"text_color\":\"black\",\"text_font_size\":\"12pt\"},\"id\":\"1008\",\"type\":\"Title\"},{\"attributes\":{\"tools\":[{\"id\":\"1006\"},{\"id\":\"1024\"},{\"id\":\"1025\"},{\"id\":\"1026\"},{\"id\":\"1027\"},{\"id\":\"1028\"}]},\"id\":\"1030\",\"type\":\"Toolbar\"},{\"attributes\":{},\"id\":\"1017\",\"type\":\"BasicTicker\"},{\"attributes\":{\"below\":[{\"id\":\"1016\"}],\"center\":[{\"id\":\"1019\"},{\"id\":\"1023\"}],\"height\":400,\"left\":[{\"id\":\"1020\"}],\"margin\":[5,5,5,5],\"min_border_bottom\":10,\"min_border_left\":10,\"min_border_right\":10,\"min_border_top\":10,\"renderers\":[{\"id\":\"1047\"}],\"right\":[{\"id\":\"1050\"}],\"sizing_mode\":\"fixed\",\"title\":{\"id\":\"1008\"},\"toolbar\":{\"id\":\"1030\"},\"width\":500,\"x_range\":{\"id\":\"1004\"},\"x_scale\":{\"id\":\"1012\"},\"y_range\":{\"id\":\"1005\"},\"y_scale\":{\"id\":\"1014\"}},\"id\":\"1007\",\"subtype\":\"Figure\",\"type\":\"Plot\"},{\"attributes\":{\"children\":[{\"id\":\"1003\"},{\"id\":\"1007\"},{\"id\":\"1087\"},{\"id\":\"1088\"}],\"margin\":[0,0,0,0],\"name\":\"Row01577\"},\"id\":\"1002\",\"type\":\"Row\"},{\"attributes\":{\"children\":[{\"id\":\"1091\"}],\"css_classes\":[\"panel-widget-box\"],\"margin\":[5,5,5,5],\"name\":\"WidgetBox01578\"},\"id\":\"1090\",\"type\":\"Column\"}],\"root_ids\":[\"1002\",\"1129\"]},\"title\":\"Bokeh Application\",\"version\":\"2.4.2\"}};\n",
       "    var render_items = [{\"docid\":\"2736dbc9-9a9a-418e-a036-7c2562a836bc\",\"root_ids\":[\"1002\"],\"roots\":{\"1002\":\"87953e17-2858-46eb-8875-b59594eeb043\"}}];\n",
       "    root.Bokeh.embed.embed_items_notebook(docs_json, render_items);\n",
       "  }\n",
       "  if (root.Bokeh !== undefined && root.Bokeh.Panel !== undefined) {\n",
       "    embed_document(root);\n",
       "  } else {\n",
       "    var attempts = 0;\n",
       "    var timer = setInterval(function(root) {\n",
       "      if (root.Bokeh !== undefined && root.Bokeh.Panel !== undefined) {\n",
       "        clearInterval(timer);\n",
       "        embed_document(root);\n",
       "      } else if (document.readyState == \"complete\") {\n",
       "        attempts++;\n",
       "        if (attempts > 200) {\n",
       "          clearInterval(timer);\n",
       "          console.log(\"Bokeh: ERROR: Unable to run BokehJS code because BokehJS library is missing\");\n",
       "        }\n",
       "      }\n",
       "    }, 25, root)\n",
       "  }\n",
       "})(window);</script>"
      ],
      "text/plain": [
       ":DynamicMap   [time]\n",
       "   :Image   [lon,lat]   (gssh_mu)"
      ]
     },
     "execution_count": 61,
     "metadata": {
      "application/vnd.holoviews_exec.v0+json": {
       "id": "1002"
      }
     },
     "output_type": "execute_result"
    }
   ],
   "source": []
  },
  {
   "cell_type": "code",
   "execution_count": null,
   "id": "5dcc2218-7535-4be1-8c66-2fbdc4721c82",
   "metadata": {},
   "outputs": [],
   "source": [
    "# from dataclasses import dataclass, field\n",
    "# from typing import Optional, List\n",
    "# from kernellib.models.means import mean_fn_factory\n",
    "# from kernellib.models.kernels import kernel_fn_factory\n",
    "# from kernellib.models.exact import get_exact_gp\n",
    "# from kernellib.models import gp_model_factory\n",
    "\n",
    "\n",
    "# @dataclass\n",
    "# class GPModel:\n",
    "#     mean_fn: str = \"constant\"\n",
    "#     kernel_fn: str = \"rbf\"\n",
    "#     ard_dims: int = 3\n",
    "#     length_scale: Optional[List[float]] = field(default_factory=list)\n",
    "#     scale: bool = True\n",
    "#     likelihood: str = \"gaussian\"\n",
    "#     noise: int = 0.05\n",
    "#     model: str = \"exact\"\n",
    "    \n",
    "#     def init_mean_fn(self):\n",
    "#         return mean_fn_factory(self.mean_fn)\n",
    "    \n",
    "#     def init_kernel_fn(self):\n",
    "#         # initialize kernel function\n",
    "#         kernel = kernel_fn_factory(self.kernel_fn, self.ard_dims)\n",
    "        \n",
    "#         # set default lengthscale\n",
    "#         kernel.lengthscale = self.length_scale\n",
    "\n",
    "#         return kernel\n",
    "    \n",
    "#     def init_likelihood_fn(self):\n",
    "#         # initialize likelihood function\n",
    "#         likelihood = gpytorch.likelihoods.GaussianLikelihood()\n",
    "#         # set noise level\n",
    "#         likelihood.noise = self.noise\n",
    "#         return likelihood\n",
    "    \n",
    "#     def init_gp_model(self, train_x, train_y):\n",
    "#         # init likelihood, mean, kernel\n",
    "#         likelihood = self.init_likelihood_fn()\n",
    "#         mean = self.init_mean_fn()\n",
    "#         kernel = self.init_kernel_fn()\n",
    "        \n",
    "#         # model init\n",
    "#         model = gp_model_factory(self.model)(mean, kernel, likelihood)\n",
    "\n",
    "        \n",
    "#         return model(train_x, train_y), likelihood\n",
    "    \n",
    "    "
   ]
  },
  {
   "cell_type": "code",
   "execution_count": null,
   "id": "d92f1203-d26a-49fb-a929-d6ebeb836069",
   "metadata": {},
   "outputs": [],
   "source": [
    "if smoke_test:\n",
    "    SAVE_PATH = Path(file_params.results_dir).joinpath(\"OSE_ssh_mapping_BASELINE_test.nc\")\n",
    "else:\n",
    "    SAVE_PATH = Path(file_params.results_dir).joinpath(\"OSE_ssh_mapping_BASELINE.nc\")\n",
    "\n",
    "# ML MODEL\n",
    "ds_oi_grid.to_netcdf(file_params.results_dir)\n"
   ]
  },
  {
   "cell_type": "code",
   "execution_count": null,
   "id": "d190cd9d-0ae7-430c-be3c-8205dfa0110f",
   "metadata": {},
   "outputs": [],
   "source": [
    "model"
   ]
  },
  {
   "cell_type": "code",
   "execution_count": null,
   "id": "d66535f5-1c71-47e4-a8e6-23a576ae97d2",
   "metadata": {},
   "outputs": [],
   "source": [
    "%%time\n",
    "from kernellib.models.utils import gp_batch_predict, gp_samples\n",
    "\n",
    "y_mu, y_var = gp_batch_predict(model, likelihood, test_x, n_batches_pred)"
   ]
  },
  {
   "cell_type": "code",
   "execution_count": null,
   "id": "0516ca2a-8ac5-4b0a-8d14-8101f33b337d",
   "metadata": {},
   "outputs": [],
   "source": [
    "model"
   ]
  },
  {
   "cell_type": "code",
   "execution_count": null,
   "id": "0c9f0123-fccb-491b-beb8-941f81db2de0",
   "metadata": {},
   "outputs": [],
   "source": []
  }
 ],
 "metadata": {
  "kernelspec": {
   "display_name": "Python [conda env:oi_torch_py39]",
   "language": "python",
   "name": "conda-env-oi_torch_py39-py"
  },
  "language_info": {
   "codemirror_mode": {
    "name": "ipython",
    "version": 3
   },
   "file_extension": ".py",
   "mimetype": "text/x-python",
   "name": "python",
   "nbconvert_exporter": "python",
   "pygments_lexer": "ipython3",
   "version": "3.9.7"
  }
 },
 "nbformat": 4,
 "nbformat_minor": 5
}
